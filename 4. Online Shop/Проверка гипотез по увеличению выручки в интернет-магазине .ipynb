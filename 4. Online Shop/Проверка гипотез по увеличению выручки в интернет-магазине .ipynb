{
 "cells": [
  {
   "cell_type": "markdown",
   "metadata": {},
   "source": [
    "# Приоретизация гипотез и проведение A/B теста для интернет-магазина"
   ]
  },
  {
   "cell_type": "markdown",
   "metadata": {},
   "source": [
    "**ЦЕЛИ И ХОД ИССЛЕДОВАНИЯ**\n",
    "\n",
    "**Вводные**\\\n",
    "Вместе с отделом маркетинга был подготовлен список из 9 гипотез для увеличения выручки в крупном интернет-магазине.\n",
    "\n",
    "**Цели**\\\n",
    "Приоритизировать гипотезы, запустить A/B-тест, проанализировать результаты и принять решение по результатам проведения теста. \n",
    "\n",
    "**Задачи**\\\n",
    "Для решения вышеуказанных целей мы решим следующие задачи:\n",
    "\n",
    "* Для приоретизации 9 гипотез применим фреймворки ICE и RICE \n",
    "* В рамках проведения A/B теста проанализируем графики кумулятивыной выручки и среднего чека по группам\n",
    "* Проанализируем графики относительного изменения кумулятивного среднего количества заказов и среднего чека на посетителя группы B к группе A\n",
    "* Проанализируем график кумулятивного среднего количества заказов на посетителя по группам\n",
    "* Выявим аномалии в выборках\n",
    "* Вычислим 95-й и 99-й перцентили стоимости заказов и кол-ва заказов на пользователя\n",
    "* Определим статистическую значимость различий в среднем чеке заказа и средним кол-вом заказов между группами по «сырым» данным и «оцищенным» (без аномалий) данным\n",
    "\n",
    "\n",
    "Структура ``/datasets/hypothesis.csv`` :\\\n",
    "•\tHypothesis — краткое описание гипотезы;\\\n",
    "•\tReach — охват пользователей по 10-балльной шкале;\\\n",
    "•\tImpact — влияние на пользователей по 10-балльной шкале;\\\n",
    "•\tConfidence — уверенность в гипотезе по 10-балльной шкале;\\\n",
    "•\tEfforts — затраты ресурсов на проверку гипотезы по 10-балльной шкале. Чем больше значение Efforts, тем дороже проверка гипотезы.\n",
    "\n",
    "Структура ``/datasets/orders.csv``:\\\n",
    "•\ttransactionId — идентификатор заказа;\\\n",
    "•\tvisitorId — идентификатор пользователя, совершившего заказ;\\\n",
    "•\tdate — дата, когда был совершён заказ;\\\n",
    "•\trevenue — выручка заказа;\\\n",
    "•\tgroup — группа A/B-теста, в которую попал заказ.\n",
    "\n",
    "Структура ``/datasets/visitors.csv``:\\\n",
    "•\tdate — дата;\\\n",
    "•\tgroup — группа A/B-теста;\\\n",
    "•\tvisitors — количество пользователей в указанную дату в указанной группе A/B-теста"
   ]
  },
  {
   "cell_type": "markdown",
   "metadata": {},
   "source": [
    "## Приоритизация гипотез"
   ]
  },
  {
   "cell_type": "markdown",
   "metadata": {},
   "source": [
    "### Применим фреймворк ICE для приоритизации гипотез"
   ]
  },
  {
   "cell_type": "code",
   "execution_count": 1,
   "metadata": {},
   "outputs": [],
   "source": [
    "import pandas as pd\n",
    "hypothesis = pd.read_csv('/datasets/hypothesis.csv')"
   ]
  },
  {
   "cell_type": "code",
   "execution_count": 2,
   "metadata": {
    "scrolled": true
   },
   "outputs": [
    {
     "data": {
      "text/html": [
       "<div>\n",
       "<style scoped>\n",
       "    .dataframe tbody tr th:only-of-type {\n",
       "        vertical-align: middle;\n",
       "    }\n",
       "\n",
       "    .dataframe tbody tr th {\n",
       "        vertical-align: top;\n",
       "    }\n",
       "\n",
       "    .dataframe thead th {\n",
       "        text-align: right;\n",
       "    }\n",
       "</style>\n",
       "<table border=\"1\" class=\"dataframe\">\n",
       "  <thead>\n",
       "    <tr style=\"text-align: right;\">\n",
       "      <th></th>\n",
       "      <th>Hypothesis</th>\n",
       "      <th>Reach</th>\n",
       "      <th>Impact</th>\n",
       "      <th>Confidence</th>\n",
       "      <th>Efforts</th>\n",
       "    </tr>\n",
       "  </thead>\n",
       "  <tbody>\n",
       "    <tr>\n",
       "      <th>0</th>\n",
       "      <td>Добавить два новых канала привлечения трафика,...</td>\n",
       "      <td>3</td>\n",
       "      <td>10</td>\n",
       "      <td>8</td>\n",
       "      <td>6</td>\n",
       "    </tr>\n",
       "    <tr>\n",
       "      <th>1</th>\n",
       "      <td>Запустить собственную службу доставки, что сок...</td>\n",
       "      <td>2</td>\n",
       "      <td>5</td>\n",
       "      <td>4</td>\n",
       "      <td>10</td>\n",
       "    </tr>\n",
       "    <tr>\n",
       "      <th>2</th>\n",
       "      <td>Добавить блоки рекомендаций товаров на сайт ин...</td>\n",
       "      <td>8</td>\n",
       "      <td>3</td>\n",
       "      <td>7</td>\n",
       "      <td>3</td>\n",
       "    </tr>\n",
       "    <tr>\n",
       "      <th>3</th>\n",
       "      <td>Изменить структура категорий, что увеличит кон...</td>\n",
       "      <td>8</td>\n",
       "      <td>3</td>\n",
       "      <td>3</td>\n",
       "      <td>8</td>\n",
       "    </tr>\n",
       "    <tr>\n",
       "      <th>4</th>\n",
       "      <td>Изменить цвет фона главной страницы, чтобы уве...</td>\n",
       "      <td>3</td>\n",
       "      <td>1</td>\n",
       "      <td>1</td>\n",
       "      <td>1</td>\n",
       "    </tr>\n",
       "    <tr>\n",
       "      <th>5</th>\n",
       "      <td>Добавить страницу отзывов клиентов о магазине,...</td>\n",
       "      <td>3</td>\n",
       "      <td>2</td>\n",
       "      <td>2</td>\n",
       "      <td>3</td>\n",
       "    </tr>\n",
       "    <tr>\n",
       "      <th>6</th>\n",
       "      <td>Показать на главной странице баннеры с актуаль...</td>\n",
       "      <td>5</td>\n",
       "      <td>3</td>\n",
       "      <td>8</td>\n",
       "      <td>3</td>\n",
       "    </tr>\n",
       "    <tr>\n",
       "      <th>7</th>\n",
       "      <td>Добавить форму подписки на все основные страни...</td>\n",
       "      <td>10</td>\n",
       "      <td>7</td>\n",
       "      <td>8</td>\n",
       "      <td>5</td>\n",
       "    </tr>\n",
       "    <tr>\n",
       "      <th>8</th>\n",
       "      <td>Запустить акцию, дающую скидку на товар в день...</td>\n",
       "      <td>1</td>\n",
       "      <td>9</td>\n",
       "      <td>9</td>\n",
       "      <td>5</td>\n",
       "    </tr>\n",
       "  </tbody>\n",
       "</table>\n",
       "</div>"
      ],
      "text/plain": [
       "                                          Hypothesis  Reach  Impact  \\\n",
       "0  Добавить два новых канала привлечения трафика,...      3      10   \n",
       "1  Запустить собственную службу доставки, что сок...      2       5   \n",
       "2  Добавить блоки рекомендаций товаров на сайт ин...      8       3   \n",
       "3  Изменить структура категорий, что увеличит кон...      8       3   \n",
       "4  Изменить цвет фона главной страницы, чтобы уве...      3       1   \n",
       "5  Добавить страницу отзывов клиентов о магазине,...      3       2   \n",
       "6  Показать на главной странице баннеры с актуаль...      5       3   \n",
       "7  Добавить форму подписки на все основные страни...     10       7   \n",
       "8  Запустить акцию, дающую скидку на товар в день...      1       9   \n",
       "\n",
       "   Confidence  Efforts  \n",
       "0           8        6  \n",
       "1           4       10  \n",
       "2           7        3  \n",
       "3           3        8  \n",
       "4           1        1  \n",
       "5           2        3  \n",
       "6           8        3  \n",
       "7           8        5  \n",
       "8           9        5  "
      ]
     },
     "execution_count": 2,
     "metadata": {},
     "output_type": "execute_result"
    }
   ],
   "source": [
    "hypothesis"
   ]
  },
  {
   "cell_type": "code",
   "execution_count": 3,
   "metadata": {
    "scrolled": true
   },
   "outputs": [
    {
     "data": {
      "text/html": [
       "<div>\n",
       "<style scoped>\n",
       "    .dataframe tbody tr th:only-of-type {\n",
       "        vertical-align: middle;\n",
       "    }\n",
       "\n",
       "    .dataframe tbody tr th {\n",
       "        vertical-align: top;\n",
       "    }\n",
       "\n",
       "    .dataframe thead th {\n",
       "        text-align: right;\n",
       "    }\n",
       "</style>\n",
       "<table border=\"1\" class=\"dataframe\">\n",
       "  <thead>\n",
       "    <tr style=\"text-align: right;\">\n",
       "      <th></th>\n",
       "      <th>Hypothesis</th>\n",
       "      <th>ICE</th>\n",
       "    </tr>\n",
       "  </thead>\n",
       "  <tbody>\n",
       "    <tr>\n",
       "      <th>8</th>\n",
       "      <td>Запустить акцию, дающую скидку на товар в день...</td>\n",
       "      <td>16.200000</td>\n",
       "    </tr>\n",
       "    <tr>\n",
       "      <th>0</th>\n",
       "      <td>Добавить два новых канала привлечения трафика,...</td>\n",
       "      <td>13.333333</td>\n",
       "    </tr>\n",
       "    <tr>\n",
       "      <th>7</th>\n",
       "      <td>Добавить форму подписки на все основные страни...</td>\n",
       "      <td>11.200000</td>\n",
       "    </tr>\n",
       "    <tr>\n",
       "      <th>6</th>\n",
       "      <td>Показать на главной странице баннеры с актуаль...</td>\n",
       "      <td>8.000000</td>\n",
       "    </tr>\n",
       "    <tr>\n",
       "      <th>2</th>\n",
       "      <td>Добавить блоки рекомендаций товаров на сайт ин...</td>\n",
       "      <td>7.000000</td>\n",
       "    </tr>\n",
       "    <tr>\n",
       "      <th>1</th>\n",
       "      <td>Запустить собственную службу доставки, что сок...</td>\n",
       "      <td>2.000000</td>\n",
       "    </tr>\n",
       "    <tr>\n",
       "      <th>5</th>\n",
       "      <td>Добавить страницу отзывов клиентов о магазине,...</td>\n",
       "      <td>1.333333</td>\n",
       "    </tr>\n",
       "    <tr>\n",
       "      <th>3</th>\n",
       "      <td>Изменить структура категорий, что увеличит кон...</td>\n",
       "      <td>1.125000</td>\n",
       "    </tr>\n",
       "    <tr>\n",
       "      <th>4</th>\n",
       "      <td>Изменить цвет фона главной страницы, чтобы уве...</td>\n",
       "      <td>1.000000</td>\n",
       "    </tr>\n",
       "  </tbody>\n",
       "</table>\n",
       "</div>"
      ],
      "text/plain": [
       "                                          Hypothesis        ICE\n",
       "8  Запустить акцию, дающую скидку на товар в день...  16.200000\n",
       "0  Добавить два новых канала привлечения трафика,...  13.333333\n",
       "7  Добавить форму подписки на все основные страни...  11.200000\n",
       "6  Показать на главной странице баннеры с актуаль...   8.000000\n",
       "2  Добавить блоки рекомендаций товаров на сайт ин...   7.000000\n",
       "1  Запустить собственную службу доставки, что сок...   2.000000\n",
       "5  Добавить страницу отзывов клиентов о магазине,...   1.333333\n",
       "3  Изменить структура категорий, что увеличит кон...   1.125000\n",
       "4  Изменить цвет фона главной страницы, чтобы уве...   1.000000"
      ]
     },
     "execution_count": 3,
     "metadata": {},
     "output_type": "execute_result"
    }
   ],
   "source": [
    "hypothesis['ICE']=hypothesis['Impact']*hypothesis['Confidence']/hypothesis['Efforts']\n",
    "\n",
    "hypothesis[['Hypothesis', 'ICE']].sort_values(by='ICE', ascending=False)"
   ]
  },
  {
   "cell_type": "markdown",
   "metadata": {},
   "source": [
    "Наиболее перспективные гипотезы по методу ICE - ``8, 0, 7``"
   ]
  },
  {
   "cell_type": "markdown",
   "metadata": {},
   "source": [
    "### Применим фреймворк RICE для приоритизации гипотез"
   ]
  },
  {
   "cell_type": "code",
   "execution_count": 4,
   "metadata": {},
   "outputs": [
    {
     "data": {
      "text/html": [
       "<div>\n",
       "<style scoped>\n",
       "    .dataframe tbody tr th:only-of-type {\n",
       "        vertical-align: middle;\n",
       "    }\n",
       "\n",
       "    .dataframe tbody tr th {\n",
       "        vertical-align: top;\n",
       "    }\n",
       "\n",
       "    .dataframe thead th {\n",
       "        text-align: right;\n",
       "    }\n",
       "</style>\n",
       "<table border=\"1\" class=\"dataframe\">\n",
       "  <thead>\n",
       "    <tr style=\"text-align: right;\">\n",
       "      <th></th>\n",
       "      <th>Hypothesis</th>\n",
       "      <th>RICE</th>\n",
       "    </tr>\n",
       "  </thead>\n",
       "  <tbody>\n",
       "    <tr>\n",
       "      <th>7</th>\n",
       "      <td>Добавить форму подписки на все основные страни...</td>\n",
       "      <td>112.0</td>\n",
       "    </tr>\n",
       "    <tr>\n",
       "      <th>2</th>\n",
       "      <td>Добавить блоки рекомендаций товаров на сайт ин...</td>\n",
       "      <td>56.0</td>\n",
       "    </tr>\n",
       "    <tr>\n",
       "      <th>0</th>\n",
       "      <td>Добавить два новых канала привлечения трафика,...</td>\n",
       "      <td>40.0</td>\n",
       "    </tr>\n",
       "    <tr>\n",
       "      <th>6</th>\n",
       "      <td>Показать на главной странице баннеры с актуаль...</td>\n",
       "      <td>40.0</td>\n",
       "    </tr>\n",
       "    <tr>\n",
       "      <th>8</th>\n",
       "      <td>Запустить акцию, дающую скидку на товар в день...</td>\n",
       "      <td>16.2</td>\n",
       "    </tr>\n",
       "    <tr>\n",
       "      <th>3</th>\n",
       "      <td>Изменить структура категорий, что увеличит кон...</td>\n",
       "      <td>9.0</td>\n",
       "    </tr>\n",
       "    <tr>\n",
       "      <th>1</th>\n",
       "      <td>Запустить собственную службу доставки, что сок...</td>\n",
       "      <td>4.0</td>\n",
       "    </tr>\n",
       "    <tr>\n",
       "      <th>5</th>\n",
       "      <td>Добавить страницу отзывов клиентов о магазине,...</td>\n",
       "      <td>4.0</td>\n",
       "    </tr>\n",
       "    <tr>\n",
       "      <th>4</th>\n",
       "      <td>Изменить цвет фона главной страницы, чтобы уве...</td>\n",
       "      <td>3.0</td>\n",
       "    </tr>\n",
       "  </tbody>\n",
       "</table>\n",
       "</div>"
      ],
      "text/plain": [
       "                                          Hypothesis   RICE\n",
       "7  Добавить форму подписки на все основные страни...  112.0\n",
       "2  Добавить блоки рекомендаций товаров на сайт ин...   56.0\n",
       "0  Добавить два новых канала привлечения трафика,...   40.0\n",
       "6  Показать на главной странице баннеры с актуаль...   40.0\n",
       "8  Запустить акцию, дающую скидку на товар в день...   16.2\n",
       "3  Изменить структура категорий, что увеличит кон...    9.0\n",
       "1  Запустить собственную службу доставки, что сок...    4.0\n",
       "5  Добавить страницу отзывов клиентов о магазине,...    4.0\n",
       "4  Изменить цвет фона главной страницы, чтобы уве...    3.0"
      ]
     },
     "execution_count": 4,
     "metadata": {},
     "output_type": "execute_result"
    }
   ],
   "source": [
    "hypothesis['RICE']=(hypothesis['Reach']*hypothesis['Impact']*hypothesis['Confidence'])/hypothesis['Efforts']\n",
    "hypothesis[['Hypothesis', 'RICE']].sort_values(by='RICE', ascending=False)"
   ]
  },
  {
   "cell_type": "markdown",
   "metadata": {},
   "source": [
    "Наиболее перспективные гипотезы по методу RICE - ``7, 2, 0, 6, 8``. **Явный лидер** - гипотеза ``7``."
   ]
  },
  {
   "cell_type": "code",
   "execution_count": 5,
   "metadata": {},
   "outputs": [
    {
     "data": {
      "text/html": [
       "<div>\n",
       "<style scoped>\n",
       "    .dataframe tbody tr th:only-of-type {\n",
       "        vertical-align: middle;\n",
       "    }\n",
       "\n",
       "    .dataframe tbody tr th {\n",
       "        vertical-align: top;\n",
       "    }\n",
       "\n",
       "    .dataframe thead th {\n",
       "        text-align: right;\n",
       "    }\n",
       "</style>\n",
       "<table border=\"1\" class=\"dataframe\">\n",
       "  <thead>\n",
       "    <tr style=\"text-align: right;\">\n",
       "      <th></th>\n",
       "      <th>Hypothesis</th>\n",
       "      <th>Reach</th>\n",
       "      <th>Impact</th>\n",
       "      <th>Confidence</th>\n",
       "      <th>Efforts</th>\n",
       "      <th>ICE</th>\n",
       "      <th>RICE</th>\n",
       "    </tr>\n",
       "  </thead>\n",
       "  <tbody>\n",
       "    <tr>\n",
       "      <th>0</th>\n",
       "      <td>Добавить два новых канала привлечения трафика, что позволит привлекать на 30% больше пользователей</td>\n",
       "      <td>3</td>\n",
       "      <td>10</td>\n",
       "      <td>8</td>\n",
       "      <td>6</td>\n",
       "      <td>13.333333</td>\n",
       "      <td>40.0</td>\n",
       "    </tr>\n",
       "    <tr>\n",
       "      <th>1</th>\n",
       "      <td>Запустить собственную службу доставки, что сократит срок доставки заказов</td>\n",
       "      <td>2</td>\n",
       "      <td>5</td>\n",
       "      <td>4</td>\n",
       "      <td>10</td>\n",
       "      <td>2.000000</td>\n",
       "      <td>4.0</td>\n",
       "    </tr>\n",
       "    <tr>\n",
       "      <th>2</th>\n",
       "      <td>Добавить блоки рекомендаций товаров на сайт интернет магазина, чтобы повысить конверсию и средний чек заказа</td>\n",
       "      <td>8</td>\n",
       "      <td>3</td>\n",
       "      <td>7</td>\n",
       "      <td>3</td>\n",
       "      <td>7.000000</td>\n",
       "      <td>56.0</td>\n",
       "    </tr>\n",
       "    <tr>\n",
       "      <th>3</th>\n",
       "      <td>Изменить структура категорий, что увеличит конверсию, т.к. пользователи быстрее найдут нужный товар</td>\n",
       "      <td>8</td>\n",
       "      <td>3</td>\n",
       "      <td>3</td>\n",
       "      <td>8</td>\n",
       "      <td>1.125000</td>\n",
       "      <td>9.0</td>\n",
       "    </tr>\n",
       "    <tr>\n",
       "      <th>4</th>\n",
       "      <td>Изменить цвет фона главной страницы, чтобы увеличить вовлеченность пользователей</td>\n",
       "      <td>3</td>\n",
       "      <td>1</td>\n",
       "      <td>1</td>\n",
       "      <td>1</td>\n",
       "      <td>1.000000</td>\n",
       "      <td>3.0</td>\n",
       "    </tr>\n",
       "    <tr>\n",
       "      <th>5</th>\n",
       "      <td>Добавить страницу отзывов клиентов о магазине, что позволит увеличить количество заказов</td>\n",
       "      <td>3</td>\n",
       "      <td>2</td>\n",
       "      <td>2</td>\n",
       "      <td>3</td>\n",
       "      <td>1.333333</td>\n",
       "      <td>4.0</td>\n",
       "    </tr>\n",
       "    <tr>\n",
       "      <th>6</th>\n",
       "      <td>Показать на главной странице баннеры с актуальными акциями и распродажами, чтобы увеличить конверсию</td>\n",
       "      <td>5</td>\n",
       "      <td>3</td>\n",
       "      <td>8</td>\n",
       "      <td>3</td>\n",
       "      <td>8.000000</td>\n",
       "      <td>40.0</td>\n",
       "    </tr>\n",
       "    <tr>\n",
       "      <th>7</th>\n",
       "      <td>Добавить форму подписки на все основные страницы, чтобы собрать базу клиентов для email-рассылок</td>\n",
       "      <td>10</td>\n",
       "      <td>7</td>\n",
       "      <td>8</td>\n",
       "      <td>5</td>\n",
       "      <td>11.200000</td>\n",
       "      <td>112.0</td>\n",
       "    </tr>\n",
       "    <tr>\n",
       "      <th>8</th>\n",
       "      <td>Запустить акцию, дающую скидку на товар в день рождения</td>\n",
       "      <td>1</td>\n",
       "      <td>9</td>\n",
       "      <td>9</td>\n",
       "      <td>5</td>\n",
       "      <td>16.200000</td>\n",
       "      <td>16.2</td>\n",
       "    </tr>\n",
       "  </tbody>\n",
       "</table>\n",
       "</div>"
      ],
      "text/plain": [
       "                                                                                                     Hypothesis  \\\n",
       "0            Добавить два новых канала привлечения трафика, что позволит привлекать на 30% больше пользователей   \n",
       "1                                     Запустить собственную службу доставки, что сократит срок доставки заказов   \n",
       "2  Добавить блоки рекомендаций товаров на сайт интернет магазина, чтобы повысить конверсию и средний чек заказа   \n",
       "3           Изменить структура категорий, что увеличит конверсию, т.к. пользователи быстрее найдут нужный товар   \n",
       "4                              Изменить цвет фона главной страницы, чтобы увеличить вовлеченность пользователей   \n",
       "5                      Добавить страницу отзывов клиентов о магазине, что позволит увеличить количество заказов   \n",
       "6          Показать на главной странице баннеры с актуальными акциями и распродажами, чтобы увеличить конверсию   \n",
       "7              Добавить форму подписки на все основные страницы, чтобы собрать базу клиентов для email-рассылок   \n",
       "8                                                       Запустить акцию, дающую скидку на товар в день рождения   \n",
       "\n",
       "   Reach  Impact  Confidence  Efforts        ICE   RICE  \n",
       "0      3      10           8        6  13.333333   40.0  \n",
       "1      2       5           4       10   2.000000    4.0  \n",
       "2      8       3           7        3   7.000000   56.0  \n",
       "3      8       3           3        8   1.125000    9.0  \n",
       "4      3       1           1        1   1.000000    3.0  \n",
       "5      3       2           2        3   1.333333    4.0  \n",
       "6      5       3           8        3   8.000000   40.0  \n",
       "7     10       7           8        5  11.200000  112.0  \n",
       "8      1       9           9        5  16.200000   16.2  "
      ]
     },
     "execution_count": 5,
     "metadata": {},
     "output_type": "execute_result"
    }
   ],
   "source": [
    "pd.options.display.max_colwidth = 150\n",
    "hypothesis.style.background_gradient(subset=[['RICE','ICE']], cmap=\"YlGnBu\")\n",
    "hypothesis"
   ]
  },
  {
   "cell_type": "markdown",
   "metadata": {},
   "source": [
    "### Выясним, как изменилась приоритизация гипотез при применении RICE вместо ICE"
   ]
  },
  {
   "cell_type": "markdown",
   "metadata": {},
   "source": [
    "Гипотезы ``0 и 7`` приоритетны по результатам применения обоих фреймворков.\\\n",
    "В методе RICE гипотеза ``8`` уходит с 1го на 5й план. Причина  в том, что в методе ICE параметр Reach не учитывается. В Rice учитывается, и по исходным данным параметр Reach у гипотезы 8 один из самых низкоприоритетных.\\\n",
    "Выбор следует остановить между гипотезами 0 и 7, так как в обеих методах они занимают примерно равнозначное место. Гипотезу 8 рассматривать не стоит, так как она охватывает слишком мало людей.\\\n",
    "Я бы рекомендовала тестировать гипотезу ``7``, так как не смотря на то, что параметры Impact, Efforts и Confidence примерно равнозначны в гипотезах ``0 и 7``, в рамках ``7`` гипотезы охватывается в 3 раза больше людей."
   ]
  },
  {
   "cell_type": "markdown",
   "metadata": {},
   "source": [
    "## Анализ A/B-теста"
   ]
  },
  {
   "cell_type": "code",
   "execution_count": 6,
   "metadata": {},
   "outputs": [],
   "source": [
    "# сохраним выгрузки и сохраним в переменные\n",
    "orders = pd.read_csv('/datasets/orders.csv')\n",
    "visitors = pd.read_csv('/datasets/visitors.csv')"
   ]
  },
  {
   "cell_type": "code",
   "execution_count": 7,
   "metadata": {
    "scrolled": true
   },
   "outputs": [
    {
     "data": {
      "text/html": [
       "<div>\n",
       "<style scoped>\n",
       "    .dataframe tbody tr th:only-of-type {\n",
       "        vertical-align: middle;\n",
       "    }\n",
       "\n",
       "    .dataframe tbody tr th {\n",
       "        vertical-align: top;\n",
       "    }\n",
       "\n",
       "    .dataframe thead th {\n",
       "        text-align: right;\n",
       "    }\n",
       "</style>\n",
       "<table border=\"1\" class=\"dataframe\">\n",
       "  <thead>\n",
       "    <tr style=\"text-align: right;\">\n",
       "      <th></th>\n",
       "      <th>date</th>\n",
       "      <th>group</th>\n",
       "      <th>visitors</th>\n",
       "    </tr>\n",
       "  </thead>\n",
       "  <tbody>\n",
       "    <tr>\n",
       "      <th>0</th>\n",
       "      <td>2019-08-01</td>\n",
       "      <td>A</td>\n",
       "      <td>719</td>\n",
       "    </tr>\n",
       "    <tr>\n",
       "      <th>1</th>\n",
       "      <td>2019-08-02</td>\n",
       "      <td>A</td>\n",
       "      <td>619</td>\n",
       "    </tr>\n",
       "    <tr>\n",
       "      <th>2</th>\n",
       "      <td>2019-08-03</td>\n",
       "      <td>A</td>\n",
       "      <td>507</td>\n",
       "    </tr>\n",
       "    <tr>\n",
       "      <th>3</th>\n",
       "      <td>2019-08-04</td>\n",
       "      <td>A</td>\n",
       "      <td>717</td>\n",
       "    </tr>\n",
       "    <tr>\n",
       "      <th>4</th>\n",
       "      <td>2019-08-05</td>\n",
       "      <td>A</td>\n",
       "      <td>756</td>\n",
       "    </tr>\n",
       "    <tr>\n",
       "      <th>...</th>\n",
       "      <td>...</td>\n",
       "      <td>...</td>\n",
       "      <td>...</td>\n",
       "    </tr>\n",
       "    <tr>\n",
       "      <th>57</th>\n",
       "      <td>2019-08-27</td>\n",
       "      <td>B</td>\n",
       "      <td>720</td>\n",
       "    </tr>\n",
       "    <tr>\n",
       "      <th>58</th>\n",
       "      <td>2019-08-28</td>\n",
       "      <td>B</td>\n",
       "      <td>654</td>\n",
       "    </tr>\n",
       "    <tr>\n",
       "      <th>59</th>\n",
       "      <td>2019-08-29</td>\n",
       "      <td>B</td>\n",
       "      <td>531</td>\n",
       "    </tr>\n",
       "    <tr>\n",
       "      <th>60</th>\n",
       "      <td>2019-08-30</td>\n",
       "      <td>B</td>\n",
       "      <td>490</td>\n",
       "    </tr>\n",
       "    <tr>\n",
       "      <th>61</th>\n",
       "      <td>2019-08-31</td>\n",
       "      <td>B</td>\n",
       "      <td>718</td>\n",
       "    </tr>\n",
       "  </tbody>\n",
       "</table>\n",
       "<p>62 rows × 3 columns</p>\n",
       "</div>"
      ],
      "text/plain": [
       "          date group  visitors\n",
       "0   2019-08-01     A       719\n",
       "1   2019-08-02     A       619\n",
       "2   2019-08-03     A       507\n",
       "3   2019-08-04     A       717\n",
       "4   2019-08-05     A       756\n",
       "..         ...   ...       ...\n",
       "57  2019-08-27     B       720\n",
       "58  2019-08-28     B       654\n",
       "59  2019-08-29     B       531\n",
       "60  2019-08-30     B       490\n",
       "61  2019-08-31     B       718\n",
       "\n",
       "[62 rows x 3 columns]"
      ]
     },
     "execution_count": 7,
     "metadata": {},
     "output_type": "execute_result"
    }
   ],
   "source": [
    "visitors"
   ]
  },
  {
   "cell_type": "code",
   "execution_count": 8,
   "metadata": {
    "scrolled": true
   },
   "outputs": [
    {
     "data": {
      "text/html": [
       "<div>\n",
       "<style scoped>\n",
       "    .dataframe tbody tr th:only-of-type {\n",
       "        vertical-align: middle;\n",
       "    }\n",
       "\n",
       "    .dataframe tbody tr th {\n",
       "        vertical-align: top;\n",
       "    }\n",
       "\n",
       "    .dataframe thead th {\n",
       "        text-align: right;\n",
       "    }\n",
       "</style>\n",
       "<table border=\"1\" class=\"dataframe\">\n",
       "  <thead>\n",
       "    <tr style=\"text-align: right;\">\n",
       "      <th></th>\n",
       "      <th>transactionId</th>\n",
       "      <th>visitorId</th>\n",
       "      <th>date</th>\n",
       "      <th>revenue</th>\n",
       "      <th>group</th>\n",
       "    </tr>\n",
       "  </thead>\n",
       "  <tbody>\n",
       "    <tr>\n",
       "      <th>0</th>\n",
       "      <td>3667963787</td>\n",
       "      <td>3312258926</td>\n",
       "      <td>2019-08-15</td>\n",
       "      <td>1650</td>\n",
       "      <td>B</td>\n",
       "    </tr>\n",
       "    <tr>\n",
       "      <th>1</th>\n",
       "      <td>2804400009</td>\n",
       "      <td>3642806036</td>\n",
       "      <td>2019-08-15</td>\n",
       "      <td>730</td>\n",
       "      <td>B</td>\n",
       "    </tr>\n",
       "    <tr>\n",
       "      <th>2</th>\n",
       "      <td>2961555356</td>\n",
       "      <td>4069496402</td>\n",
       "      <td>2019-08-15</td>\n",
       "      <td>400</td>\n",
       "      <td>A</td>\n",
       "    </tr>\n",
       "    <tr>\n",
       "      <th>3</th>\n",
       "      <td>3797467345</td>\n",
       "      <td>1196621759</td>\n",
       "      <td>2019-08-15</td>\n",
       "      <td>9759</td>\n",
       "      <td>B</td>\n",
       "    </tr>\n",
       "    <tr>\n",
       "      <th>4</th>\n",
       "      <td>2282983706</td>\n",
       "      <td>2322279887</td>\n",
       "      <td>2019-08-15</td>\n",
       "      <td>2308</td>\n",
       "      <td>B</td>\n",
       "    </tr>\n",
       "    <tr>\n",
       "      <th>...</th>\n",
       "      <td>...</td>\n",
       "      <td>...</td>\n",
       "      <td>...</td>\n",
       "      <td>...</td>\n",
       "      <td>...</td>\n",
       "    </tr>\n",
       "    <tr>\n",
       "      <th>1192</th>\n",
       "      <td>2662137336</td>\n",
       "      <td>3733762160</td>\n",
       "      <td>2019-08-14</td>\n",
       "      <td>6490</td>\n",
       "      <td>B</td>\n",
       "    </tr>\n",
       "    <tr>\n",
       "      <th>1193</th>\n",
       "      <td>2203539145</td>\n",
       "      <td>370388673</td>\n",
       "      <td>2019-08-14</td>\n",
       "      <td>3190</td>\n",
       "      <td>A</td>\n",
       "    </tr>\n",
       "    <tr>\n",
       "      <th>1194</th>\n",
       "      <td>1807773912</td>\n",
       "      <td>573423106</td>\n",
       "      <td>2019-08-14</td>\n",
       "      <td>10550</td>\n",
       "      <td>A</td>\n",
       "    </tr>\n",
       "    <tr>\n",
       "      <th>1195</th>\n",
       "      <td>1947021204</td>\n",
       "      <td>1614305549</td>\n",
       "      <td>2019-08-14</td>\n",
       "      <td>100</td>\n",
       "      <td>A</td>\n",
       "    </tr>\n",
       "    <tr>\n",
       "      <th>1196</th>\n",
       "      <td>3936777065</td>\n",
       "      <td>2108080724</td>\n",
       "      <td>2019-08-15</td>\n",
       "      <td>202740</td>\n",
       "      <td>B</td>\n",
       "    </tr>\n",
       "  </tbody>\n",
       "</table>\n",
       "<p>1197 rows × 5 columns</p>\n",
       "</div>"
      ],
      "text/plain": [
       "      transactionId   visitorId        date  revenue group\n",
       "0        3667963787  3312258926  2019-08-15     1650     B\n",
       "1        2804400009  3642806036  2019-08-15      730     B\n",
       "2        2961555356  4069496402  2019-08-15      400     A\n",
       "3        3797467345  1196621759  2019-08-15     9759     B\n",
       "4        2282983706  2322279887  2019-08-15     2308     B\n",
       "...             ...         ...         ...      ...   ...\n",
       "1192     2662137336  3733762160  2019-08-14     6490     B\n",
       "1193     2203539145   370388673  2019-08-14     3190     A\n",
       "1194     1807773912   573423106  2019-08-14    10550     A\n",
       "1195     1947021204  1614305549  2019-08-14      100     A\n",
       "1196     3936777065  2108080724  2019-08-15   202740     B\n",
       "\n",
       "[1197 rows x 5 columns]"
      ]
     },
     "execution_count": 8,
     "metadata": {},
     "output_type": "execute_result"
    }
   ],
   "source": [
    "orders"
   ]
  },
  {
   "cell_type": "markdown",
   "metadata": {},
   "source": [
    "Проверим, сколько групп участвовало в A/B тесте"
   ]
  },
  {
   "cell_type": "code",
   "execution_count": 9,
   "metadata": {
    "scrolled": true
   },
   "outputs": [
    {
     "data": {
      "text/plain": [
       "array(['B', 'A'], dtype=object)"
      ]
     },
     "execution_count": 9,
     "metadata": {},
     "output_type": "execute_result"
    }
   ],
   "source": [
    "orders['group'].unique()"
   ]
  },
  {
   "cell_type": "markdown",
   "metadata": {},
   "source": [
    "Проверим, сколько пользователей в каждой группе"
   ]
  },
  {
   "cell_type": "code",
   "execution_count": 10,
   "metadata": {
    "scrolled": true
   },
   "outputs": [
    {
     "data": {
      "text/html": [
       "<div>\n",
       "<style scoped>\n",
       "    .dataframe tbody tr th:only-of-type {\n",
       "        vertical-align: middle;\n",
       "    }\n",
       "\n",
       "    .dataframe tbody tr th {\n",
       "        vertical-align: top;\n",
       "    }\n",
       "\n",
       "    .dataframe thead th {\n",
       "        text-align: right;\n",
       "    }\n",
       "</style>\n",
       "<table border=\"1\" class=\"dataframe\">\n",
       "  <thead>\n",
       "    <tr style=\"text-align: right;\">\n",
       "      <th></th>\n",
       "      <th>group</th>\n",
       "      <th>visitorId</th>\n",
       "    </tr>\n",
       "  </thead>\n",
       "  <tbody>\n",
       "    <tr>\n",
       "      <th>0</th>\n",
       "      <td>A</td>\n",
       "      <td>503</td>\n",
       "    </tr>\n",
       "    <tr>\n",
       "      <th>1</th>\n",
       "      <td>B</td>\n",
       "      <td>586</td>\n",
       "    </tr>\n",
       "  </tbody>\n",
       "</table>\n",
       "</div>"
      ],
      "text/plain": [
       "  group  visitorId\n",
       "0     A        503\n",
       "1     B        586"
      ]
     },
     "execution_count": 10,
     "metadata": {},
     "output_type": "execute_result"
    }
   ],
   "source": [
    "orders.groupby('group', as_index=False).agg({'visitorId': 'nunique'})"
   ]
  },
  {
   "cell_type": "markdown",
   "metadata": {},
   "source": [
    "*В группе В пользователей большое на 16%, чем в группе А*"
   ]
  },
  {
   "cell_type": "code",
   "execution_count": 11,
   "metadata": {},
   "outputs": [
    {
     "data": {
      "text/plain": [
       "array(['A', 'B'], dtype=object)"
      ]
     },
     "execution_count": 11,
     "metadata": {},
     "output_type": "execute_result"
    }
   ],
   "source": [
    "visitors['group'].unique()"
   ]
  },
  {
   "cell_type": "markdown",
   "metadata": {},
   "source": [
    "Проверим - не попадают ли какие-то пользователи в обе группы"
   ]
  },
  {
   "cell_type": "code",
   "execution_count": 12,
   "metadata": {
    "scrolled": true
   },
   "outputs": [
    {
     "data": {
      "text/plain": [
       "{8300375,\n",
       " 199603092,\n",
       " 232979603,\n",
       " 237748145,\n",
       " 276558944,\n",
       " 351125977,\n",
       " 393266494,\n",
       " 457167155,\n",
       " 471551937,\n",
       " 477780734,\n",
       " 818047933,\n",
       " 963407295,\n",
       " 1230306981,\n",
       " 1294878855,\n",
       " 1316129916,\n",
       " 1333886533,\n",
       " 1404934699,\n",
       " 1602967004,\n",
       " 1614305549,\n",
       " 1648269707,\n",
       " 1668030113,\n",
       " 1738359350,\n",
       " 1801183820,\n",
       " 1959144690,\n",
       " 2038680547,\n",
       " 2044997962,\n",
       " 2378935119,\n",
       " 2458001652,\n",
       " 2579882178,\n",
       " 2587333274,\n",
       " 2600415354,\n",
       " 2654030115,\n",
       " 2686716486,\n",
       " 2712142231,\n",
       " 2716752286,\n",
       " 2780786433,\n",
       " 2927087541,\n",
       " 2949041841,\n",
       " 2954449915,\n",
       " 3062433592,\n",
       " 3202540741,\n",
       " 3234906277,\n",
       " 3656415546,\n",
       " 3717692402,\n",
       " 3766097110,\n",
       " 3803269165,\n",
       " 3891541246,\n",
       " 3941795274,\n",
       " 3951559397,\n",
       " 3957174400,\n",
       " 3963646447,\n",
       " 3972127743,\n",
       " 3984495233,\n",
       " 4069496402,\n",
       " 4120364173,\n",
       " 4186807279,\n",
       " 4256040402,\n",
       " 4266935830}"
      ]
     },
     "execution_count": 12,
     "metadata": {},
     "output_type": "execute_result"
    }
   ],
   "source": [
    "import numpy as np\n",
    "ordersA=orders[orders['group']==\"A\"]\n",
    "ordersB=orders[orders['group']==\"B\"]\n",
    "# сохраним таких пользователей в отдельную переменную\n",
    "common_visitorID=set(ordersA['visitorId'].unique()) & set(ordersB['visitorId'].unique())\n",
    "common_visitorID"
   ]
  },
  {
   "cell_type": "markdown",
   "metadata": {},
   "source": [
    "*Достаточно большое кол-во пользователей, которые попали в обе группы*"
   ]
  },
  {
   "cell_type": "markdown",
   "metadata": {},
   "source": [
    "### Построем график кумулятивной выручки по группам"
   ]
  },
  {
   "cell_type": "code",
   "execution_count": 14,
   "metadata": {},
   "outputs": [],
   "source": [
    "# импортируем необходимые библиотеки\n",
    "import datetime as dt\n",
    "import numpy as np\n",
    "import matplotlib.pyplot as plt\n",
    "from pandas.plotting import register_matplotlib_converters\n",
    "import warnings\n",
    "# конвертеры, которые позволяют использовать типы pandas в matplotlib  \n",
    "register_matplotlib_converters()"
   ]
  },
  {
   "cell_type": "markdown",
   "metadata": {},
   "source": [
    "Создадим массив уникальных пар значений дат и групп теста и избавимся от дубликатов.\\\n",
    "Соберём агрегированные кумулятивные по дням данные о заказах:\n",
    "- Получим строки таблицы orders, дата которых меньше или равна дате элемента из datesGroups, а группа теста равна группе из datesGroups.\n",
    "- Агрегируем значения, вычислим максимальную дату\n",
    "- Найдём число уникальных ID заказов и пользователей\n",
    "- Подсчитаем сумму средних чеков и применим методы к каждой строке датафрейма и отсортируем результаты по столбцам 'date' и 'group'"
   ]
  },
  {
   "cell_type": "code",
   "execution_count": 15,
   "metadata": {},
   "outputs": [],
   "source": [
    "# преобразуем типы дат\n",
    "orders['date'] = orders['date'].map(\n",
    "    lambda x: dt.datetime.strptime(x, '%Y-%m-%d'))\n",
    "\n",
    "visitors['date'] = visitors['date'].map(\n",
    "    lambda x: dt.datetime.strptime(x, '%Y-%m-%d'))\n",
    "\n",
    "# соберем агрегированные кумулятивные данные о выручке\n",
    "datesGroups = orders[['date', 'group']].drop_duplicates()\n",
    "\n",
    "ordersAggregated = datesGroups.apply(\n",
    "    lambda x: orders[\n",
    "        np.logical_and(\n",
    "            orders['date'] <= x['date'], orders['group'] == x['group']\n",
    "        )\n",
    "    ].agg(\n",
    "        {\n",
    "            'date': 'max',\n",
    "            'group': 'max',\n",
    "            'transactionId': 'nunique',\n",
    "            'visitorId': 'nunique',\n",
    "            'revenue': 'sum',\n",
    "        }\n",
    "    ),\n",
    "    axis=1,\n",
    ").sort_values(by=['date', 'group'])\n",
    "\n",
    "visitorsAggregated = datesGroups.apply(\n",
    "    lambda x: visitors[\n",
    "        np.logical_and(\n",
    "            visitors['date'] <= x['date'], visitors['group'] == x['group']\n",
    "        )\n",
    "    ].agg({'date': 'max', 'group': 'max', 'visitors': 'sum'}),\n",
    "    axis=1,\n",
    ").sort_values(by=['date', 'group'])\n",
    "\n",
    "cumulativeData = ordersAggregated.merge(\n",
    "    visitorsAggregated, left_on=['date', 'group'], right_on=['date', 'group']\n",
    ")\n",
    "cumulativeData.columns = [\n",
    "    'date',\n",
    "    'group',\n",
    "    'orders',\n",
    "    'buyers',\n",
    "    'revenue',\n",
    "    'visitors',\n",
    "]\n",
    "\n",
    "\n",
    "# датафрейм с кумулятивным количеством заказов и кумулятивной выручкой по дням в группе А\n",
    "cumulativeRevenueA = cumulativeData[cumulativeData['group']=='A'][['date','revenue', 'orders']]\n",
    "\n",
    "# датафрейм с кумулятивным количеством заказов и кумулятивной выручкой по дням в группе B\n",
    "cumulativeRevenueB = cumulativeData[cumulativeData['group']=='B'][['date','revenue', 'orders']]"
   ]
  },
  {
   "cell_type": "code",
   "execution_count": 16,
   "metadata": {},
   "outputs": [
    {
     "data": {
      "image/png": "[encoded data removed]",
      "text/plain": [
       "<Figure size 720x360 with 1 Axes>"
      ]
     },
     "metadata": {
      "needs_background": "light"
     },
     "output_type": "display_data"
    }
   ],
   "source": [
    "plt.figure(figsize = (10,5))\n",
    "# построим график выручки группы А\n",
    "plt.plot(cumulativeRevenueA['date'], cumulativeRevenueA['revenue'], label='A')\n",
    "\n",
    "# построим график выручки группы B\n",
    "plt.plot(cumulativeRevenueB['date'], cumulativeRevenueB['revenue'], label='B')\n",
    "plt.legend() \n",
    "plt.title(\"Кумулятивная выручка по группам\");"
   ]
  },
  {
   "cell_type": "markdown",
   "metadata": {},
   "source": [
    "График показывает, что с самого начала теста сегмент В лидировал по показателям кумулятивной выручки. Выручка равномерно увеличивалсь до середины теста, а потом произошел более резкий скачок (18 августа), потом снова равномерный рост.\\\n",
    "Резкий скачок может говорить о выбросах: например, всплесках кол-ва заказов или о наличии высоких по стоимости заказов.\\\n",
    "Проанализируем выбросы позже"
   ]
  },
  {
   "cell_type": "markdown",
   "metadata": {},
   "source": [
    "### Построим график кумулятивного среднего чека по группам"
   ]
  },
  {
   "cell_type": "code",
   "execution_count": 17,
   "metadata": {},
   "outputs": [
    {
     "data": {
      "image/png": "[encoded data removed]",
      "text/plain": [
       "<Figure size 720x360 with 1 Axes>"
      ]
     },
     "metadata": {
      "needs_background": "light"
     },
     "output_type": "display_data"
    }
   ],
   "source": [
    "plt.figure(figsize = (10,5))\n",
    "plt.plot(cumulativeRevenueA['date'], cumulativeRevenueA['revenue']/cumulativeRevenueA['orders'], label='A')\n",
    "plt.plot(cumulativeRevenueB['date'], cumulativeRevenueB['revenue']/cumulativeRevenueB['orders'], label='B')\n",
    "plt.legend() \n",
    "plt.title(\"Кумулятивный средний чек по группам\");"
   ]
  },
  {
   "cell_type": "markdown",
   "metadata": {},
   "source": [
    "Кумулятивное значение среднего распределяется неравномерно по обоим сегментам. В сегменте А есть достаточное резкое падение вначале (6 августа) и потом скачок роста ближе к середине (13 августа).\\\n",
    "У группы В тоже есть резкий скачок 18 августа, он совпадает со скачком по выручке. Скорей всего, в эту дату был сделан очень дорогой заказ.\\\n",
    "Требуется дополнительный анализ выбросов."
   ]
  },
  {
   "cell_type": "markdown",
   "metadata": {},
   "source": [
    "###\tПостроим график относительного изменения кумулятивного среднего чека группы B к группе A"
   ]
  },
  {
   "cell_type": "code",
   "execution_count": 18,
   "metadata": {},
   "outputs": [
    {
     "data": {
      "image/png": "[encoded data removed]",
      "text/plain": [
       "<Figure size 720x360 with 1 Axes>"
      ]
     },
     "metadata": {
      "needs_background": "light"
     },
     "output_type": "display_data"
    }
   ],
   "source": [
    "# собирем данные в одном датафрейме\n",
    "mergedCumulativeRevenue = cumulativeRevenueA.merge(cumulativeRevenueB, left_on='date', right_on='date', how='left', suffixes=['A', 'B'])\n",
    "\n",
    "plt.figure(figsize = (10,5))\n",
    "# построим отношение средних чеков\n",
    "plt.plot(mergedCumulativeRevenue['date'], (mergedCumulativeRevenue['revenueB']/mergedCumulativeRevenue['ordersB'])/(mergedCumulativeRevenue['revenueA']/mergedCumulativeRevenue['ordersA'])-1)\n",
    "\n",
    "# добавим ось X и название\n",
    "plt.axhline(y=0, color='black', linestyle='--') \n",
    "plt.title(\"Относительное изменение кумулятивного среднего чека группы B к группе A\");"
   ]
  },
  {
   "cell_type": "markdown",
   "metadata": {},
   "source": [
    "График показывает, что на протяжении всего теста показатель по среднему чеку группы В лучше. Только с 10 по 14 августа показатели группы В были хуже.\\\n",
    "Мы снова видим резкие изменения роста в несколько дат."
   ]
  },
  {
   "cell_type": "markdown",
   "metadata": {},
   "source": [
    "### Построим график кумулятивного среднего количества заказов на посетителя по группам"
   ]
  },
  {
   "cell_type": "code",
   "execution_count": 19,
   "metadata": {
    "scrolled": true
   },
   "outputs": [
    {
     "data": {
      "image/png": "[encoded data removed]",
      "text/plain": [
       "<Figure size 720x360 with 1 Axes>"
      ]
     },
     "metadata": {
      "needs_background": "light"
     },
     "output_type": "display_data"
    }
   ],
   "source": [
    "# посчитаем кумулятивную конверсию\n",
    "cumulativeData['conversion'] = cumulativeData['orders']/cumulativeData['visitors']\n",
    "\n",
    "# отделяем данные по группе A\n",
    "cumulativeDataA = cumulativeData[cumulativeData['group']=='A']\n",
    "\n",
    "# отделяем данные по группе B\n",
    "cumulativeDataB = cumulativeData[cumulativeData['group']=='B']\n",
    "\n",
    "\n",
    "# строим графики\n",
    "plt.figure(figsize = (10,5))\n",
    "plt.plot(cumulativeDataA['date'], cumulativeDataA['conversion'], label='A')\n",
    "plt.plot(cumulativeDataB['date'], cumulativeDataB['conversion'], label='B')\n",
    "plt.legend()\n",
    "\n",
    "# задаем масштаб осей\n",
    "plt.axis([dt.datetime(2019, 8, 1), dt.datetime(2019, 9, 1), 0.02, 0.05])\n",
    "plt.title(\"Кумулятивное среднее количество заказов на посетителя\");"
   ]
  },
  {
   "cell_type": "markdown",
   "metadata": {},
   "source": [
    "В начале теста группа А имела бОльшую конверсию, но с 5-6 августа группа В опередила группу А и зафиксировалась. До конца теста группа В продолжала лидировать по показателям конверсии"
   ]
  },
  {
   "cell_type": "markdown",
   "metadata": {},
   "source": [
    "### Построим график относительного изменения кумулятивного среднего количества заказов на посетителя группы B к группе A"
   ]
  },
  {
   "cell_type": "code",
   "execution_count": 20,
   "metadata": {},
   "outputs": [
    {
     "data": {
      "image/png": "[encoded data removed]",
      "text/plain": [
       "<Figure size 720x360 with 1 Axes>"
      ]
     },
     "metadata": {
      "needs_background": "light"
     },
     "output_type": "display_data"
    }
   ],
   "source": [
    "# объединим таблицы с кумулятивным кол-во заказов\n",
    "mergedCumulativeConversions = cumulativeDataA[['date','conversion']].merge(cumulativeDataB[['date','conversion']], left_on='date', right_on='date', how='left', suffixes=['A', 'B'])\n",
    "\n",
    "plt.figure(figsize = (10,5))\n",
    "plt.plot(mergedCumulativeConversions['date'], mergedCumulativeConversions['conversionB']/mergedCumulativeConversions['conversionA']-1)\n",
    "\n",
    "plt.axhline(y=0, color='black', linestyle='--')\n",
    "plt.axhline(y=0.2, color='grey', linestyle='--')\n",
    "plt.axis([\"2019-08-01\", '2019-09-01', -0.5, 0.6])\n",
    "plt.title(\"Относительное изменение кумулятивного среднего количества заказов на посетителя\");"
   ]
  },
  {
   "cell_type": "markdown",
   "metadata": {},
   "source": [
    "Как и на предыдущем графикке, вначале теста группа В уступала группе А по показателям, но с 6 августа опередила группу А и зафиксировалась на уровне прирост +20% к группе А."
   ]
  },
  {
   "cell_type": "markdown",
   "metadata": {},
   "source": [
    "``Промежуточный вывод:`` пока все данные говорят о том, что группа В более успешна. Но прежде, чем делать выводы, нужно проверить выборки на наличие аномалий."
   ]
  },
  {
   "cell_type": "markdown",
   "metadata": {},
   "source": [
    "### Построим точечный график количества заказов по пользователям"
   ]
  },
  {
   "cell_type": "code",
   "execution_count": 21,
   "metadata": {},
   "outputs": [
    {
     "data": {
      "text/html": [
       "<div>\n",
       "<style scoped>\n",
       "    .dataframe tbody tr th:only-of-type {\n",
       "        vertical-align: middle;\n",
       "    }\n",
       "\n",
       "    .dataframe tbody tr th {\n",
       "        vertical-align: top;\n",
       "    }\n",
       "\n",
       "    .dataframe thead th {\n",
       "        text-align: right;\n",
       "    }\n",
       "</style>\n",
       "<table border=\"1\" class=\"dataframe\">\n",
       "  <thead>\n",
       "    <tr style=\"text-align: right;\">\n",
       "      <th></th>\n",
       "      <th>transactionId</th>\n",
       "      <th>visitorId</th>\n",
       "      <th>date</th>\n",
       "      <th>revenue</th>\n",
       "      <th>group</th>\n",
       "    </tr>\n",
       "  </thead>\n",
       "  <tbody>\n",
       "    <tr>\n",
       "      <th>0</th>\n",
       "      <td>3667963787</td>\n",
       "      <td>3312258926</td>\n",
       "      <td>2019-08-15</td>\n",
       "      <td>1650</td>\n",
       "      <td>B</td>\n",
       "    </tr>\n",
       "    <tr>\n",
       "      <th>1</th>\n",
       "      <td>2804400009</td>\n",
       "      <td>3642806036</td>\n",
       "      <td>2019-08-15</td>\n",
       "      <td>730</td>\n",
       "      <td>B</td>\n",
       "    </tr>\n",
       "    <tr>\n",
       "      <th>2</th>\n",
       "      <td>2961555356</td>\n",
       "      <td>4069496402</td>\n",
       "      <td>2019-08-15</td>\n",
       "      <td>400</td>\n",
       "      <td>A</td>\n",
       "    </tr>\n",
       "    <tr>\n",
       "      <th>3</th>\n",
       "      <td>3797467345</td>\n",
       "      <td>1196621759</td>\n",
       "      <td>2019-08-15</td>\n",
       "      <td>9759</td>\n",
       "      <td>B</td>\n",
       "    </tr>\n",
       "    <tr>\n",
       "      <th>4</th>\n",
       "      <td>2282983706</td>\n",
       "      <td>2322279887</td>\n",
       "      <td>2019-08-15</td>\n",
       "      <td>2308</td>\n",
       "      <td>B</td>\n",
       "    </tr>\n",
       "  </tbody>\n",
       "</table>\n",
       "</div>"
      ],
      "text/plain": [
       "   transactionId   visitorId       date  revenue group\n",
       "0     3667963787  3312258926 2019-08-15     1650     B\n",
       "1     2804400009  3642806036 2019-08-15      730     B\n",
       "2     2961555356  4069496402 2019-08-15      400     A\n",
       "3     3797467345  1196621759 2019-08-15     9759     B\n",
       "4     2282983706  2322279887 2019-08-15     2308     B"
      ]
     },
     "execution_count": 21,
     "metadata": {},
     "output_type": "execute_result"
    }
   ],
   "source": [
    "orders.head(5)"
   ]
  },
  {
   "cell_type": "code",
   "execution_count": 22,
   "metadata": {},
   "outputs": [
    {
     "name": "stdout",
     "output_type": "stream",
     "text": [
      "       visitorId  orders\n",
      "1023  4256040402      11\n",
      "591   2458001652      11\n",
      "569   2378935119       9\n",
      "487   2038680547       8\n",
      "44     199603092       5\n",
      "...          ...     ...\n",
      "359   1484903144       1\n",
      "360   1485964287       1\n",
      "361   1494664757       1\n",
      "362   1495112755       1\n",
      "1030  4283872382       1\n",
      "\n",
      "[1031 rows x 2 columns]\n"
     ]
    }
   ],
   "source": [
    "# найдем кол-во заказов по пользователям\n",
    "ordersByUsers = (\n",
    "    orders.groupby('visitorId', as_index=False)\n",
    "    .agg({'transactionId': 'nunique'})\n",
    ")\n",
    "ordersByUsers.columns = ['visitorId', 'orders']\n",
    "print(ordersByUsers.sort_values(by='orders', ascending=False))"
   ]
  },
  {
   "cell_type": "markdown",
   "metadata": {},
   "source": [
    "Есть пользователи, которые совершали 5, 8, 9 и 11 заказов - это гораздо больше, чем обычно совершает пользователь"
   ]
  },
  {
   "cell_type": "code",
   "execution_count": 23,
   "metadata": {},
   "outputs": [
    {
     "data": {
      "image/png": "[encoded data removed]",
      "text/plain": [
       "<Figure size 432x288 with 1 Axes>"
      ]
     },
     "metadata": {
      "needs_background": "light"
     },
     "output_type": "display_data"
    }
   ],
   "source": [
    "# построим точечную диаграмму\n",
    "x_values = pd.Series(range(0,len(ordersByUsers)))\n",
    "\n",
    "plt.scatter(x_values, ordersByUsers['orders']) \n",
    "plt.title(\"График кол-ва заказов\");"
   ]
  },
  {
   "cell_type": "markdown",
   "metadata": {},
   "source": [
    "График подтверждает выводы по ранее построенной таблице: у большинства пользователей - по 1-2 заказу. Пользователей с 2-3 заказами тоже не мало. А вот пользователей с 8-12 заказами очень мало, они могут быть аномальными. Выясним это далее, когда будем считать перцентили."
   ]
  },
  {
   "cell_type": "markdown",
   "metadata": {},
   "source": [
    "### Посчитайем 95-й и 99-й перцентили количества заказов на пользователя. Выберем границу для определения аномальных пользователей"
   ]
  },
  {
   "cell_type": "code",
   "execution_count": 24,
   "metadata": {},
   "outputs": [
    {
     "data": {
      "text/plain": [
       "array([1., 2., 3., 4.])"
      ]
     },
     "execution_count": 24,
     "metadata": {},
     "output_type": "execute_result"
    }
   ],
   "source": [
    "np.percentile(ordersByUsers['orders'],[90, 95,98, 99])"
   ]
  },
  {
   "cell_type": "markdown",
   "metadata": {},
   "source": [
    "Не более 10% пользователей совершали более 1 заказа.\\\n",
    "Не более 5% - более 2 заказов.\\\n",
    "Не более 2% - более 2 заказов.\\\n",
    "Не более 1% - более 4 заказов.\n",
    "\n",
    "Поскольку принято отсеивать от 1% до 5% наблюдений с крайними значениями, за верхнюю границу числа заказов на одного пользователя стоит определить 2-3 заказа, и далее отсеять аномальных пользователей по ней.\\\n",
    "``Целесообразнее остановиться на пороге 3 (2%)``, так как пользователей с 2-3 заказами все-таки не мало. Вряд ли это аномалия."
   ]
  },
  {
   "cell_type": "markdown",
   "metadata": {},
   "source": [
    "### Построим точечный график стоимостей заказов. Сделаем выводы и предположения"
   ]
  },
  {
   "cell_type": "code",
   "execution_count": 25,
   "metadata": {
    "scrolled": false
   },
   "outputs": [
    {
     "data": {
      "text/html": [
       "<div>\n",
       "<style scoped>\n",
       "    .dataframe tbody tr th:only-of-type {\n",
       "        vertical-align: middle;\n",
       "    }\n",
       "\n",
       "    .dataframe tbody tr th {\n",
       "        vertical-align: top;\n",
       "    }\n",
       "\n",
       "    .dataframe thead th {\n",
       "        text-align: right;\n",
       "    }\n",
       "</style>\n",
       "<table border=\"1\" class=\"dataframe\">\n",
       "  <thead>\n",
       "    <tr style=\"text-align: right;\">\n",
       "      <th></th>\n",
       "      <th>transactionId</th>\n",
       "      <th>visitorId</th>\n",
       "      <th>date</th>\n",
       "      <th>revenue</th>\n",
       "      <th>group</th>\n",
       "    </tr>\n",
       "  </thead>\n",
       "  <tbody>\n",
       "    <tr>\n",
       "      <th>425</th>\n",
       "      <td>590470918</td>\n",
       "      <td>1920142716</td>\n",
       "      <td>2019-08-19</td>\n",
       "      <td>1294500</td>\n",
       "      <td>B</td>\n",
       "    </tr>\n",
       "    <tr>\n",
       "      <th>1196</th>\n",
       "      <td>3936777065</td>\n",
       "      <td>2108080724</td>\n",
       "      <td>2019-08-15</td>\n",
       "      <td>202740</td>\n",
       "      <td>B</td>\n",
       "    </tr>\n",
       "    <tr>\n",
       "      <th>858</th>\n",
       "      <td>192721366</td>\n",
       "      <td>1316129916</td>\n",
       "      <td>2019-08-27</td>\n",
       "      <td>93940</td>\n",
       "      <td>A</td>\n",
       "    </tr>\n",
       "    <tr>\n",
       "      <th>1136</th>\n",
       "      <td>666610489</td>\n",
       "      <td>1307669133</td>\n",
       "      <td>2019-08-13</td>\n",
       "      <td>92550</td>\n",
       "      <td>A</td>\n",
       "    </tr>\n",
       "    <tr>\n",
       "      <th>744</th>\n",
       "      <td>3668308183</td>\n",
       "      <td>888512513</td>\n",
       "      <td>2019-08-27</td>\n",
       "      <td>86620</td>\n",
       "      <td>B</td>\n",
       "    </tr>\n",
       "    <tr>\n",
       "      <th>...</th>\n",
       "      <td>...</td>\n",
       "      <td>...</td>\n",
       "      <td>...</td>\n",
       "      <td>...</td>\n",
       "      <td>...</td>\n",
       "    </tr>\n",
       "    <tr>\n",
       "      <th>933</th>\n",
       "      <td>3760662696</td>\n",
       "      <td>3577713868</td>\n",
       "      <td>2019-08-27</td>\n",
       "      <td>60</td>\n",
       "      <td>B</td>\n",
       "    </tr>\n",
       "    <tr>\n",
       "      <th>459</th>\n",
       "      <td>863448794</td>\n",
       "      <td>2738601405</td>\n",
       "      <td>2019-08-19</td>\n",
       "      <td>50</td>\n",
       "      <td>B</td>\n",
       "    </tr>\n",
       "    <tr>\n",
       "      <th>756</th>\n",
       "      <td>125335873</td>\n",
       "      <td>3423937755</td>\n",
       "      <td>2019-08-30</td>\n",
       "      <td>50</td>\n",
       "      <td>B</td>\n",
       "    </tr>\n",
       "    <tr>\n",
       "      <th>584</th>\n",
       "      <td>1126146019</td>\n",
       "      <td>2705308997</td>\n",
       "      <td>2019-08-20</td>\n",
       "      <td>50</td>\n",
       "      <td>A</td>\n",
       "    </tr>\n",
       "    <tr>\n",
       "      <th>1091</th>\n",
       "      <td>750632879</td>\n",
       "      <td>4256040402</td>\n",
       "      <td>2019-08-12</td>\n",
       "      <td>50</td>\n",
       "      <td>A</td>\n",
       "    </tr>\n",
       "  </tbody>\n",
       "</table>\n",
       "<p>1197 rows × 5 columns</p>\n",
       "</div>"
      ],
      "text/plain": [
       "      transactionId   visitorId       date  revenue group\n",
       "425       590470918  1920142716 2019-08-19  1294500     B\n",
       "1196     3936777065  2108080724 2019-08-15   202740     B\n",
       "858       192721366  1316129916 2019-08-27    93940     A\n",
       "1136      666610489  1307669133 2019-08-13    92550     A\n",
       "744      3668308183   888512513 2019-08-27    86620     B\n",
       "...             ...         ...        ...      ...   ...\n",
       "933      3760662696  3577713868 2019-08-27       60     B\n",
       "459       863448794  2738601405 2019-08-19       50     B\n",
       "756       125335873  3423937755 2019-08-30       50     B\n",
       "584      1126146019  2705308997 2019-08-20       50     A\n",
       "1091      750632879  4256040402 2019-08-12       50     A\n",
       "\n",
       "[1197 rows x 5 columns]"
      ]
     },
     "execution_count": 25,
     "metadata": {},
     "output_type": "execute_result"
    }
   ],
   "source": [
    "# отсортируем таблицу с заказами по убыванию стоимости заказа\n",
    "orders.sort_values(by='revenue', ascending=False)"
   ]
  },
  {
   "cell_type": "code",
   "execution_count": 26,
   "metadata": {},
   "outputs": [
    {
     "data": {
      "image/png": "[encoded data removed]",
      "text/plain": [
       "<Figure size 432x288 with 1 Axes>"
      ]
     },
     "metadata": {
      "needs_background": "light"
     },
     "output_type": "display_data"
    }
   ],
   "source": [
    "# построим точечный график\n",
    "x_values = pd.Series(range(0, len(orders['revenue'])))\n",
    "plt.scatter(x_values, orders['revenue']) \n",
    "plt.title(\"График стоимости заказов\");"
   ]
  },
  {
   "cell_type": "markdown",
   "metadata": {},
   "source": [
    "В выборке есть явные выбросы - это заказы стоимостью 200 000 руб. и 1 300 000 руб.\\\n",
    "Увеличим график, чтобы изучить заказы до 300 000 р."
   ]
  },
  {
   "cell_type": "code",
   "execution_count": 27,
   "metadata": {},
   "outputs": [
    {
     "data": {
      "image/png": "[encoded data removed]",
      "text/plain": [
       "<Figure size 432x288 with 1 Axes>"
      ]
     },
     "metadata": {
      "needs_background": "light"
     },
     "output_type": "display_data"
    }
   ],
   "source": [
    "plt.scatter(x_values, orders['revenue']) \n",
    "plt.axis([0, 1200, 0, 300000]) ;"
   ]
  },
  {
   "cell_type": "code",
   "execution_count": 28,
   "metadata": {},
   "outputs": [
    {
     "data": {
      "image/png": "[encoded data removed]",
      "text/plain": [
       "<Figure size 432x288 with 1 Axes>"
      ]
     },
     "metadata": {
      "needs_background": "light"
     },
     "output_type": "display_data"
    }
   ],
   "source": [
    "plt.scatter(x_values, orders['revenue']) \n",
    "plt.axis([0, 1200, 0, 120000]) ;"
   ]
  },
  {
   "cell_type": "markdown",
   "metadata": {},
   "source": [
    "Заказы стоимостью выше 70 000 р выглядят аномальными, но прежде, чем делать вывод, определим перцентили."
   ]
  },
  {
   "cell_type": "markdown",
   "metadata": {},
   "source": [
    "### Посчитаем 95-й и 99-й перцентили стоимости заказов. Выберем границу для определения аномальных заказов"
   ]
  },
  {
   "cell_type": "code",
   "execution_count": 29,
   "metadata": {},
   "outputs": [
    {
     "data": {
      "text/plain": [
       "array([18168. , 28000. , 44133.2, 58233.2])"
      ]
     },
     "execution_count": 29,
     "metadata": {},
     "output_type": "execute_result"
    }
   ],
   "source": [
    "np.percentile(orders['revenue'], [90, 95,98, 99])"
   ]
  },
  {
   "cell_type": "markdown",
   "metadata": {},
   "source": [
    "Более 5% заказов имеют стоимость выше 28 000 руб.\\\n",
    "Более 1% заказов - более 58 000 руб.\\\n",
    "Все-таки пользователей с заказами более 28 000 руб. достаточно много, вряд ли это аномалия, просто крупные покупки совершаются реже.\\\n",
    "Поэтому, ``остановимся на границе 55 000 руб. (чуть больше 1%)`` Это всего 1% пользователей, но они оказывают влияние на общие показатели по группе."
   ]
  },
  {
   "cell_type": "markdown",
   "metadata": {},
   "source": [
    "### Посчитаем статистическую значимость различий в среднем количестве заказов на посетителя между группами по «сырым» данным"
   ]
  },
  {
   "cell_type": "markdown",
   "metadata": {},
   "source": [
    "Но сначала подготовим данные: создадим таблицу, в которой **в срезах по датам и группам** будут отображены: кол-во заказов, выручка, кумулятивное кол-во заказов, кумулятивная выручка, кол-во пользователей, кумулятивное кол-во пользователей."
   ]
  },
  {
   "cell_type": "code",
   "execution_count": 30,
   "metadata": {},
   "outputs": [
    {
     "name": "stdout",
     "output_type": "stream",
     "text": [
      "        date  ordersPerDateA  revenuePerDateA  ordersPerDateB  \\\n",
      "0 2019-08-01              24           148579              21   \n",
      "1 2019-08-02              20            93822              24   \n",
      "2 2019-08-03              24           112473              16   \n",
      "3 2019-08-04              16            70825              17   \n",
      "4 2019-08-05              25           124218              23   \n",
      "\n",
      "   revenuePerDateB  ordersCummulativeA  revenueCummulativeA  \\\n",
      "0           101217                  24               148579   \n",
      "1           165531                  44               242401   \n",
      "2           114248                  68               354874   \n",
      "3           108571                  84               425699   \n",
      "4            92428                 109               549917   \n",
      "\n",
      "   ordersCummulativeB  revenueCummulativeB  visitorsPerDateA  \\\n",
      "0                  21               101217               719   \n",
      "1                  45               266748               619   \n",
      "2                  61               380996               507   \n",
      "3                  78               489567               717   \n",
      "4                 101               581995               756   \n",
      "\n",
      "   visitorsPerDateB  visitorsCummulativeA  visitorsCummulativeB  \n",
      "0               713                   719                   713  \n",
      "1               581                  1338                  1294  \n",
      "2               509                  1845                  1803  \n",
      "3               770                  2562                  2573  \n",
      "4               707                  3318                  3280  \n"
     ]
    }
   ],
   "source": [
    "visitorsADaily = visitors[visitors['group'] == 'A'][['date', 'visitors']]\n",
    "visitorsADaily.columns = ['date', 'visitorsPerDateA']\n",
    "\n",
    "visitorsACummulative = visitorsADaily.apply(\n",
    "    lambda x: visitorsADaily[visitorsADaily['date'] <= x['date']].agg(\n",
    "        {'date': 'max', 'visitorsPerDateA': 'sum'}\n",
    "    ),\n",
    "    axis=1,\n",
    ")\n",
    "visitorsACummulative.columns = ['date', 'visitorsCummulativeA']\n",
    "\n",
    "visitorsBDaily = visitors[visitors['group'] == 'B'][['date', 'visitors']]\n",
    "visitorsBDaily.columns = ['date', 'visitorsPerDateB']\n",
    "\n",
    "visitorsBCummulative = visitorsBDaily.apply(\n",
    "    lambda x: visitorsBDaily[visitorsBDaily['date'] <= x['date']].agg(\n",
    "        {'date': 'max', 'visitorsPerDateB': 'sum'}\n",
    "    ),\n",
    "    axis=1,\n",
    ")\n",
    "visitorsBCummulative.columns = ['date', 'visitorsCummulativeB']\n",
    "\n",
    "ordersADaily = (\n",
    "    orders[orders['group'] == 'A'][['date', 'transactionId', 'visitorId', 'revenue']]\n",
    "    .groupby('date', as_index=False)\n",
    "    .agg({'transactionId': pd.Series.nunique, 'revenue': 'sum'})\n",
    ")\n",
    "ordersADaily.columns = ['date', 'ordersPerDateA', 'revenuePerDateA']\n",
    "\n",
    "ordersACummulative = ordersADaily.apply(\n",
    "    lambda x: ordersADaily[ordersADaily['date'] <= x['date']].agg(\n",
    "        {'date': 'max', 'ordersPerDateA': 'sum', 'revenuePerDateA': 'sum'}\n",
    "    ),\n",
    "    axis=1,\n",
    ").sort_values(by=['date'])\n",
    "ordersACummulative.columns = [\n",
    "    'date',\n",
    "    'ordersCummulativeA',\n",
    "    'revenueCummulativeA',\n",
    "]\n",
    "\n",
    "ordersBDaily = (\n",
    "    orders[orders['group'] == 'B'][['date', 'transactionId', 'visitorId', 'revenue']]\n",
    "    .groupby('date', as_index=False)\n",
    "    .agg({'transactionId': pd.Series.nunique, 'revenue': 'sum'})\n",
    ")\n",
    "ordersBDaily.columns = ['date', 'ordersPerDateB', 'revenuePerDateB']\n",
    "\n",
    "ordersBCummulative = ordersBDaily.apply(\n",
    "    lambda x: ordersBDaily[ordersBDaily['date'] <= x['date']].agg(\n",
    "        {'date': 'max', 'ordersPerDateB': 'sum', 'revenuePerDateB': 'sum'}\n",
    "    ),\n",
    "    axis=1,\n",
    ").sort_values(by=['date'])\n",
    "ordersBCummulative.columns = [\n",
    "    'date',\n",
    "    'ordersCummulativeB',\n",
    "    'revenueCummulativeB',\n",
    "]\n",
    "\n",
    "data = (\n",
    "    ordersADaily.merge(\n",
    "        ordersBDaily, left_on='date', right_on='date', how='left'\n",
    "    )\n",
    "    .merge(ordersACummulative, left_on='date', right_on='date', how='left')\n",
    "    .merge(ordersBCummulative, left_on='date', right_on='date', how='left')\n",
    "    .merge(visitorsADaily, left_on='date', right_on='date', how='left')\n",
    "    .merge(visitorsBDaily, left_on='date', right_on='date', how='left')\n",
    "    .merge(visitorsACummulative, left_on='date', right_on='date', how='left')\n",
    "    .merge(visitorsBCummulative, left_on='date', right_on='date', how='left')\n",
    ")\n",
    "\n",
    "print(data.head(5)) "
   ]
  },
  {
   "cell_type": "code",
   "execution_count": 31,
   "metadata": {
    "scrolled": true
   },
   "outputs": [],
   "source": [
    "#создаем переменную со столбцами ['visitorId', 'transactionId'], где для пользователей будет указано число заказов по группе А\n",
    "ordersByUsersA = (\n",
    "    orders[orders['group'] == 'A']\n",
    "    .groupby('visitorId', as_index=False)\n",
    "    .agg({'transactionId': 'nunique'})\n",
    ")\n",
    "ordersByUsersA.columns = ['visitorId', 'orders']\n",
    "\n",
    "#создаем переменную со столбцами ['visitorId', 'transactionId'], где для пользователей будет указано число заказов по группе В\n",
    "\n",
    "ordersByUsersB = (\n",
    "    orders[orders['group'] == 'B']\n",
    "    .groupby('visitorId', as_index=False)\n",
    "    .agg({'transactionId': 'nunique'})\n",
    ")\n",
    "ordersByUsersB.columns = ['visitorId', 'orders'] \n",
    "\n",
    "#создадем переменную, в которой пользователям с заказами соответствует число их заказов, без заказов — нули, по группе А\n",
    "\n",
    "sampleA = pd.concat([ordersByUsersA['orders'],pd.Series(0, index=np.arange(visitors.query('group == \"A\"')['visitors']\\\n",
    ".sum() - len(ordersByUsersA['orders'])), name='orders')],axis=0)\n",
    "\n",
    "#создадем переменную, в которой пользователям с заказами соответствует число их заказов, без заказов — нули, по группе В \n",
    "\n",
    "sampleB = pd.concat([ordersByUsersB['orders'],pd.Series(0, index=np.arange(visitors.query('group == \"B\"')['visitors']\\\n",
    ".sum() - len(ordersByUsersB['orders'])), name='orders')],axis=0) "
   ]
  },
  {
   "cell_type": "markdown",
   "metadata": {},
   "source": [
    "**Сформулируем гипотезы:**\\\n",
    "``Н0:`` различий в среднем количестве заказов на посетителя между группами А и В нет\\\n",
    "``Н1:`` различия в среднем количестве заказов на посетителя между группами А и В есть"
   ]
  },
  {
   "cell_type": "markdown",
   "metadata": {},
   "source": [
    "Сначала определим, какой тип теста применить. Проверим выборки на нормальность с помощью метода Шапиро-Уилка"
   ]
  },
  {
   "cell_type": "code",
   "execution_count": 32,
   "metadata": {},
   "outputs": [
    {
     "name": "stdout",
     "output_type": "stream",
     "text": [
      "p-value: ShapiroResult(statistic=0.13177603483200073, pvalue=0.0)\n",
      "Отвергаем нулевую гипотезу: распределение выбокри А не нормально\n"
     ]
    },
    {
     "name": "stderr",
     "output_type": "stream",
     "text": [
      "/opt/conda/lib/python3.9/site-packages/scipy/stats/_morestats.py:1800: UserWarning: p-value may not be accurate for N > 5000.\n",
      "  warnings.warn(\"p-value may not be accurate for N > 5000.\")\n"
     ]
    }
   ],
   "source": [
    "import scipy.stats as stats\n",
    "from scipy import stats as st\n",
    "\n",
    "alpha = 0.05\n",
    "results= st.shapiro(sampleA)\n",
    "p_value=results[1]\n",
    "\n",
    "print('p-value:', results)\n",
    "\n",
    "if p_value < alpha:\n",
    "    print('Отвергаем нулевую гипотезу: распределение выбокри А не нормально')\n",
    "else:\n",
    "    print('Не получилось отвергнуть нулевую гипотезу, выборка А распределена нормально')  "
   ]
  },
  {
   "cell_type": "code",
   "execution_count": 33,
   "metadata": {
    "scrolled": true
   },
   "outputs": [
    {
     "name": "stdout",
     "output_type": "stream",
     "text": [
      "p-value: ShapiroResult(statistic=0.1508488655090332, pvalue=0.0)\n",
      "Отвергаем нулевую гипотезу: распределение выбокри B не нормально\n"
     ]
    }
   ],
   "source": [
    "import scipy.stats as stats\n",
    "from scipy import stats as st\n",
    "\n",
    "alpha = 0.05\n",
    "results= st.shapiro(sampleB)\n",
    "p_value=results[1]\n",
    "\n",
    "print('p-value:', results)\n",
    "\n",
    "if p_value < alpha:\n",
    "    print('Отвергаем нулевую гипотезу: распределение выбокри B не нормально')\n",
    "else:\n",
    "    print('Не получилось отвергнуть нулевую гипотезу, выборка B распределена нормально')  "
   ]
  },
  {
   "cell_type": "markdown",
   "metadata": {},
   "source": [
    "*Обе выборки распределены не нормально. В этом случае подойдет тест Уилкоксона-Манна-Уитни, который работает с рангами значений, а не с самимими значениями.\\\n",
    "Проведем тест*"
   ]
  },
  {
   "cell_type": "code",
   "execution_count": 34,
   "metadata": {},
   "outputs": [
    {
     "name": "stdout",
     "output_type": "stream",
     "text": [
      "p-value: 0.016792355056752608\n",
      "Прирост среднего кол-ва заказов группы В к группе А: 0.13807884655320146\n",
      "Отвергаем нулевую гипотезу о том, что различий в среднем количестве заказов на посетителя между группами А и В нет. Различия есть и они статистически значимы\n"
     ]
    }
   ],
   "source": [
    "#применяем критерий и форматируем p-value,выведим относительный прирост среднего числа заказов группы B \n",
    "alpha = 0.05\n",
    "results= stats.mannwhitneyu(sampleA, sampleB)[1]\n",
    "growth=(sampleB.mean() / sampleA.mean() - 1)\n",
    "\n",
    "print('p-value:', results)\n",
    "print(\"Прирост среднего кол-ва заказов группы В к группе А:\", growth)\n",
    "\n",
    "if results < alpha:\n",
    "    print('Отвергаем нулевую гипотезу о том, что различий в среднем количестве заказов на посетителя между группами А и В нет. Различия есть и они статистически значимы')\n",
    "else:\n",
    "    print(\n",
    "        'Не получилось отвергнуть нулевую гипотезу, различий в среднем количестве заказов на посетителя между группами А и В действительно нет') "
   ]
  },
  {
   "cell_type": "markdown",
   "metadata": {},
   "source": [
    "Результат теста Уилкоксона-Манна-Уитни показал, что ``p-value`` значительно меньше ``alpha``, соответственно, разница между различиями в среднем кол-ве заказов между группой В и А есть и она статистически значима. Прирост по группе В составляет ``13%``"
   ]
  },
  {
   "cell_type": "markdown",
   "metadata": {},
   "source": [
    "### Посчитаем статистическую значимость различий в среднем чеке заказа между группами по «сырым» данным"
   ]
  },
  {
   "cell_type": "markdown",
   "metadata": {},
   "source": [
    "**Сформулируем гипотезы:**\\\n",
    "``Н0``: различий в среднем чеке между группами А и В нет\\\n",
    "``Н1``: различия в среднем чеке между группами А и В есть"
   ]
  },
  {
   "cell_type": "markdown",
   "metadata": {},
   "source": [
    "Чтобы рассчитать статистическую значимость различий в среднем чеке, передадим критерию ``mannwhitneyu()`` данные о выручке с заказов.\\\n",
    "Также найдём относительные различия в среднем чеке между группами"
   ]
  },
  {
   "cell_type": "code",
   "execution_count": 35,
   "metadata": {},
   "outputs": [
    {
     "name": "stdout",
     "output_type": "stream",
     "text": [
      "p-value: 0.7292909855432458\n",
      "Прирост размера среднего чека в группе В vs группа А: 0.2587136699126005\n",
      "Не получилось отвергнуть нулевую гипотезу, различий в среднем чеке между группами А и В нет\n"
     ]
    }
   ],
   "source": [
    "alpha = 0.05\n",
    "results2= stats.mannwhitneyu(orders[orders['group']=='A']['revenue'], orders[orders['group']=='B']['revenue'])[1]\n",
    "growth2=(orders[orders['group']=='B']['revenue'].mean()/orders[orders['group']=='A']['revenue'].mean()-1)\n",
    "\n",
    "print('p-value:', results2)\n",
    "print(\"Прирост размера среднего чека в группе В vs группа А:\", growth2)\n",
    "\n",
    "if results2 < alpha:\n",
    "    print('Отвергаем нулевую гипотезу о том, что различий в среднем чеке между группами А и В нет. Различия есть и они статистически значимы')\n",
    "else:\n",
    "    print(\n",
    "        'Не получилось отвергнуть нулевую гипотезу, различий в среднем чеке между группами А и В нет') "
   ]
  },
  {
   "cell_type": "markdown",
   "metadata": {},
   "source": [
    "Результат теста Уилкоксона-Манна-Уитни показал, что ``p-value`` значительно больше ``alpha``, соответственно, различий в среднем чеке между группами А и В действительно нет, или есть, но они статистически не значимы. Даже не смотря на то, что прирост по группе В составляет целых ``25%``"
   ]
  },
  {
   "cell_type": "markdown",
   "metadata": {},
   "source": [
    "### Посчитаем статистическую значимость различий в среднем количестве заказов на посетителя между группами по «очищенным» данным"
   ]
  },
  {
   "cell_type": "markdown",
   "metadata": {},
   "source": [
    "**Сформулируем гипотезы**:\\\n",
    "``Н0``: различий в среднем количестве заказов на посетителя между группами А и В нет\\\n",
    "``Н1``: различия в среднем количестве заказов на посетителя между группами А и В есть"
   ]
  },
  {
   "cell_type": "markdown",
   "metadata": {},
   "source": [
    "Ранее при расчетах перценилей мы определии, что за аномальных пользователей будем считать тех, кто совершил ``более 3 заказов на сумму 55 000 руб.``\\\n",
    "Таким образом мы уберем  ``2% пользователей с наибольшим кол-вом заказов`` и чуть больше ``1% с дорогими заказами``."
   ]
  },
  {
   "cell_type": "markdown",
   "metadata": {},
   "source": [
    "Сделаем срезы пользователей с числом заказов больше 3 — *usersWithManyOrders* и пользователей, совершивших заказы дороже 55 000 — *usersWithExpensiveOrders*. Объединим их в таблице *abnormalUsers*. "
   ]
  },
  {
   "cell_type": "code",
   "execution_count": 36,
   "metadata": {},
   "outputs": [
    {
     "name": "stdout",
     "output_type": "stream",
     "text": [
      "1099    148427295\n",
      "18      199603092\n",
      "23      237748145\n",
      "949     887908475\n",
      "744     888512513\n",
      "Name: visitorId, dtype: int64\n",
      "20\n"
     ]
    }
   ],
   "source": [
    "usersWithManyOrders = pd.concat(\n",
    "    [\n",
    "        ordersByUsersA[ordersByUsersA['orders'] > 3]['visitorId'],\n",
    "        ordersByUsersB[ordersByUsersB['orders'] > 3]['visitorId'],\n",
    "    ],\n",
    "    axis=0,\n",
    ")\n",
    "usersWithExpensiveOrders = orders[orders['revenue'] > 55000]['visitorId']\n",
    "abnormalUsers = (\n",
    "    pd.concat([usersWithManyOrders, usersWithExpensiveOrders], axis=0)\n",
    "    .drop_duplicates()\n",
    "    .sort_values()\n",
    ")\n",
    "print(abnormalUsers.head(5))\n",
    "\n",
    "# узнаем, сколько всего аномальных пользователей\n",
    "print(abnormalUsers.shape[0]) "
   ]
  },
  {
   "cell_type": "markdown",
   "metadata": {},
   "source": [
    "Получилось 20 аномальных пользователей. Далее узнаем, как они повлияли на результаты теста.\\\n",
    "Сначала подготовим выборки количества заказов по пользователям по группам теста"
   ]
  },
  {
   "cell_type": "code",
   "execution_count": 37,
   "metadata": {},
   "outputs": [],
   "source": [
    "sampleAFiltered = pd.concat(\n",
    "    [\n",
    "        ordersByUsersA[\n",
    "            np.logical_not(ordersByUsersA['visitorId'].isin(abnormalUsers))\n",
    "        ]['orders'],\n",
    "        pd.Series(\n",
    "            0,\n",
    "            index=np.arange(\n",
    "                data['visitorsPerDateA'].sum() - len(ordersByUsersA['orders'])\n",
    "            ),\n",
    "            name='orders',\n",
    "        ),\n",
    "    ],\n",
    "    axis=0,\n",
    ")\n",
    "\n",
    "sampleBFiltered = pd.concat(\n",
    "    [\n",
    "        ordersByUsersB[\n",
    "            np.logical_not(ordersByUsersB['visitorId'].isin(abnormalUsers))\n",
    "        ]['orders'],\n",
    "        pd.Series(\n",
    "            0,\n",
    "            index=np.arange(\n",
    "                data['visitorsPerDateB'].sum() - len(ordersByUsersB['orders'])\n",
    "            ),\n",
    "            name='orders',\n",
    "        ),\n",
    "    ],\n",
    "    axis=0,\n",
    ") "
   ]
  },
  {
   "cell_type": "markdown",
   "metadata": {},
   "source": [
    "Проведем тест"
   ]
  },
  {
   "cell_type": "code",
   "execution_count": 38,
   "metadata": {
    "scrolled": true
   },
   "outputs": [
    {
     "name": "stdout",
     "output_type": "stream",
     "text": [
      "p-value: 0.013904990762429726\n",
      "Прирост среднего кол-ва заказов группы В к группе А: 0.15103304987438104\n",
      "Отвергаем нулевую гипотезу о том, что различий в среднем количестве заказов на посетителя между группами А и В нет. Различия есть и они статистически значимы\n"
     ]
    }
   ],
   "source": [
    "alpha = 0.05\n",
    "results3= stats.mannwhitneyu(sampleAFiltered, sampleBFiltered)[1]\n",
    "growth3=(sampleBFiltered.mean()/sampleAFiltered.mean()-1)\n",
    "\n",
    "print('p-value:', results3)\n",
    "print(\"Прирост среднего кол-ва заказов группы В к группе А:\", growth3)\n",
    "\n",
    "if results3 < alpha:\n",
    "    print('Отвергаем нулевую гипотезу о том, что различий в среднем количестве заказов на посетителя между группами А и В нет. Различия есть и они статистически значимы')\n",
    "else:\n",
    "    print(\n",
    "        'Не получилось отвергнуть нулевую гипотезу, различий в среднем количестве заказов на посетителя между группами А и В действительно нет') "
   ]
  },
  {
   "cell_type": "markdown",
   "metadata": {},
   "source": [
    "Результаты по среднему количеству заказов по очищенным данным практически не изменились: p-value почти одинаковое, прирост группы В vs группа А составил 15% (+2% vs по \"сырым\" данным). Разница статистически значима."
   ]
  },
  {
   "cell_type": "markdown",
   "metadata": {},
   "source": [
    "### Посчитайте статистическую значимость различий в среднем чеке заказа между группами по «очищенным» данным"
   ]
  },
  {
   "cell_type": "markdown",
   "metadata": {},
   "source": [
    "**Сформулируем гипотезы**:\\\n",
    "``Н0``: различий в среднем чеке между группами А и В нет\\\n",
    "``Н1``: различия в среднем чеке заказов на посетителя между группами А и В есть"
   ]
  },
  {
   "cell_type": "markdown",
   "metadata": {},
   "source": [
    "Узнаем, изменились ли результаты по среднему чеку"
   ]
  },
  {
   "cell_type": "code",
   "execution_count": 39,
   "metadata": {},
   "outputs": [
    {
     "name": "stdout",
     "output_type": "stream",
     "text": [
      "p-value: 0.9588470797464653\n",
      "Прирост размера среднего чека группы В к группе А: -0.013852493303816549\n",
      "Не получилось отвергнуть нулевую гипотезу, различий в среднем чеке между группами А и В нет\n"
     ]
    }
   ],
   "source": [
    "alpha = 0.05\n",
    "results4= stats.mannwhitneyu(orders[np.logical_and(orders['group'] == 'A',np.logical_not(orders['visitorId'].isin(abnormalUsers)),)]['revenue'],orders[np.logical_and(orders['group'] == 'B',np.logical_not(orders['visitorId'].isin(abnormalUsers)),)]['revenue'],)[1]\n",
    "growth4=orders[np.logical_and(\n",
    "                orders['group'] == 'B',\n",
    "                np.logical_not(orders['visitorId'].isin(abnormalUsers)),)]['revenue'].mean()/ orders[\n",
    "            np.logical_and(\n",
    "                orders['group'] == 'A',\n",
    "                np.logical_not(orders['visitorId'].isin(abnormalUsers)),)]['revenue'].mean()- 1\n",
    "\n",
    "print('p-value:', results4)\n",
    "print(\"Прирост размера среднего чека группы В к группе А:\", growth4)\n",
    "\n",
    "if results4 < alpha:\n",
    "    print('Отвергаем нулевую гипотезу о том, что различий в среднем чеке между группами А и В нет. Различия есть и они статистически значимы')\n",
    "else:\n",
    "    print('Не получилось отвергнуть нулевую гипотезу, различий в среднем чеке между группами А и В нет') "
   ]
  },
  {
   "cell_type": "markdown",
   "metadata": {},
   "source": [
    "Выводы по результатам теста по очищенным данным: группа В не лучше группы А по среднему чеку, а даже чуть ниже на 0.01%.\\\n",
    "p-value больше 0.05, разница между группами статистически не значима.\\\n",
    "Видно, как выбросы влияли на показатель, ведь по \"сырым\" данные прирост среднего чека в группе В составлял +25% vs группа А."
   ]
  },
  {
   "cell_type": "markdown",
   "metadata": {},
   "source": [
    "``По результатов проведения тестов мы имеем следующие факты``:\n",
    "* ``Есть`` статистически значимое различие по среднему количеству заказов между группами и по «сырым», и по данным после фильтрации аномалий;\n",
    "* ``Нет`` статистически значимого различия по среднему чеку между группами ни по «сырым», ни по данным после фильтрации аномалий;\n",
    "* График различия среднего количества заказов между группами демонстрирует, что результаты группы B стабильно ``лучше`` группы A и нет тенденции к ухудшению"
   ]
  },
  {
   "cell_type": "code",
   "execution_count": 40,
   "metadata": {},
   "outputs": [
    {
     "data": {
      "image/png": "[encoded data removed]",
      "text/plain": [
       "<Figure size 720x360 with 1 Axes>"
      ]
     },
     "metadata": {
      "needs_background": "light"
     },
     "output_type": "display_data"
    }
   ],
   "source": [
    "plt.figure(figsize = (10,5))\n",
    "plt.plot(mergedCumulativeConversions['date'], mergedCumulativeConversions['conversionB']/mergedCumulativeConversions['conversionA']-1)\n",
    "\n",
    "plt.axhline(y=0, color='black', linestyle='--')\n",
    "plt.axhline(y=0.2, color='grey', linestyle='--')\n",
    "plt.axis([\"2019-08-01\", '2019-09-01', -0.5, 0.6])\n",
    "plt.title('Относительное изменение кумулятивного среднего количества заказов на посетителя');"
   ]
  },
  {
   "cell_type": "markdown",
   "metadata": {},
   "source": [
    "* График различия среднего чека колеблется и изменяется. Сделать какие-то определенные выводы из данного графика сложно."
   ]
  },
  {
   "cell_type": "code",
   "execution_count": 41,
   "metadata": {},
   "outputs": [
    {
     "data": {
      "image/png": "[encoded data removed]",
      "text/plain": [
       "<Figure size 720x360 with 1 Axes>"
      ]
     },
     "metadata": {
      "needs_background": "light"
     },
     "output_type": "display_data"
    }
   ],
   "source": [
    "plt.figure(figsize = (10,5))\n",
    "# построим отношение средних чеков\n",
    "plt.plot(mergedCumulativeRevenue['date'], (mergedCumulativeRevenue['revenueB']/mergedCumulativeRevenue['ordersB'])/(mergedCumulativeRevenue['revenueA']/mergedCumulativeRevenue['ordersA'])-1)\n",
    "\n",
    "# добавим ось X\n",
    "plt.axhline(y=0, color='black', linestyle='--') \n",
    "plt.title(\"Относительное изменение кумулятивного среднего чека группы B к группе A\");"
   ]
  },
  {
   "cell_type": "markdown",
   "metadata": {},
   "source": [
    "**РЕШЕНИЕ**:\\\n",
    "Исходя из фактов выше, я бы рекомендовала ``остановить тест и признать его успешным``.\\\n",
    "Не смотря на то, что после очистки данных от аномалий результаты тестов показали, что нет различия по среднему чеку между группой А и группой В, по среднему кол-ву заказов группа В стабильно лидирует, и эта разница статистически значима.\\\n",
    "Так как наша цель - увеличение выручки, рост кол-ва заказов при сохранении +/- текущего среднего чека определенно может привести нас к данной цели."
   ]
  }
 ],
 "metadata": {
  "ExecuteTimeLog": [
   {
    "duration": 500,
    "start_time": "2023-02-16T12:12:15.623Z"
   },
   {
    "duration": 15,
    "start_time": "2023-02-16T12:12:21.125Z"
   },
   {
    "duration": 725,
    "start_time": "2023-02-16T12:12:49.795Z"
   },
   {
    "duration": 3,
    "start_time": "2023-02-16T12:13:19.256Z"
   },
   {
    "duration": 14,
    "start_time": "2023-02-16T12:13:23.024Z"
   },
   {
    "duration": 23,
    "start_time": "2023-02-16T12:13:39.541Z"
   },
   {
    "duration": 24,
    "start_time": "2023-02-16T12:15:20.248Z"
   },
   {
    "duration": 7,
    "start_time": "2023-02-16T12:15:23.732Z"
   },
   {
    "duration": 10,
    "start_time": "2023-02-16T12:15:24.732Z"
   },
   {
    "duration": 15,
    "start_time": "2023-02-16T12:16:43.456Z"
   },
   {
    "duration": 206,
    "start_time": "2023-02-16T15:50:03.468Z"
   },
   {
    "duration": 12,
    "start_time": "2023-02-16T15:50:37.325Z"
   },
   {
    "duration": 24,
    "start_time": "2023-02-16T15:50:44.029Z"
   },
   {
    "duration": 2,
    "start_time": "2023-02-16T15:54:31.627Z"
   },
   {
    "duration": 932,
    "start_time": "2023-02-16T16:03:19.197Z"
   },
   {
    "duration": 952,
    "start_time": "2023-02-17T06:04:17.721Z"
   },
   {
    "duration": 506,
    "start_time": "2023-02-17T06:04:53.627Z"
   },
   {
    "duration": 20,
    "start_time": "2023-02-17T06:04:54.135Z"
   },
   {
    "duration": 18,
    "start_time": "2023-02-17T06:04:54.157Z"
   },
   {
    "duration": 14,
    "start_time": "2023-02-17T06:04:54.178Z"
   },
   {
    "duration": 152,
    "start_time": "2023-02-17T06:04:54.194Z"
   },
   {
    "duration": 14,
    "start_time": "2023-02-17T06:04:54.348Z"
   },
   {
    "duration": 19,
    "start_time": "2023-02-17T06:04:54.364Z"
   },
   {
    "duration": 806,
    "start_time": "2023-02-17T06:04:54.385Z"
   },
   {
    "duration": 3,
    "start_time": "2023-02-17T06:05:40.034Z"
   },
   {
    "duration": 550,
    "start_time": "2023-02-17T06:05:41.874Z"
   },
   {
    "duration": 467,
    "start_time": "2023-02-17T06:19:20.224Z"
   },
   {
    "duration": 16,
    "start_time": "2023-02-17T06:19:20.694Z"
   },
   {
    "duration": 15,
    "start_time": "2023-02-17T06:19:20.712Z"
   },
   {
    "duration": 19,
    "start_time": "2023-02-17T06:19:20.728Z"
   },
   {
    "duration": 63,
    "start_time": "2023-02-17T06:19:20.749Z"
   },
   {
    "duration": 15,
    "start_time": "2023-02-17T06:19:20.814Z"
   },
   {
    "duration": 13,
    "start_time": "2023-02-17T06:19:20.831Z"
   },
   {
    "duration": 276,
    "start_time": "2023-02-17T06:19:20.845Z"
   },
   {
    "duration": 619,
    "start_time": "2023-02-17T06:19:21.122Z"
   },
   {
    "duration": 77,
    "start_time": "2023-02-17T06:21:22.464Z"
   },
   {
    "duration": 191,
    "start_time": "2023-02-17T06:27:46.125Z"
   },
   {
    "duration": 198,
    "start_time": "2023-02-17T06:39:26.771Z"
   },
   {
    "duration": 482,
    "start_time": "2023-02-17T06:39:42.329Z"
   },
   {
    "duration": 300,
    "start_time": "2023-02-17T06:40:29.133Z"
   },
   {
    "duration": 417,
    "start_time": "2023-02-17T06:40:36.377Z"
   },
   {
    "duration": 16,
    "start_time": "2023-02-17T06:40:36.795Z"
   },
   {
    "duration": 19,
    "start_time": "2023-02-17T06:40:36.812Z"
   },
   {
    "duration": 20,
    "start_time": "2023-02-17T06:40:36.833Z"
   },
   {
    "duration": 54,
    "start_time": "2023-02-17T06:40:36.856Z"
   },
   {
    "duration": 13,
    "start_time": "2023-02-17T06:40:36.912Z"
   },
   {
    "duration": 27,
    "start_time": "2023-02-17T06:40:36.927Z"
   },
   {
    "duration": 306,
    "start_time": "2023-02-17T06:40:36.956Z"
   },
   {
    "duration": 608,
    "start_time": "2023-02-17T06:40:37.264Z"
   },
   {
    "duration": 266,
    "start_time": "2023-02-17T06:40:37.874Z"
   },
   {
    "duration": 360,
    "start_time": "2023-02-17T06:41:06.761Z"
   },
   {
    "duration": 442,
    "start_time": "2023-02-17T06:41:13.764Z"
   },
   {
    "duration": 17,
    "start_time": "2023-02-17T06:41:14.208Z"
   },
   {
    "duration": 15,
    "start_time": "2023-02-17T06:41:14.227Z"
   },
   {
    "duration": 17,
    "start_time": "2023-02-17T06:41:14.244Z"
   },
   {
    "duration": 67,
    "start_time": "2023-02-17T06:41:14.263Z"
   },
   {
    "duration": 14,
    "start_time": "2023-02-17T06:41:14.332Z"
   },
   {
    "duration": 11,
    "start_time": "2023-02-17T06:41:14.347Z"
   },
   {
    "duration": 272,
    "start_time": "2023-02-17T06:41:14.360Z"
   },
   {
    "duration": 610,
    "start_time": "2023-02-17T06:41:14.634Z"
   },
   {
    "duration": 205,
    "start_time": "2023-02-17T06:41:15.246Z"
   },
   {
    "duration": 301,
    "start_time": "2023-02-17T07:07:03.767Z"
   },
   {
    "duration": 383,
    "start_time": "2023-02-17T07:07:15.967Z"
   },
   {
    "duration": 155,
    "start_time": "2023-02-17T07:32:07.802Z"
   },
   {
    "duration": 225,
    "start_time": "2023-02-17T08:15:14.781Z"
   },
   {
    "duration": 205,
    "start_time": "2023-02-17T08:15:41.181Z"
   },
   {
    "duration": 187,
    "start_time": "2023-02-17T08:17:27.282Z"
   },
   {
    "duration": 307,
    "start_time": "2023-02-17T08:25:55.262Z"
   },
   {
    "duration": 347,
    "start_time": "2023-02-17T08:27:22.640Z"
   },
   {
    "duration": 368,
    "start_time": "2023-02-17T08:27:32.393Z"
   },
   {
    "duration": 345,
    "start_time": "2023-02-17T08:27:53.603Z"
   },
   {
    "duration": 338,
    "start_time": "2023-02-17T08:28:14.525Z"
   },
   {
    "duration": 358,
    "start_time": "2023-02-17T08:28:22.123Z"
   },
   {
    "duration": 307,
    "start_time": "2023-02-17T08:29:18.043Z"
   },
   {
    "duration": 305,
    "start_time": "2023-02-17T08:40:13.464Z"
   },
   {
    "duration": 324,
    "start_time": "2023-02-17T08:42:11.644Z"
   },
   {
    "duration": 204,
    "start_time": "2023-02-17T08:43:50.044Z"
   },
   {
    "duration": 88,
    "start_time": "2023-02-17T08:44:04.845Z"
   },
   {
    "duration": 224,
    "start_time": "2023-02-17T08:44:32.664Z"
   },
   {
    "duration": 292,
    "start_time": "2023-02-17T08:51:27.164Z"
   },
   {
    "duration": 187,
    "start_time": "2023-02-17T08:51:40.773Z"
   },
   {
    "duration": 199,
    "start_time": "2023-02-17T08:51:53.443Z"
   },
   {
    "duration": 222,
    "start_time": "2023-02-17T08:52:02.376Z"
   },
   {
    "duration": 188,
    "start_time": "2023-02-17T08:52:06.283Z"
   },
   {
    "duration": 197,
    "start_time": "2023-02-17T08:52:09.844Z"
   },
   {
    "duration": 289,
    "start_time": "2023-02-17T08:52:13.463Z"
   },
   {
    "duration": 281,
    "start_time": "2023-02-17T08:52:22.404Z"
   },
   {
    "duration": 248,
    "start_time": "2023-02-17T08:52:38.443Z"
   },
   {
    "duration": 206,
    "start_time": "2023-02-17T08:52:54.164Z"
   },
   {
    "duration": 225,
    "start_time": "2023-02-17T08:53:09.504Z"
   },
   {
    "duration": 202,
    "start_time": "2023-02-17T08:53:18.144Z"
   },
   {
    "duration": 222,
    "start_time": "2023-02-17T08:53:24.144Z"
   },
   {
    "duration": 209,
    "start_time": "2023-02-17T08:53:34.164Z"
   },
   {
    "duration": 197,
    "start_time": "2023-02-17T08:53:40.084Z"
   },
   {
    "duration": 283,
    "start_time": "2023-02-17T08:53:55.183Z"
   },
   {
    "duration": 357,
    "start_time": "2023-02-17T08:54:02.424Z"
   },
   {
    "duration": 387,
    "start_time": "2023-02-17T08:54:59.566Z"
   },
   {
    "duration": 336,
    "start_time": "2023-02-17T08:55:06.323Z"
   },
   {
    "duration": 8,
    "start_time": "2023-02-17T09:03:56.863Z"
   },
   {
    "duration": 14,
    "start_time": "2023-02-17T09:21:33.217Z"
   },
   {
    "duration": 13,
    "start_time": "2023-02-17T09:22:00.256Z"
   },
   {
    "duration": 13,
    "start_time": "2023-02-17T09:22:24.256Z"
   },
   {
    "duration": 494,
    "start_time": "2023-02-17T09:22:32.328Z"
   },
   {
    "duration": 14,
    "start_time": "2023-02-17T09:22:32.823Z"
   },
   {
    "duration": 52,
    "start_time": "2023-02-17T09:22:32.839Z"
   },
   {
    "duration": 27,
    "start_time": "2023-02-17T09:22:32.893Z"
   },
   {
    "duration": 72,
    "start_time": "2023-02-17T09:22:32.921Z"
   },
   {
    "duration": 13,
    "start_time": "2023-02-17T09:22:32.995Z"
   },
   {
    "duration": 31,
    "start_time": "2023-02-17T09:22:33.009Z"
   },
   {
    "duration": 266,
    "start_time": "2023-02-17T09:22:33.041Z"
   },
   {
    "duration": 588,
    "start_time": "2023-02-17T09:22:33.308Z"
   },
   {
    "duration": 208,
    "start_time": "2023-02-17T09:22:33.899Z"
   },
   {
    "duration": 329,
    "start_time": "2023-02-17T09:22:34.109Z"
   },
   {
    "duration": 292,
    "start_time": "2023-02-17T09:22:34.439Z"
   },
   {
    "duration": 328,
    "start_time": "2023-02-17T09:22:34.733Z"
   },
   {
    "duration": 15,
    "start_time": "2023-02-17T09:22:35.063Z"
   },
   {
    "duration": 109,
    "start_time": "2023-02-17T09:22:35.079Z"
   },
   {
    "duration": 0,
    "start_time": "2023-02-17T09:22:35.190Z"
   },
   {
    "duration": 10,
    "start_time": "2023-02-17T09:25:12.747Z"
   },
   {
    "duration": 116,
    "start_time": "2023-02-17T09:25:15.228Z"
   },
   {
    "duration": 120,
    "start_time": "2023-02-17T10:43:41.280Z"
   },
   {
    "duration": 4,
    "start_time": "2023-02-17T11:02:01.518Z"
   },
   {
    "duration": 5,
    "start_time": "2023-02-17T11:02:05.519Z"
   },
   {
    "duration": 78,
    "start_time": "2023-02-17T11:26:44.754Z"
   },
   {
    "duration": 10,
    "start_time": "2023-02-17T11:26:49.376Z"
   },
   {
    "duration": 5,
    "start_time": "2023-02-17T11:42:31.998Z"
   },
   {
    "duration": 11,
    "start_time": "2023-02-17T11:42:34.428Z"
   },
   {
    "duration": 15,
    "start_time": "2023-02-17T11:42:57.030Z"
   },
   {
    "duration": 7,
    "start_time": "2023-02-17T11:43:13.069Z"
   },
   {
    "duration": 8,
    "start_time": "2023-02-17T11:43:20.577Z"
   },
   {
    "duration": 1234,
    "start_time": "2023-02-17T11:44:25.123Z"
   },
   {
    "duration": 137,
    "start_time": "2023-02-17T11:44:36.202Z"
   },
   {
    "duration": 133,
    "start_time": "2023-02-17T11:51:52.043Z"
   },
   {
    "duration": 168,
    "start_time": "2023-02-17T11:52:49.642Z"
   },
   {
    "duration": 174,
    "start_time": "2023-02-17T11:52:56.722Z"
   },
   {
    "duration": 4,
    "start_time": "2023-02-17T11:54:36.901Z"
   },
   {
    "duration": 4,
    "start_time": "2023-02-17T11:54:45.941Z"
   },
   {
    "duration": 145,
    "start_time": "2023-02-17T11:54:53.883Z"
   },
   {
    "duration": 150,
    "start_time": "2023-02-17T11:55:21.254Z"
   },
   {
    "duration": 146,
    "start_time": "2023-02-17T11:55:30.442Z"
   },
   {
    "duration": 92,
    "start_time": "2023-02-17T11:58:34.522Z"
   },
   {
    "duration": 223,
    "start_time": "2023-02-17T11:58:59.802Z"
   },
   {
    "duration": 158,
    "start_time": "2023-02-17T11:59:47.974Z"
   },
   {
    "duration": 136,
    "start_time": "2023-02-17T12:00:26.462Z"
   },
   {
    "duration": 149,
    "start_time": "2023-02-17T12:01:35.243Z"
   },
   {
    "duration": 144,
    "start_time": "2023-02-17T12:01:43.139Z"
   },
   {
    "duration": 131,
    "start_time": "2023-02-17T12:01:59.644Z"
   },
   {
    "duration": 131,
    "start_time": "2023-02-17T12:02:05.762Z"
   },
   {
    "duration": 119,
    "start_time": "2023-02-17T12:02:14.982Z"
   },
   {
    "duration": 139,
    "start_time": "2023-02-17T12:02:58.682Z"
   },
   {
    "duration": 143,
    "start_time": "2023-02-17T12:03:05.783Z"
   },
   {
    "duration": 128,
    "start_time": "2023-02-17T12:04:30.703Z"
   },
   {
    "duration": 156,
    "start_time": "2023-02-17T12:05:16.911Z"
   },
   {
    "duration": 235,
    "start_time": "2023-02-17T12:06:08.022Z"
   },
   {
    "duration": 287,
    "start_time": "2023-02-17T12:06:18.742Z"
   },
   {
    "duration": 310,
    "start_time": "2023-02-17T12:06:30.222Z"
   },
   {
    "duration": 305,
    "start_time": "2023-02-17T12:06:57.043Z"
   },
   {
    "duration": 210,
    "start_time": "2023-02-17T12:07:31.822Z"
   },
   {
    "duration": 304,
    "start_time": "2023-02-17T12:08:08.723Z"
   },
   {
    "duration": 436,
    "start_time": "2023-02-17T12:08:28.958Z"
   },
   {
    "duration": 17,
    "start_time": "2023-02-17T12:08:29.396Z"
   },
   {
    "duration": 32,
    "start_time": "2023-02-17T12:08:29.414Z"
   },
   {
    "duration": 19,
    "start_time": "2023-02-17T12:08:29.447Z"
   },
   {
    "duration": 62,
    "start_time": "2023-02-17T12:08:29.469Z"
   },
   {
    "duration": 13,
    "start_time": "2023-02-17T12:08:29.533Z"
   },
   {
    "duration": 31,
    "start_time": "2023-02-17T12:08:29.548Z"
   },
   {
    "duration": 289,
    "start_time": "2023-02-17T12:08:29.581Z"
   },
   {
    "duration": 602,
    "start_time": "2023-02-17T12:08:29.872Z"
   },
   {
    "duration": 217,
    "start_time": "2023-02-17T12:08:30.476Z"
   },
   {
    "duration": 309,
    "start_time": "2023-02-17T12:08:30.695Z"
   },
   {
    "duration": 284,
    "start_time": "2023-02-17T12:08:31.005Z"
   },
   {
    "duration": 331,
    "start_time": "2023-02-17T12:08:31.291Z"
   },
   {
    "duration": 13,
    "start_time": "2023-02-17T12:08:31.625Z"
   },
   {
    "duration": 37,
    "start_time": "2023-02-17T12:08:31.640Z"
   },
   {
    "duration": 139,
    "start_time": "2023-02-17T12:08:31.680Z"
   },
   {
    "duration": 6,
    "start_time": "2023-02-17T12:08:31.821Z"
   },
   {
    "duration": 36,
    "start_time": "2023-02-17T12:08:31.837Z"
   },
   {
    "duration": 169,
    "start_time": "2023-02-17T12:08:31.875Z"
   },
   {
    "duration": 157,
    "start_time": "2023-02-17T12:08:32.046Z"
   },
   {
    "duration": 154,
    "start_time": "2023-02-17T12:08:32.205Z"
   },
   {
    "duration": 370,
    "start_time": "2023-02-17T12:08:59.119Z"
   },
   {
    "duration": 211,
    "start_time": "2023-02-17T12:09:06.858Z"
   },
   {
    "duration": 459,
    "start_time": "2023-02-17T12:09:14.122Z"
   },
   {
    "duration": 13,
    "start_time": "2023-02-17T12:09:14.583Z"
   },
   {
    "duration": 11,
    "start_time": "2023-02-17T12:09:14.598Z"
   },
   {
    "duration": 10,
    "start_time": "2023-02-17T12:09:14.611Z"
   },
   {
    "duration": 54,
    "start_time": "2023-02-17T12:09:14.623Z"
   },
   {
    "duration": 12,
    "start_time": "2023-02-17T12:09:14.678Z"
   },
   {
    "duration": 15,
    "start_time": "2023-02-17T12:09:14.692Z"
   },
   {
    "duration": 237,
    "start_time": "2023-02-17T12:09:14.709Z"
   },
   {
    "duration": 281,
    "start_time": "2023-02-17T12:09:14.947Z"
   },
   {
    "duration": 296,
    "start_time": "2023-02-17T12:09:15.230Z"
   },
   {
    "duration": 193,
    "start_time": "2023-02-17T12:09:15.528Z"
   },
   {
    "duration": 316,
    "start_time": "2023-02-17T12:09:15.723Z"
   },
   {
    "duration": 283,
    "start_time": "2023-02-17T12:09:16.041Z"
   },
   {
    "duration": 320,
    "start_time": "2023-02-17T12:09:16.327Z"
   },
   {
    "duration": 10,
    "start_time": "2023-02-17T12:09:16.649Z"
   },
   {
    "duration": 11,
    "start_time": "2023-02-17T12:09:16.661Z"
   },
   {
    "duration": 145,
    "start_time": "2023-02-17T12:09:16.674Z"
   },
   {
    "duration": 5,
    "start_time": "2023-02-17T12:09:16.821Z"
   },
   {
    "duration": 13,
    "start_time": "2023-02-17T12:09:16.838Z"
   },
   {
    "duration": 146,
    "start_time": "2023-02-17T12:09:16.852Z"
   },
   {
    "duration": 131,
    "start_time": "2023-02-17T12:09:16.999Z"
   },
   {
    "duration": 129,
    "start_time": "2023-02-17T12:09:17.137Z"
   },
   {
    "duration": 125,
    "start_time": "2023-02-17T12:09:45.233Z"
   },
   {
    "duration": 138,
    "start_time": "2023-02-17T12:09:48.193Z"
   },
   {
    "duration": 5,
    "start_time": "2023-02-17T12:12:53.042Z"
   },
   {
    "duration": 6,
    "start_time": "2023-02-17T12:12:55.981Z"
   },
   {
    "duration": 130,
    "start_time": "2023-02-17T12:13:38.901Z"
   },
   {
    "duration": 86,
    "start_time": "2023-02-17T12:29:03.664Z"
   },
   {
    "duration": 571,
    "start_time": "2023-02-17T12:30:03.900Z"
   },
   {
    "duration": 8,
    "start_time": "2023-02-17T12:32:54.780Z"
   },
   {
    "duration": 39,
    "start_time": "2023-02-17T12:32:57.709Z"
   },
   {
    "duration": 79,
    "start_time": "2023-02-17T12:38:01.542Z"
   },
   {
    "duration": 44,
    "start_time": "2023-02-17T12:38:39.194Z"
   },
   {
    "duration": 47,
    "start_time": "2023-02-17T12:39:09.953Z"
   },
   {
    "duration": 48,
    "start_time": "2023-02-17T12:39:48.594Z"
   },
   {
    "duration": 49,
    "start_time": "2023-02-17T12:40:56.662Z"
   },
   {
    "duration": 0,
    "start_time": "2023-02-17T12:42:57.147Z"
   },
   {
    "duration": 8,
    "start_time": "2023-02-17T12:43:49.586Z"
   },
   {
    "duration": 49,
    "start_time": "2023-02-17T12:43:59.535Z"
   },
   {
    "duration": 47,
    "start_time": "2023-02-17T12:45:33.688Z"
   },
   {
    "duration": 40,
    "start_time": "2023-02-17T12:46:10.127Z"
   },
   {
    "duration": 38,
    "start_time": "2023-02-17T12:46:34.279Z"
   },
   {
    "duration": 41,
    "start_time": "2023-02-17T12:47:11.781Z"
   },
   {
    "duration": 38,
    "start_time": "2023-02-17T12:47:18.419Z"
   },
   {
    "duration": 44,
    "start_time": "2023-02-17T12:47:30.540Z"
   },
   {
    "duration": 43,
    "start_time": "2023-02-17T12:47:43.090Z"
   },
   {
    "duration": 50,
    "start_time": "2023-02-17T12:47:49.399Z"
   },
   {
    "duration": 14,
    "start_time": "2023-02-17T13:00:09.931Z"
   },
   {
    "duration": 12,
    "start_time": "2023-02-17T13:00:39.022Z"
   },
   {
    "duration": 13,
    "start_time": "2023-02-17T13:01:27.363Z"
   },
   {
    "duration": 1277,
    "start_time": "2023-02-17T13:13:32.394Z"
   },
   {
    "duration": 12,
    "start_time": "2023-02-17T13:14:16.771Z"
   },
   {
    "duration": 9,
    "start_time": "2023-02-17T13:15:33.851Z"
   },
   {
    "duration": 1762,
    "start_time": "2023-02-17T13:16:39.635Z"
   },
   {
    "duration": 450,
    "start_time": "2023-02-17T13:18:23.969Z"
   },
   {
    "duration": 15,
    "start_time": "2023-02-17T13:18:24.421Z"
   },
   {
    "duration": 53,
    "start_time": "2023-02-17T13:18:24.439Z"
   },
   {
    "duration": 50,
    "start_time": "2023-02-17T13:18:24.494Z"
   },
   {
    "duration": 77,
    "start_time": "2023-02-17T13:18:24.546Z"
   },
   {
    "duration": 13,
    "start_time": "2023-02-17T13:18:24.625Z"
   },
   {
    "duration": 43,
    "start_time": "2023-02-17T13:18:24.640Z"
   },
   {
    "duration": 304,
    "start_time": "2023-02-17T13:18:24.685Z"
   },
   {
    "duration": 363,
    "start_time": "2023-02-17T13:18:24.991Z"
   },
   {
    "duration": 312,
    "start_time": "2023-02-17T13:18:25.357Z"
   },
   {
    "duration": 244,
    "start_time": "2023-02-17T13:18:25.672Z"
   },
   {
    "duration": 387,
    "start_time": "2023-02-17T13:18:25.918Z"
   },
   {
    "duration": 303,
    "start_time": "2023-02-17T13:18:26.307Z"
   },
   {
    "duration": 376,
    "start_time": "2023-02-17T13:18:26.612Z"
   },
   {
    "duration": 10,
    "start_time": "2023-02-17T13:18:26.989Z"
   },
   {
    "duration": 15,
    "start_time": "2023-02-17T13:18:27.001Z"
   },
   {
    "duration": 152,
    "start_time": "2023-02-17T13:18:27.017Z"
   },
   {
    "duration": 5,
    "start_time": "2023-02-17T13:18:27.172Z"
   },
   {
    "duration": 25,
    "start_time": "2023-02-17T13:18:27.179Z"
   },
   {
    "duration": 189,
    "start_time": "2023-02-17T13:18:27.205Z"
   },
   {
    "duration": 150,
    "start_time": "2023-02-17T13:18:27.397Z"
   },
   {
    "duration": 163,
    "start_time": "2023-02-17T13:18:27.549Z"
   },
   {
    "duration": 6,
    "start_time": "2023-02-17T13:18:27.713Z"
   },
   {
    "duration": 562,
    "start_time": "2023-02-17T13:18:27.721Z"
   },
   {
    "duration": 12,
    "start_time": "2023-02-17T13:18:28.285Z"
   },
   {
    "duration": 29,
    "start_time": "2023-02-17T13:18:28.299Z"
   },
   {
    "duration": 56,
    "start_time": "2023-02-17T13:18:28.330Z"
   },
   {
    "duration": 1282,
    "start_time": "2023-02-17T13:18:28.390Z"
   },
   {
    "duration": 1395,
    "start_time": "2023-02-17T13:19:50.360Z"
   },
   {
    "duration": 1224,
    "start_time": "2023-02-17T13:25:38.898Z"
   },
   {
    "duration": 1290,
    "start_time": "2023-02-17T13:26:05.959Z"
   },
   {
    "duration": 146,
    "start_time": "2023-02-17T13:32:36.411Z"
   },
   {
    "duration": 126,
    "start_time": "2023-02-17T13:33:32.997Z"
   },
   {
    "duration": 233,
    "start_time": "2023-02-17T13:34:18.617Z"
   },
   {
    "duration": 1565,
    "start_time": "2023-02-17T13:40:11.569Z"
   },
   {
    "duration": 9,
    "start_time": "2023-02-17T13:40:28.351Z"
   },
   {
    "duration": 91,
    "start_time": "2023-02-17T13:41:35.638Z"
   },
   {
    "duration": 32,
    "start_time": "2023-02-17T13:41:48.369Z"
   },
   {
    "duration": 27,
    "start_time": "2023-02-17T13:43:20.638Z"
   },
   {
    "duration": 9,
    "start_time": "2023-02-17T13:54:32.642Z"
   },
   {
    "duration": 9,
    "start_time": "2023-02-17T13:54:44.760Z"
   },
   {
    "duration": 7,
    "start_time": "2023-02-17T13:54:51.679Z"
   },
   {
    "duration": 7,
    "start_time": "2023-02-17T15:56:36.307Z"
   },
   {
    "duration": 1161,
    "start_time": "2023-02-17T15:57:17.437Z"
   },
   {
    "duration": 1133,
    "start_time": "2023-02-17T15:57:41.745Z"
   },
   {
    "duration": 1153,
    "start_time": "2023-02-17T15:57:52.585Z"
   },
   {
    "duration": 15,
    "start_time": "2023-02-17T15:58:33.898Z"
   },
   {
    "duration": 12,
    "start_time": "2023-02-17T16:02:20.246Z"
   },
   {
    "duration": 24,
    "start_time": "2023-02-17T16:05:26.278Z"
   },
   {
    "duration": 17,
    "start_time": "2023-02-17T16:08:12.567Z"
   },
   {
    "duration": 15,
    "start_time": "2023-02-17T16:10:04.099Z"
   },
   {
    "duration": 324,
    "start_time": "2023-02-17T16:24:05.337Z"
   },
   {
    "duration": 279,
    "start_time": "2023-02-17T16:24:27.077Z"
   },
   {
    "duration": 8,
    "start_time": "2023-02-17T16:36:55.816Z"
   },
   {
    "duration": 418,
    "start_time": "2023-02-17T16:37:04.563Z"
   },
   {
    "duration": 15,
    "start_time": "2023-02-17T16:37:04.983Z"
   },
   {
    "duration": 15,
    "start_time": "2023-02-17T16:37:04.999Z"
   },
   {
    "duration": 11,
    "start_time": "2023-02-17T16:37:05.016Z"
   },
   {
    "duration": 71,
    "start_time": "2023-02-17T16:37:05.029Z"
   },
   {
    "duration": 0,
    "start_time": "2023-02-17T16:37:05.103Z"
   },
   {
    "duration": 0,
    "start_time": "2023-02-17T16:37:05.104Z"
   },
   {
    "duration": 0,
    "start_time": "2023-02-17T16:37:05.106Z"
   },
   {
    "duration": 0,
    "start_time": "2023-02-17T16:37:05.108Z"
   },
   {
    "duration": 0,
    "start_time": "2023-02-17T16:37:05.110Z"
   },
   {
    "duration": 0,
    "start_time": "2023-02-17T16:37:05.111Z"
   },
   {
    "duration": 0,
    "start_time": "2023-02-17T16:37:05.113Z"
   },
   {
    "duration": 0,
    "start_time": "2023-02-17T16:37:05.114Z"
   },
   {
    "duration": 0,
    "start_time": "2023-02-17T16:37:05.139Z"
   },
   {
    "duration": 0,
    "start_time": "2023-02-17T16:37:05.140Z"
   },
   {
    "duration": 0,
    "start_time": "2023-02-17T16:37:05.141Z"
   },
   {
    "duration": 0,
    "start_time": "2023-02-17T16:37:05.142Z"
   },
   {
    "duration": 0,
    "start_time": "2023-02-17T16:37:05.143Z"
   },
   {
    "duration": 0,
    "start_time": "2023-02-17T16:37:05.145Z"
   },
   {
    "duration": 0,
    "start_time": "2023-02-17T16:37:05.146Z"
   },
   {
    "duration": 0,
    "start_time": "2023-02-17T16:37:05.147Z"
   },
   {
    "duration": 0,
    "start_time": "2023-02-17T16:37:05.148Z"
   },
   {
    "duration": 0,
    "start_time": "2023-02-17T16:37:05.149Z"
   },
   {
    "duration": 0,
    "start_time": "2023-02-17T16:37:05.149Z"
   },
   {
    "duration": 0,
    "start_time": "2023-02-17T16:37:05.151Z"
   },
   {
    "duration": 0,
    "start_time": "2023-02-17T16:37:05.152Z"
   },
   {
    "duration": 0,
    "start_time": "2023-02-17T16:37:05.153Z"
   },
   {
    "duration": 0,
    "start_time": "2023-02-17T16:37:05.154Z"
   },
   {
    "duration": 0,
    "start_time": "2023-02-17T16:37:05.155Z"
   },
   {
    "duration": 0,
    "start_time": "2023-02-17T16:37:05.156Z"
   },
   {
    "duration": 0,
    "start_time": "2023-02-17T16:37:05.157Z"
   },
   {
    "duration": 0,
    "start_time": "2023-02-17T16:37:05.158Z"
   },
   {
    "duration": 0,
    "start_time": "2023-02-17T16:37:05.159Z"
   },
   {
    "duration": 0,
    "start_time": "2023-02-17T16:37:05.161Z"
   },
   {
    "duration": 10,
    "start_time": "2023-02-17T16:37:31.954Z"
   },
   {
    "duration": 5,
    "start_time": "2023-02-17T16:37:41.222Z"
   },
   {
    "duration": 5,
    "start_time": "2023-02-17T16:37:51.964Z"
   },
   {
    "duration": 1094,
    "start_time": "2023-02-17T16:38:07.641Z"
   },
   {
    "duration": 478,
    "start_time": "2023-02-17T16:45:31.504Z"
   },
   {
    "duration": 16,
    "start_time": "2023-02-17T16:45:31.984Z"
   },
   {
    "duration": 18,
    "start_time": "2023-02-17T16:45:32.002Z"
   },
   {
    "duration": 23,
    "start_time": "2023-02-17T16:45:32.022Z"
   },
   {
    "duration": 92,
    "start_time": "2023-02-17T16:45:32.048Z"
   },
   {
    "duration": 13,
    "start_time": "2023-02-17T16:45:32.142Z"
   },
   {
    "duration": 17,
    "start_time": "2023-02-17T16:45:32.157Z"
   },
   {
    "duration": 251,
    "start_time": "2023-02-17T16:45:32.176Z"
   },
   {
    "duration": 302,
    "start_time": "2023-02-17T16:45:32.429Z"
   },
   {
    "duration": 276,
    "start_time": "2023-02-17T16:45:32.733Z"
   },
   {
    "duration": 204,
    "start_time": "2023-02-17T16:45:33.011Z"
   },
   {
    "duration": 336,
    "start_time": "2023-02-17T16:45:33.217Z"
   },
   {
    "duration": 235,
    "start_time": "2023-02-17T16:45:33.554Z"
   },
   {
    "duration": 289,
    "start_time": "2023-02-17T16:45:33.792Z"
   },
   {
    "duration": 9,
    "start_time": "2023-02-17T16:45:34.082Z"
   },
   {
    "duration": 19,
    "start_time": "2023-02-17T16:45:34.092Z"
   },
   {
    "duration": 125,
    "start_time": "2023-02-17T16:45:34.112Z"
   },
   {
    "duration": 5,
    "start_time": "2023-02-17T16:45:34.239Z"
   },
   {
    "duration": 44,
    "start_time": "2023-02-17T16:45:34.245Z"
   },
   {
    "duration": 136,
    "start_time": "2023-02-17T16:45:34.291Z"
   },
   {
    "duration": 135,
    "start_time": "2023-02-17T16:45:34.429Z"
   },
   {
    "duration": 136,
    "start_time": "2023-02-17T16:45:34.566Z"
   },
   {
    "duration": 6,
    "start_time": "2023-02-17T16:45:34.703Z"
   },
   {
    "duration": 251,
    "start_time": "2023-02-17T16:45:34.710Z"
   },
   {
    "duration": 511,
    "start_time": "2023-02-17T16:45:34.963Z"
   },
   {
    "duration": 11,
    "start_time": "2023-02-17T16:45:35.476Z"
   },
   {
    "duration": 49,
    "start_time": "2023-02-17T16:45:35.488Z"
   },
   {
    "duration": 44,
    "start_time": "2023-02-17T16:45:35.539Z"
   },
   {
    "duration": 42,
    "start_time": "2023-02-17T16:45:35.585Z"
   },
   {
    "duration": 68,
    "start_time": "2023-02-17T16:45:35.629Z"
   },
   {
    "duration": 26,
    "start_time": "2023-02-17T16:45:35.699Z"
   },
   {
    "duration": 316,
    "start_time": "2023-02-17T16:45:35.727Z"
   },
   {
    "duration": 309,
    "start_time": "2023-02-17T16:45:36.045Z"
   },
   {
    "duration": 244,
    "start_time": "2023-02-17T17:10:33.691Z"
   },
   {
    "duration": 321,
    "start_time": "2023-02-17T17:10:42.331Z"
   },
   {
    "duration": 371,
    "start_time": "2023-02-17T17:13:39.282Z"
   },
   {
    "duration": 13,
    "start_time": "2023-02-17T17:13:39.655Z"
   },
   {
    "duration": 18,
    "start_time": "2023-02-17T17:13:39.670Z"
   },
   {
    "duration": 11,
    "start_time": "2023-02-17T17:13:39.689Z"
   },
   {
    "duration": 53,
    "start_time": "2023-02-17T17:13:39.702Z"
   },
   {
    "duration": 11,
    "start_time": "2023-02-17T17:13:39.757Z"
   },
   {
    "duration": 12,
    "start_time": "2023-02-17T17:13:39.769Z"
   },
   {
    "duration": 223,
    "start_time": "2023-02-17T17:13:39.783Z"
   },
   {
    "duration": 278,
    "start_time": "2023-02-17T17:13:40.008Z"
   },
   {
    "duration": 266,
    "start_time": "2023-02-17T17:13:40.287Z"
   },
   {
    "duration": 187,
    "start_time": "2023-02-17T17:13:40.554Z"
   },
   {
    "duration": 285,
    "start_time": "2023-02-17T17:13:40.743Z"
   },
   {
    "duration": 231,
    "start_time": "2023-02-17T17:13:41.029Z"
   },
   {
    "duration": 275,
    "start_time": "2023-02-17T17:13:41.263Z"
   },
   {
    "duration": 9,
    "start_time": "2023-02-17T17:13:41.539Z"
   },
   {
    "duration": 13,
    "start_time": "2023-02-17T17:13:41.549Z"
   },
   {
    "duration": 122,
    "start_time": "2023-02-17T17:13:41.563Z"
   },
   {
    "duration": 6,
    "start_time": "2023-02-17T17:13:41.686Z"
   },
   {
    "duration": 14,
    "start_time": "2023-02-17T17:13:41.693Z"
   },
   {
    "duration": 137,
    "start_time": "2023-02-17T17:13:41.708Z"
   },
   {
    "duration": 129,
    "start_time": "2023-02-17T17:13:41.846Z"
   },
   {
    "duration": 139,
    "start_time": "2023-02-17T17:13:41.977Z"
   },
   {
    "duration": 5,
    "start_time": "2023-02-17T17:13:42.118Z"
   },
   {
    "duration": 240,
    "start_time": "2023-02-17T17:13:42.125Z"
   },
   {
    "duration": 459,
    "start_time": "2023-02-17T17:13:42.367Z"
   },
   {
    "duration": 18,
    "start_time": "2023-02-17T17:13:42.828Z"
   },
   {
    "duration": 9,
    "start_time": "2023-02-17T17:13:42.848Z"
   },
   {
    "duration": 9,
    "start_time": "2023-02-17T17:13:42.861Z"
   },
   {
    "duration": 26,
    "start_time": "2023-02-17T17:13:42.872Z"
   },
   {
    "duration": 42,
    "start_time": "2023-02-17T17:13:42.900Z"
   },
   {
    "duration": 306,
    "start_time": "2023-02-17T17:13:42.944Z"
   },
   {
    "duration": 294,
    "start_time": "2023-02-17T17:13:43.251Z"
   },
   {
    "duration": 434,
    "start_time": "2023-02-18T08:25:06.632Z"
   },
   {
    "duration": 18,
    "start_time": "2023-02-18T08:25:07.068Z"
   },
   {
    "duration": 23,
    "start_time": "2023-02-18T08:25:07.088Z"
   },
   {
    "duration": 20,
    "start_time": "2023-02-18T08:25:07.113Z"
   },
   {
    "duration": 59,
    "start_time": "2023-02-18T08:25:07.135Z"
   },
   {
    "duration": 17,
    "start_time": "2023-02-18T08:25:07.196Z"
   },
   {
    "duration": 23,
    "start_time": "2023-02-18T08:25:07.214Z"
   },
   {
    "duration": 246,
    "start_time": "2023-02-18T08:25:07.238Z"
   },
   {
    "duration": 291,
    "start_time": "2023-02-18T08:25:07.486Z"
   },
   {
    "duration": 267,
    "start_time": "2023-02-18T08:25:07.780Z"
   },
   {
    "duration": 199,
    "start_time": "2023-02-18T08:25:08.049Z"
   },
   {
    "duration": 288,
    "start_time": "2023-02-18T08:25:08.250Z"
   },
   {
    "duration": 252,
    "start_time": "2023-02-18T08:25:08.539Z"
   },
   {
    "duration": 315,
    "start_time": "2023-02-18T08:25:08.792Z"
   },
   {
    "duration": 9,
    "start_time": "2023-02-18T08:25:09.110Z"
   },
   {
    "duration": 15,
    "start_time": "2023-02-18T08:25:09.120Z"
   },
   {
    "duration": 127,
    "start_time": "2023-02-18T08:25:09.137Z"
   },
   {
    "duration": 6,
    "start_time": "2023-02-18T08:25:09.265Z"
   },
   {
    "duration": 19,
    "start_time": "2023-02-18T08:25:09.272Z"
   },
   {
    "duration": 131,
    "start_time": "2023-02-18T08:25:09.299Z"
   },
   {
    "duration": 130,
    "start_time": "2023-02-18T08:25:09.432Z"
   },
   {
    "duration": 143,
    "start_time": "2023-02-18T08:25:09.564Z"
   },
   {
    "duration": 6,
    "start_time": "2023-02-18T08:25:09.709Z"
   },
   {
    "duration": 227,
    "start_time": "2023-02-18T08:25:09.716Z"
   },
   {
    "duration": 514,
    "start_time": "2023-02-18T08:25:09.945Z"
   },
   {
    "duration": 11,
    "start_time": "2023-02-18T08:25:10.461Z"
   },
   {
    "duration": 17,
    "start_time": "2023-02-18T08:25:10.474Z"
   },
   {
    "duration": 14,
    "start_time": "2023-02-18T08:25:10.500Z"
   },
   {
    "duration": 35,
    "start_time": "2023-02-18T08:25:10.516Z"
   },
   {
    "duration": 17,
    "start_time": "2023-02-18T08:25:10.553Z"
   },
   {
    "duration": 310,
    "start_time": "2023-02-18T08:25:10.572Z"
   },
   {
    "duration": 340,
    "start_time": "2023-02-18T08:25:10.884Z"
   },
   {
    "duration": 65,
    "start_time": "2023-02-19T11:49:49.787Z"
   },
   {
    "duration": 56,
    "start_time": "2023-02-19T11:50:15.288Z"
   },
   {
    "duration": 59,
    "start_time": "2023-02-19T11:54:07.302Z"
   },
   {
    "duration": 48,
    "start_time": "2023-02-19T12:11:10.701Z"
   },
   {
    "duration": 436,
    "start_time": "2023-02-19T12:11:30.439Z"
   },
   {
    "duration": 15,
    "start_time": "2023-02-19T12:11:30.877Z"
   },
   {
    "duration": 26,
    "start_time": "2023-02-19T12:11:30.893Z"
   },
   {
    "duration": 30,
    "start_time": "2023-02-19T12:11:30.922Z"
   },
   {
    "duration": 142,
    "start_time": "2023-02-19T12:11:30.954Z"
   },
   {
    "duration": 11,
    "start_time": "2023-02-19T12:11:31.097Z"
   },
   {
    "duration": 35,
    "start_time": "2023-02-19T12:11:31.109Z"
   },
   {
    "duration": 24,
    "start_time": "2023-02-19T12:11:31.146Z"
   },
   {
    "duration": 98,
    "start_time": "2023-02-19T12:11:31.172Z"
   },
   {
    "duration": 0,
    "start_time": "2023-02-19T12:11:31.275Z"
   },
   {
    "duration": 0,
    "start_time": "2023-02-19T12:11:31.276Z"
   },
   {
    "duration": 0,
    "start_time": "2023-02-19T12:11:31.277Z"
   },
   {
    "duration": 0,
    "start_time": "2023-02-19T12:11:31.279Z"
   },
   {
    "duration": 0,
    "start_time": "2023-02-19T12:11:31.280Z"
   },
   {
    "duration": 0,
    "start_time": "2023-02-19T12:11:31.282Z"
   },
   {
    "duration": 0,
    "start_time": "2023-02-19T12:11:31.283Z"
   },
   {
    "duration": 0,
    "start_time": "2023-02-19T12:11:31.285Z"
   },
   {
    "duration": 0,
    "start_time": "2023-02-19T12:11:31.286Z"
   },
   {
    "duration": 0,
    "start_time": "2023-02-19T12:11:31.287Z"
   },
   {
    "duration": 0,
    "start_time": "2023-02-19T12:11:31.310Z"
   },
   {
    "duration": 0,
    "start_time": "2023-02-19T12:11:31.315Z"
   },
   {
    "duration": 0,
    "start_time": "2023-02-19T12:11:31.319Z"
   },
   {
    "duration": 0,
    "start_time": "2023-02-19T12:11:31.324Z"
   },
   {
    "duration": 0,
    "start_time": "2023-02-19T12:11:31.324Z"
   },
   {
    "duration": 0,
    "start_time": "2023-02-19T12:11:31.325Z"
   },
   {
    "duration": 0,
    "start_time": "2023-02-19T12:11:31.325Z"
   },
   {
    "duration": 0,
    "start_time": "2023-02-19T12:11:31.326Z"
   },
   {
    "duration": 0,
    "start_time": "2023-02-19T12:11:31.326Z"
   },
   {
    "duration": 0,
    "start_time": "2023-02-19T12:11:31.328Z"
   },
   {
    "duration": 0,
    "start_time": "2023-02-19T12:11:31.328Z"
   },
   {
    "duration": 0,
    "start_time": "2023-02-19T12:11:31.330Z"
   },
   {
    "duration": 0,
    "start_time": "2023-02-19T12:11:31.331Z"
   },
   {
    "duration": 0,
    "start_time": "2023-02-19T12:11:31.332Z"
   },
   {
    "duration": 0,
    "start_time": "2023-02-19T12:11:31.333Z"
   },
   {
    "duration": 5,
    "start_time": "2023-02-19T12:11:56.803Z"
   },
   {
    "duration": 55,
    "start_time": "2023-02-19T12:24:37.201Z"
   },
   {
    "duration": 10,
    "start_time": "2023-02-19T12:24:56.282Z"
   },
   {
    "duration": 9,
    "start_time": "2023-02-19T12:35:24.094Z"
   },
   {
    "duration": 4,
    "start_time": "2023-02-19T12:38:08.261Z"
   },
   {
    "duration": 3,
    "start_time": "2023-02-19T12:38:19.509Z"
   },
   {
    "duration": 6,
    "start_time": "2023-02-19T12:38:23.325Z"
   },
   {
    "duration": 8,
    "start_time": "2023-02-19T12:38:42.987Z"
   },
   {
    "duration": 14,
    "start_time": "2023-02-19T12:38:53.508Z"
   },
   {
    "duration": 6,
    "start_time": "2023-02-19T12:39:40.531Z"
   },
   {
    "duration": 10,
    "start_time": "2023-02-19T12:40:44.514Z"
   },
   {
    "duration": 11,
    "start_time": "2023-02-19T12:41:30.687Z"
   },
   {
    "duration": 52,
    "start_time": "2023-02-19T12:43:24.083Z"
   },
   {
    "duration": 9,
    "start_time": "2023-02-19T12:43:29.681Z"
   },
   {
    "duration": 11,
    "start_time": "2023-02-19T12:58:11.197Z"
   },
   {
    "duration": 9,
    "start_time": "2023-02-19T13:01:43.221Z"
   },
   {
    "duration": 11,
    "start_time": "2023-02-19T13:01:59.851Z"
   },
   {
    "duration": 5,
    "start_time": "2023-02-19T13:02:19.516Z"
   },
   {
    "duration": 10,
    "start_time": "2023-02-19T13:02:31.117Z"
   },
   {
    "duration": 9,
    "start_time": "2023-02-19T13:06:33.784Z"
   },
   {
    "duration": 9,
    "start_time": "2023-02-19T13:06:56.281Z"
   },
   {
    "duration": 12,
    "start_time": "2023-02-19T13:07:05.680Z"
   },
   {
    "duration": 13,
    "start_time": "2023-02-19T13:09:36.666Z"
   },
   {
    "duration": 10,
    "start_time": "2023-02-19T13:09:48.054Z"
   },
   {
    "duration": 13,
    "start_time": "2023-02-19T13:09:58.622Z"
   },
   {
    "duration": 9,
    "start_time": "2023-02-19T13:12:19.029Z"
   },
   {
    "duration": 11,
    "start_time": "2023-02-19T13:12:42.805Z"
   },
   {
    "duration": 401,
    "start_time": "2023-02-19T13:12:50.940Z"
   },
   {
    "duration": 14,
    "start_time": "2023-02-19T13:12:51.342Z"
   },
   {
    "duration": 10,
    "start_time": "2023-02-19T13:12:51.358Z"
   },
   {
    "duration": 10,
    "start_time": "2023-02-19T13:12:51.370Z"
   },
   {
    "duration": 48,
    "start_time": "2023-02-19T13:12:51.381Z"
   },
   {
    "duration": 10,
    "start_time": "2023-02-19T13:12:51.430Z"
   },
   {
    "duration": 13,
    "start_time": "2023-02-19T13:12:51.442Z"
   },
   {
    "duration": 6,
    "start_time": "2023-02-19T13:12:51.457Z"
   },
   {
    "duration": 10,
    "start_time": "2023-02-19T13:12:51.464Z"
   },
   {
    "duration": 6,
    "start_time": "2023-02-19T13:12:51.476Z"
   },
   {
    "duration": 89,
    "start_time": "2023-02-19T13:12:51.483Z"
   },
   {
    "duration": 0,
    "start_time": "2023-02-19T13:12:51.574Z"
   },
   {
    "duration": 0,
    "start_time": "2023-02-19T13:12:51.576Z"
   },
   {
    "duration": 0,
    "start_time": "2023-02-19T13:12:51.577Z"
   },
   {
    "duration": 0,
    "start_time": "2023-02-19T13:12:51.579Z"
   },
   {
    "duration": 0,
    "start_time": "2023-02-19T13:12:51.580Z"
   },
   {
    "duration": 0,
    "start_time": "2023-02-19T13:12:51.581Z"
   },
   {
    "duration": 0,
    "start_time": "2023-02-19T13:12:51.583Z"
   },
   {
    "duration": 0,
    "start_time": "2023-02-19T13:12:51.584Z"
   },
   {
    "duration": 0,
    "start_time": "2023-02-19T13:12:51.585Z"
   },
   {
    "duration": 0,
    "start_time": "2023-02-19T13:12:51.587Z"
   },
   {
    "duration": 0,
    "start_time": "2023-02-19T13:12:51.610Z"
   },
   {
    "duration": 0,
    "start_time": "2023-02-19T13:12:51.611Z"
   },
   {
    "duration": 0,
    "start_time": "2023-02-19T13:12:51.612Z"
   },
   {
    "duration": 0,
    "start_time": "2023-02-19T13:12:51.614Z"
   },
   {
    "duration": 0,
    "start_time": "2023-02-19T13:12:51.615Z"
   },
   {
    "duration": 0,
    "start_time": "2023-02-19T13:12:51.616Z"
   },
   {
    "duration": 0,
    "start_time": "2023-02-19T13:12:51.618Z"
   },
   {
    "duration": 0,
    "start_time": "2023-02-19T13:12:51.619Z"
   },
   {
    "duration": 0,
    "start_time": "2023-02-19T13:12:51.621Z"
   },
   {
    "duration": 0,
    "start_time": "2023-02-19T13:12:51.622Z"
   },
   {
    "duration": 0,
    "start_time": "2023-02-19T13:12:51.623Z"
   },
   {
    "duration": 0,
    "start_time": "2023-02-19T13:12:51.625Z"
   },
   {
    "duration": 0,
    "start_time": "2023-02-19T13:12:51.626Z"
   },
   {
    "duration": 0,
    "start_time": "2023-02-19T13:12:51.628Z"
   },
   {
    "duration": 0,
    "start_time": "2023-02-19T13:12:51.629Z"
   },
   {
    "duration": 11,
    "start_time": "2023-02-19T13:13:33.875Z"
   },
   {
    "duration": 10,
    "start_time": "2023-02-19T13:14:01.346Z"
   },
   {
    "duration": 10,
    "start_time": "2023-02-19T13:15:11.438Z"
   },
   {
    "duration": 433,
    "start_time": "2023-02-19T13:15:20.290Z"
   },
   {
    "duration": 15,
    "start_time": "2023-02-19T13:15:20.725Z"
   },
   {
    "duration": 12,
    "start_time": "2023-02-19T13:15:20.741Z"
   },
   {
    "duration": 9,
    "start_time": "2023-02-19T13:15:20.756Z"
   },
   {
    "duration": 53,
    "start_time": "2023-02-19T13:15:20.767Z"
   },
   {
    "duration": 10,
    "start_time": "2023-02-19T13:15:20.822Z"
   },
   {
    "duration": 14,
    "start_time": "2023-02-19T13:15:20.834Z"
   },
   {
    "duration": 5,
    "start_time": "2023-02-19T13:15:20.850Z"
   },
   {
    "duration": 9,
    "start_time": "2023-02-19T13:15:20.857Z"
   },
   {
    "duration": 10,
    "start_time": "2023-02-19T13:15:20.869Z"
   },
   {
    "duration": 81,
    "start_time": "2023-02-19T13:15:20.880Z"
   },
   {
    "duration": 0,
    "start_time": "2023-02-19T13:15:20.963Z"
   },
   {
    "duration": 0,
    "start_time": "2023-02-19T13:15:20.964Z"
   },
   {
    "duration": 0,
    "start_time": "2023-02-19T13:15:20.966Z"
   },
   {
    "duration": 0,
    "start_time": "2023-02-19T13:15:20.967Z"
   },
   {
    "duration": 0,
    "start_time": "2023-02-19T13:15:20.969Z"
   },
   {
    "duration": 0,
    "start_time": "2023-02-19T13:15:20.970Z"
   },
   {
    "duration": 0,
    "start_time": "2023-02-19T13:15:20.971Z"
   },
   {
    "duration": 0,
    "start_time": "2023-02-19T13:15:20.973Z"
   },
   {
    "duration": 0,
    "start_time": "2023-02-19T13:15:20.974Z"
   },
   {
    "duration": 0,
    "start_time": "2023-02-19T13:15:20.975Z"
   },
   {
    "duration": 0,
    "start_time": "2023-02-19T13:15:20.976Z"
   },
   {
    "duration": 0,
    "start_time": "2023-02-19T13:15:20.978Z"
   },
   {
    "duration": 0,
    "start_time": "2023-02-19T13:15:20.980Z"
   },
   {
    "duration": 0,
    "start_time": "2023-02-19T13:15:21.009Z"
   },
   {
    "duration": 0,
    "start_time": "2023-02-19T13:15:21.011Z"
   },
   {
    "duration": 0,
    "start_time": "2023-02-19T13:15:21.012Z"
   },
   {
    "duration": 0,
    "start_time": "2023-02-19T13:15:21.014Z"
   },
   {
    "duration": 0,
    "start_time": "2023-02-19T13:15:21.015Z"
   },
   {
    "duration": 0,
    "start_time": "2023-02-19T13:15:21.016Z"
   },
   {
    "duration": 0,
    "start_time": "2023-02-19T13:15:21.017Z"
   },
   {
    "duration": 0,
    "start_time": "2023-02-19T13:15:21.018Z"
   },
   {
    "duration": 0,
    "start_time": "2023-02-19T13:15:21.018Z"
   },
   {
    "duration": 0,
    "start_time": "2023-02-19T13:15:21.020Z"
   },
   {
    "duration": 0,
    "start_time": "2023-02-19T13:15:21.020Z"
   },
   {
    "duration": 0,
    "start_time": "2023-02-19T13:15:21.021Z"
   },
   {
    "duration": 10,
    "start_time": "2023-02-19T13:16:18.481Z"
   },
   {
    "duration": 11,
    "start_time": "2023-02-19T13:16:28.199Z"
   },
   {
    "duration": 10,
    "start_time": "2023-02-19T13:16:42.038Z"
   },
   {
    "duration": 5,
    "start_time": "2023-02-19T13:26:41.778Z"
   },
   {
    "duration": 9,
    "start_time": "2023-02-19T13:27:16.346Z"
   },
   {
    "duration": 402,
    "start_time": "2023-02-19T13:27:47.965Z"
   },
   {
    "duration": 13,
    "start_time": "2023-02-19T13:27:48.369Z"
   },
   {
    "duration": 11,
    "start_time": "2023-02-19T13:27:48.384Z"
   },
   {
    "duration": 14,
    "start_time": "2023-02-19T13:27:48.396Z"
   },
   {
    "duration": 45,
    "start_time": "2023-02-19T13:27:48.411Z"
   },
   {
    "duration": 9,
    "start_time": "2023-02-19T13:27:48.458Z"
   },
   {
    "duration": 14,
    "start_time": "2023-02-19T13:27:48.468Z"
   },
   {
    "duration": 5,
    "start_time": "2023-02-19T13:27:48.483Z"
   },
   {
    "duration": 10,
    "start_time": "2023-02-19T13:27:48.489Z"
   },
   {
    "duration": 5,
    "start_time": "2023-02-19T13:27:48.501Z"
   },
   {
    "duration": 403,
    "start_time": "2023-02-19T13:27:48.508Z"
   },
   {
    "duration": 294,
    "start_time": "2023-02-19T13:27:48.913Z"
   },
   {
    "duration": 265,
    "start_time": "2023-02-19T13:27:49.208Z"
   },
   {
    "duration": 177,
    "start_time": "2023-02-19T13:27:49.475Z"
   },
   {
    "duration": 382,
    "start_time": "2023-02-19T13:27:49.653Z"
   },
   {
    "duration": 193,
    "start_time": "2023-02-19T13:27:50.036Z"
   },
   {
    "duration": 280,
    "start_time": "2023-02-19T13:27:50.231Z"
   },
   {
    "duration": 9,
    "start_time": "2023-02-19T13:27:50.513Z"
   },
   {
    "duration": 10,
    "start_time": "2023-02-19T13:27:50.524Z"
   },
   {
    "duration": 125,
    "start_time": "2023-02-19T13:27:50.536Z"
   },
   {
    "duration": 4,
    "start_time": "2023-02-19T13:27:50.662Z"
   },
   {
    "duration": 13,
    "start_time": "2023-02-19T13:27:50.668Z"
   },
   {
    "duration": 137,
    "start_time": "2023-02-19T13:27:50.682Z"
   },
   {
    "duration": 123,
    "start_time": "2023-02-19T13:27:50.821Z"
   },
   {
    "duration": 120,
    "start_time": "2023-02-19T13:27:50.946Z"
   },
   {
    "duration": 5,
    "start_time": "2023-02-19T13:27:51.068Z"
   },
   {
    "duration": 226,
    "start_time": "2023-02-19T13:27:51.074Z"
   },
   {
    "duration": 484,
    "start_time": "2023-02-19T13:27:51.304Z"
   },
   {
    "duration": 20,
    "start_time": "2023-02-19T13:27:51.790Z"
   },
   {
    "duration": 11,
    "start_time": "2023-02-19T13:27:51.812Z"
   },
   {
    "duration": 10,
    "start_time": "2023-02-19T13:27:51.825Z"
   },
   {
    "duration": 38,
    "start_time": "2023-02-19T13:27:51.837Z"
   },
   {
    "duration": 46,
    "start_time": "2023-02-19T13:27:51.877Z"
   },
   {
    "duration": 318,
    "start_time": "2023-02-19T13:27:51.924Z"
   },
   {
    "duration": 270,
    "start_time": "2023-02-19T13:27:52.244Z"
   },
   {
    "duration": 5,
    "start_time": "2023-02-19T13:28:39.147Z"
   },
   {
    "duration": 5,
    "start_time": "2023-02-19T13:28:44.941Z"
   },
   {
    "duration": 5,
    "start_time": "2023-02-19T13:29:39.375Z"
   },
   {
    "duration": 50,
    "start_time": "2023-02-19T13:36:49.867Z"
   },
   {
    "duration": 313,
    "start_time": "2023-02-19T13:36:52.880Z"
   },
   {
    "duration": 287,
    "start_time": "2023-02-19T13:38:14.966Z"
   },
   {
    "duration": 44,
    "start_time": "2023-02-19T13:39:13.126Z"
   },
   {
    "duration": 40,
    "start_time": "2023-02-19T13:44:36.207Z"
   },
   {
    "duration": 11,
    "start_time": "2023-02-19T13:49:36.781Z"
   },
   {
    "duration": 4,
    "start_time": "2023-02-19T13:50:50.022Z"
   },
   {
    "duration": 2,
    "start_time": "2023-02-19T13:51:36.908Z"
   },
   {
    "duration": 3,
    "start_time": "2023-02-19T13:52:00.036Z"
   },
   {
    "duration": 432,
    "start_time": "2023-02-19T13:52:21.385Z"
   },
   {
    "duration": 14,
    "start_time": "2023-02-19T13:52:21.819Z"
   },
   {
    "duration": 12,
    "start_time": "2023-02-19T13:52:21.834Z"
   },
   {
    "duration": 11,
    "start_time": "2023-02-19T13:52:21.847Z"
   },
   {
    "duration": 10,
    "start_time": "2023-02-19T13:52:21.860Z"
   },
   {
    "duration": 16,
    "start_time": "2023-02-19T13:52:21.871Z"
   },
   {
    "duration": 49,
    "start_time": "2023-02-19T13:52:21.889Z"
   },
   {
    "duration": 9,
    "start_time": "2023-02-19T13:52:21.939Z"
   },
   {
    "duration": 11,
    "start_time": "2023-02-19T13:52:21.950Z"
   },
   {
    "duration": 5,
    "start_time": "2023-02-19T13:52:21.963Z"
   },
   {
    "duration": 11,
    "start_time": "2023-02-19T13:52:21.969Z"
   },
   {
    "duration": 3,
    "start_time": "2023-02-19T13:52:21.982Z"
   },
   {
    "duration": 226,
    "start_time": "2023-02-19T13:52:21.986Z"
   },
   {
    "duration": 283,
    "start_time": "2023-02-19T13:52:22.215Z"
   },
   {
    "duration": 263,
    "start_time": "2023-02-19T13:52:22.500Z"
   },
   {
    "duration": 187,
    "start_time": "2023-02-19T13:52:22.764Z"
   },
   {
    "duration": 290,
    "start_time": "2023-02-19T13:52:22.953Z"
   },
   {
    "duration": 236,
    "start_time": "2023-02-19T13:52:23.245Z"
   },
   {
    "duration": 307,
    "start_time": "2023-02-19T13:52:23.483Z"
   },
   {
    "duration": 9,
    "start_time": "2023-02-19T13:52:23.791Z"
   },
   {
    "duration": 10,
    "start_time": "2023-02-19T13:52:23.810Z"
   },
   {
    "duration": 132,
    "start_time": "2023-02-19T13:52:23.822Z"
   },
   {
    "duration": 5,
    "start_time": "2023-02-19T13:52:23.956Z"
   },
   {
    "duration": 16,
    "start_time": "2023-02-19T13:52:23.962Z"
   },
   {
    "duration": 143,
    "start_time": "2023-02-19T13:52:23.980Z"
   },
   {
    "duration": 123,
    "start_time": "2023-02-19T13:52:24.125Z"
   },
   {
    "duration": 121,
    "start_time": "2023-02-19T13:52:24.250Z"
   },
   {
    "duration": 4,
    "start_time": "2023-02-19T13:52:24.372Z"
   },
   {
    "duration": 225,
    "start_time": "2023-02-19T13:52:24.378Z"
   },
   {
    "duration": 488,
    "start_time": "2023-02-19T13:52:24.604Z"
   },
   {
    "duration": 16,
    "start_time": "2023-02-19T13:52:25.094Z"
   },
   {
    "duration": 8,
    "start_time": "2023-02-19T13:52:25.111Z"
   },
   {
    "duration": 7,
    "start_time": "2023-02-19T13:52:25.121Z"
   },
   {
    "duration": 21,
    "start_time": "2023-02-19T13:52:25.129Z"
   },
   {
    "duration": 12,
    "start_time": "2023-02-19T13:52:25.152Z"
   },
   {
    "duration": 323,
    "start_time": "2023-02-19T13:52:25.166Z"
   },
   {
    "duration": 300,
    "start_time": "2023-02-19T13:52:25.491Z"
   },
   {
    "duration": 3,
    "start_time": "2023-02-19T13:53:14.925Z"
   },
   {
    "duration": 10,
    "start_time": "2023-02-19T13:53:28.524Z"
   },
   {
    "duration": 143,
    "start_time": "2023-02-19T13:57:47.694Z"
   },
   {
    "duration": 10,
    "start_time": "2023-02-19T13:59:35.170Z"
   },
   {
    "duration": 9,
    "start_time": "2023-02-19T14:00:25.366Z"
   },
   {
    "duration": 11,
    "start_time": "2023-02-19T14:01:16.124Z"
   },
   {
    "duration": 11,
    "start_time": "2023-02-19T14:02:44.333Z"
   },
   {
    "duration": 11,
    "start_time": "2023-02-19T14:06:47.155Z"
   },
   {
    "duration": 12,
    "start_time": "2023-02-19T14:07:09.320Z"
   },
   {
    "duration": 16,
    "start_time": "2023-02-19T14:07:54.185Z"
   },
   {
    "duration": 462,
    "start_time": "2023-02-19T14:08:57.297Z"
   },
   {
    "duration": 15,
    "start_time": "2023-02-19T14:08:57.761Z"
   },
   {
    "duration": 15,
    "start_time": "2023-02-19T14:08:57.778Z"
   },
   {
    "duration": 22,
    "start_time": "2023-02-19T14:08:57.795Z"
   },
   {
    "duration": 262,
    "start_time": "2023-02-19T14:08:57.818Z"
   },
   {
    "duration": 44,
    "start_time": "2023-02-19T14:08:58.081Z"
   },
   {
    "duration": 10,
    "start_time": "2023-02-19T14:08:58.127Z"
   },
   {
    "duration": 15,
    "start_time": "2023-02-19T14:08:58.138Z"
   },
   {
    "duration": 13,
    "start_time": "2023-02-19T14:08:58.155Z"
   },
   {
    "duration": 10,
    "start_time": "2023-02-19T14:08:58.171Z"
   },
   {
    "duration": 8,
    "start_time": "2023-02-19T14:08:58.182Z"
   },
   {
    "duration": 23,
    "start_time": "2023-02-19T14:08:58.192Z"
   },
   {
    "duration": 289,
    "start_time": "2023-02-19T14:08:58.217Z"
   },
   {
    "duration": 269,
    "start_time": "2023-02-19T14:08:58.510Z"
   },
   {
    "duration": 184,
    "start_time": "2023-02-19T14:08:58.780Z"
   },
   {
    "duration": 360,
    "start_time": "2023-02-19T14:08:58.965Z"
   },
   {
    "duration": 224,
    "start_time": "2023-02-19T14:08:59.327Z"
   },
   {
    "duration": 303,
    "start_time": "2023-02-19T14:08:59.553Z"
   },
   {
    "duration": 11,
    "start_time": "2023-02-19T14:08:59.859Z"
   },
   {
    "duration": 21,
    "start_time": "2023-02-19T14:08:59.871Z"
   },
   {
    "duration": 118,
    "start_time": "2023-02-19T14:08:59.893Z"
   },
   {
    "duration": 6,
    "start_time": "2023-02-19T14:09:00.013Z"
   },
   {
    "duration": 22,
    "start_time": "2023-02-19T14:09:00.021Z"
   },
   {
    "duration": 147,
    "start_time": "2023-02-19T14:09:00.044Z"
   },
   {
    "duration": 136,
    "start_time": "2023-02-19T14:09:00.192Z"
   },
   {
    "duration": 125,
    "start_time": "2023-02-19T14:09:00.330Z"
   },
   {
    "duration": 5,
    "start_time": "2023-02-19T14:09:00.457Z"
   },
   {
    "duration": 231,
    "start_time": "2023-02-19T14:09:00.465Z"
   },
   {
    "duration": 513,
    "start_time": "2023-02-19T14:09:00.698Z"
   },
   {
    "duration": 12,
    "start_time": "2023-02-19T14:09:01.213Z"
   },
   {
    "duration": 28,
    "start_time": "2023-02-19T14:09:01.227Z"
   },
   {
    "duration": 25,
    "start_time": "2023-02-19T14:09:01.256Z"
   },
   {
    "duration": 48,
    "start_time": "2023-02-19T14:09:01.282Z"
   },
   {
    "duration": 18,
    "start_time": "2023-02-19T14:09:01.332Z"
   },
   {
    "duration": 289,
    "start_time": "2023-02-19T14:09:01.352Z"
   },
   {
    "duration": 283,
    "start_time": "2023-02-19T14:09:01.643Z"
   },
   {
    "duration": 12,
    "start_time": "2023-02-19T14:09:40.624Z"
   },
   {
    "duration": 120,
    "start_time": "2023-02-19T14:10:23.826Z"
   },
   {
    "duration": 11,
    "start_time": "2023-02-19T14:11:03.655Z"
   },
   {
    "duration": 12,
    "start_time": "2023-02-19T14:11:11.593Z"
   },
   {
    "duration": 445,
    "start_time": "2023-02-19T14:11:18.977Z"
   },
   {
    "duration": 16,
    "start_time": "2023-02-19T14:11:19.424Z"
   },
   {
    "duration": 14,
    "start_time": "2023-02-19T14:11:19.442Z"
   },
   {
    "duration": 10,
    "start_time": "2023-02-19T14:11:19.457Z"
   },
   {
    "duration": 286,
    "start_time": "2023-02-19T14:11:19.469Z"
   },
   {
    "duration": 43,
    "start_time": "2023-02-19T14:11:19.756Z"
   },
   {
    "duration": 11,
    "start_time": "2023-02-19T14:11:19.801Z"
   },
   {
    "duration": 20,
    "start_time": "2023-02-19T14:11:19.814Z"
   },
   {
    "duration": 7,
    "start_time": "2023-02-19T14:11:19.835Z"
   },
   {
    "duration": 14,
    "start_time": "2023-02-19T14:11:19.844Z"
   },
   {
    "duration": 6,
    "start_time": "2023-02-19T14:11:19.860Z"
   },
   {
    "duration": 13,
    "start_time": "2023-02-19T14:11:19.868Z"
   },
   {
    "duration": 312,
    "start_time": "2023-02-19T14:11:19.909Z"
   },
   {
    "duration": 278,
    "start_time": "2023-02-19T14:11:20.223Z"
   },
   {
    "duration": 203,
    "start_time": "2023-02-19T14:11:20.503Z"
   },
   {
    "duration": 358,
    "start_time": "2023-02-19T14:11:20.710Z"
   },
   {
    "duration": 189,
    "start_time": "2023-02-19T14:11:21.069Z"
   },
   {
    "duration": 282,
    "start_time": "2023-02-19T14:11:21.260Z"
   },
   {
    "duration": 11,
    "start_time": "2023-02-19T14:11:21.545Z"
   },
   {
    "duration": 16,
    "start_time": "2023-02-19T14:11:21.558Z"
   },
   {
    "duration": 162,
    "start_time": "2023-02-19T14:11:21.576Z"
   },
   {
    "duration": 5,
    "start_time": "2023-02-19T14:11:21.740Z"
   },
   {
    "duration": 20,
    "start_time": "2023-02-19T14:11:21.747Z"
   },
   {
    "duration": 152,
    "start_time": "2023-02-19T14:11:21.769Z"
   },
   {
    "duration": 122,
    "start_time": "2023-02-19T14:11:21.923Z"
   },
   {
    "duration": 129,
    "start_time": "2023-02-19T14:11:22.046Z"
   },
   {
    "duration": 5,
    "start_time": "2023-02-19T14:11:22.176Z"
   },
   {
    "duration": 241,
    "start_time": "2023-02-19T14:11:22.183Z"
   },
   {
    "duration": 620,
    "start_time": "2023-02-19T14:11:22.426Z"
   },
   {
    "duration": 16,
    "start_time": "2023-02-19T14:11:23.048Z"
   },
   {
    "duration": 21,
    "start_time": "2023-02-19T14:11:23.066Z"
   },
   {
    "duration": 24,
    "start_time": "2023-02-19T14:11:23.089Z"
   },
   {
    "duration": 53,
    "start_time": "2023-02-19T14:11:23.115Z"
   },
   {
    "duration": 15,
    "start_time": "2023-02-19T14:11:23.170Z"
   },
   {
    "duration": 324,
    "start_time": "2023-02-19T14:11:23.186Z"
   },
   {
    "duration": 313,
    "start_time": "2023-02-19T14:11:23.512Z"
   },
   {
    "duration": 120,
    "start_time": "2023-02-19T14:12:00.240Z"
   },
   {
    "duration": 10,
    "start_time": "2023-02-19T14:13:45.867Z"
   },
   {
    "duration": 13,
    "start_time": "2023-02-19T14:13:55.640Z"
   },
   {
    "duration": 13,
    "start_time": "2023-02-19T14:14:05.309Z"
   },
   {
    "duration": 10,
    "start_time": "2023-02-19T14:14:18.456Z"
   },
   {
    "duration": 15,
    "start_time": "2023-02-19T14:14:22.867Z"
   },
   {
    "duration": 15,
    "start_time": "2023-02-19T14:14:26.772Z"
   },
   {
    "duration": 9,
    "start_time": "2023-02-19T14:14:33.931Z"
   },
   {
    "duration": 10,
    "start_time": "2023-02-19T14:14:52.500Z"
   },
   {
    "duration": 12,
    "start_time": "2023-02-19T14:14:56.847Z"
   },
   {
    "duration": 9,
    "start_time": "2023-02-19T14:15:38.468Z"
   },
   {
    "duration": 425,
    "start_time": "2023-02-19T14:16:24.398Z"
   },
   {
    "duration": 14,
    "start_time": "2023-02-19T14:16:24.825Z"
   },
   {
    "duration": 10,
    "start_time": "2023-02-19T14:16:24.841Z"
   },
   {
    "duration": 10,
    "start_time": "2023-02-19T14:16:24.853Z"
   },
   {
    "duration": 339,
    "start_time": "2023-02-19T14:16:24.866Z"
   },
   {
    "duration": 0,
    "start_time": "2023-02-19T14:16:25.207Z"
   },
   {
    "duration": 0,
    "start_time": "2023-02-19T14:16:25.210Z"
   },
   {
    "duration": 0,
    "start_time": "2023-02-19T14:16:25.211Z"
   },
   {
    "duration": 0,
    "start_time": "2023-02-19T14:16:25.211Z"
   },
   {
    "duration": 0,
    "start_time": "2023-02-19T14:16:25.212Z"
   },
   {
    "duration": 0,
    "start_time": "2023-02-19T14:16:25.213Z"
   },
   {
    "duration": 0,
    "start_time": "2023-02-19T14:16:25.214Z"
   },
   {
    "duration": 0,
    "start_time": "2023-02-19T14:16:25.215Z"
   },
   {
    "duration": 0,
    "start_time": "2023-02-19T14:16:25.216Z"
   },
   {
    "duration": 0,
    "start_time": "2023-02-19T14:16:25.216Z"
   },
   {
    "duration": 0,
    "start_time": "2023-02-19T14:16:25.217Z"
   },
   {
    "duration": 0,
    "start_time": "2023-02-19T14:16:25.218Z"
   },
   {
    "duration": 0,
    "start_time": "2023-02-19T14:16:25.219Z"
   },
   {
    "duration": 0,
    "start_time": "2023-02-19T14:16:25.220Z"
   },
   {
    "duration": 0,
    "start_time": "2023-02-19T14:16:25.220Z"
   },
   {
    "duration": 0,
    "start_time": "2023-02-19T14:16:25.221Z"
   },
   {
    "duration": 0,
    "start_time": "2023-02-19T14:16:25.222Z"
   },
   {
    "duration": 0,
    "start_time": "2023-02-19T14:16:25.222Z"
   },
   {
    "duration": 0,
    "start_time": "2023-02-19T14:16:25.223Z"
   },
   {
    "duration": 0,
    "start_time": "2023-02-19T14:16:25.224Z"
   },
   {
    "duration": 0,
    "start_time": "2023-02-19T14:16:25.225Z"
   },
   {
    "duration": 0,
    "start_time": "2023-02-19T14:16:25.226Z"
   },
   {
    "duration": 0,
    "start_time": "2023-02-19T14:16:25.227Z"
   },
   {
    "duration": 0,
    "start_time": "2023-02-19T14:16:25.229Z"
   },
   {
    "duration": 0,
    "start_time": "2023-02-19T14:16:25.229Z"
   },
   {
    "duration": 0,
    "start_time": "2023-02-19T14:16:25.230Z"
   },
   {
    "duration": 0,
    "start_time": "2023-02-19T14:16:25.231Z"
   },
   {
    "duration": 0,
    "start_time": "2023-02-19T14:16:25.232Z"
   },
   {
    "duration": 0,
    "start_time": "2023-02-19T14:16:25.233Z"
   },
   {
    "duration": 0,
    "start_time": "2023-02-19T14:16:25.234Z"
   },
   {
    "duration": 0,
    "start_time": "2023-02-19T14:16:25.235Z"
   },
   {
    "duration": 11,
    "start_time": "2023-02-19T14:16:53.844Z"
   },
   {
    "duration": 10,
    "start_time": "2023-02-19T14:17:00.843Z"
   },
   {
    "duration": 7,
    "start_time": "2023-02-19T14:17:47.594Z"
   },
   {
    "duration": 10,
    "start_time": "2023-02-19T14:17:53.447Z"
   },
   {
    "duration": 10,
    "start_time": "2023-02-19T14:18:23.394Z"
   },
   {
    "duration": 9,
    "start_time": "2023-02-19T14:18:30.245Z"
   },
   {
    "duration": 9,
    "start_time": "2023-02-19T14:18:42.064Z"
   },
   {
    "duration": 9,
    "start_time": "2023-02-19T14:36:18.324Z"
   },
   {
    "duration": 417,
    "start_time": "2023-02-19T14:36:31.540Z"
   },
   {
    "duration": 14,
    "start_time": "2023-02-19T14:36:31.960Z"
   },
   {
    "duration": 11,
    "start_time": "2023-02-19T14:36:31.976Z"
   },
   {
    "duration": 12,
    "start_time": "2023-02-19T14:36:31.988Z"
   },
   {
    "duration": 288,
    "start_time": "2023-02-19T14:36:32.002Z"
   },
   {
    "duration": 55,
    "start_time": "2023-02-19T14:36:32.292Z"
   },
   {
    "duration": 11,
    "start_time": "2023-02-19T14:36:32.349Z"
   },
   {
    "duration": 14,
    "start_time": "2023-02-19T14:36:32.362Z"
   },
   {
    "duration": 15,
    "start_time": "2023-02-19T14:36:32.378Z"
   },
   {
    "duration": 20,
    "start_time": "2023-02-19T14:36:32.395Z"
   },
   {
    "duration": 11,
    "start_time": "2023-02-19T14:36:32.424Z"
   },
   {
    "duration": 12,
    "start_time": "2023-02-19T14:36:32.436Z"
   },
   {
    "duration": 320,
    "start_time": "2023-02-19T14:36:32.449Z"
   },
   {
    "duration": 323,
    "start_time": "2023-02-19T14:36:32.774Z"
   },
   {
    "duration": 205,
    "start_time": "2023-02-19T14:36:33.099Z"
   },
   {
    "duration": 345,
    "start_time": "2023-02-19T14:36:33.306Z"
   },
   {
    "duration": 207,
    "start_time": "2023-02-19T14:36:33.653Z"
   },
   {
    "duration": 292,
    "start_time": "2023-02-19T14:36:33.861Z"
   },
   {
    "duration": 9,
    "start_time": "2023-02-19T14:36:34.155Z"
   },
   {
    "duration": 15,
    "start_time": "2023-02-19T14:36:34.166Z"
   },
   {
    "duration": 142,
    "start_time": "2023-02-19T14:36:34.184Z"
   },
   {
    "duration": 6,
    "start_time": "2023-02-19T14:36:34.328Z"
   },
   {
    "duration": 31,
    "start_time": "2023-02-19T14:36:34.335Z"
   },
   {
    "duration": 149,
    "start_time": "2023-02-19T14:36:34.368Z"
   },
   {
    "duration": 142,
    "start_time": "2023-02-19T14:36:34.518Z"
   },
   {
    "duration": 153,
    "start_time": "2023-02-19T14:36:34.661Z"
   },
   {
    "duration": 6,
    "start_time": "2023-02-19T14:36:34.816Z"
   },
   {
    "duration": 95,
    "start_time": "2023-02-19T14:36:34.824Z"
   },
   {
    "duration": 0,
    "start_time": "2023-02-19T14:36:34.920Z"
   },
   {
    "duration": 0,
    "start_time": "2023-02-19T14:36:34.921Z"
   },
   {
    "duration": 0,
    "start_time": "2023-02-19T14:36:34.922Z"
   },
   {
    "duration": 0,
    "start_time": "2023-02-19T14:36:34.923Z"
   },
   {
    "duration": 0,
    "start_time": "2023-02-19T14:36:34.924Z"
   },
   {
    "duration": 0,
    "start_time": "2023-02-19T14:36:34.925Z"
   },
   {
    "duration": 0,
    "start_time": "2023-02-19T14:36:34.926Z"
   },
   {
    "duration": 0,
    "start_time": "2023-02-19T14:36:34.928Z"
   },
   {
    "duration": 0,
    "start_time": "2023-02-19T14:36:34.929Z"
   },
   {
    "duration": 508,
    "start_time": "2023-02-19T14:37:00.726Z"
   },
   {
    "duration": 9,
    "start_time": "2023-02-19T14:37:23.728Z"
   },
   {
    "duration": 424,
    "start_time": "2023-02-19T14:40:00.940Z"
   },
   {
    "duration": 14,
    "start_time": "2023-02-19T14:40:01.366Z"
   },
   {
    "duration": 21,
    "start_time": "2023-02-19T14:40:01.382Z"
   },
   {
    "duration": 29,
    "start_time": "2023-02-19T14:40:01.405Z"
   },
   {
    "duration": 296,
    "start_time": "2023-02-19T14:40:01.435Z"
   },
   {
    "duration": 45,
    "start_time": "2023-02-19T14:40:01.732Z"
   },
   {
    "duration": 14,
    "start_time": "2023-02-19T14:40:01.779Z"
   },
   {
    "duration": 39,
    "start_time": "2023-02-19T14:40:01.795Z"
   },
   {
    "duration": 19,
    "start_time": "2023-02-19T14:40:01.836Z"
   },
   {
    "duration": 41,
    "start_time": "2023-02-19T14:40:01.858Z"
   },
   {
    "duration": 45,
    "start_time": "2023-02-19T14:40:01.901Z"
   },
   {
    "duration": 31,
    "start_time": "2023-02-19T14:40:01.948Z"
   },
   {
    "duration": 342,
    "start_time": "2023-02-19T14:40:01.981Z"
   },
   {
    "duration": 318,
    "start_time": "2023-02-19T14:40:02.325Z"
   },
   {
    "duration": 210,
    "start_time": "2023-02-19T14:40:02.644Z"
   },
   {
    "duration": 359,
    "start_time": "2023-02-19T14:40:02.856Z"
   },
   {
    "duration": 228,
    "start_time": "2023-02-19T14:40:03.216Z"
   },
   {
    "duration": 280,
    "start_time": "2023-02-19T14:40:03.445Z"
   },
   {
    "duration": 8,
    "start_time": "2023-02-19T14:40:03.727Z"
   },
   {
    "duration": 16,
    "start_time": "2023-02-19T14:40:03.737Z"
   },
   {
    "duration": 130,
    "start_time": "2023-02-19T14:40:03.755Z"
   },
   {
    "duration": 5,
    "start_time": "2023-02-19T14:40:03.887Z"
   },
   {
    "duration": 42,
    "start_time": "2023-02-19T14:40:03.893Z"
   },
   {
    "duration": 128,
    "start_time": "2023-02-19T14:40:03.937Z"
   },
   {
    "duration": 121,
    "start_time": "2023-02-19T14:40:04.067Z"
   },
   {
    "duration": 141,
    "start_time": "2023-02-19T14:40:04.189Z"
   },
   {
    "duration": 5,
    "start_time": "2023-02-19T14:40:04.332Z"
   },
   {
    "duration": 269,
    "start_time": "2023-02-19T14:40:04.341Z"
   },
   {
    "duration": 23,
    "start_time": "2023-02-19T14:40:04.618Z"
   },
   {
    "duration": 676,
    "start_time": "2023-02-19T14:40:04.643Z"
   },
   {
    "duration": 0,
    "start_time": "2023-02-19T14:40:05.321Z"
   },
   {
    "duration": 0,
    "start_time": "2023-02-19T14:40:05.322Z"
   },
   {
    "duration": 0,
    "start_time": "2023-02-19T14:40:05.323Z"
   },
   {
    "duration": 0,
    "start_time": "2023-02-19T14:40:05.324Z"
   },
   {
    "duration": 0,
    "start_time": "2023-02-19T14:40:05.325Z"
   },
   {
    "duration": 0,
    "start_time": "2023-02-19T14:40:05.327Z"
   },
   {
    "duration": 0,
    "start_time": "2023-02-19T14:40:05.328Z"
   },
   {
    "duration": 0,
    "start_time": "2023-02-19T14:40:05.332Z"
   },
   {
    "duration": 7,
    "start_time": "2023-02-19T14:41:03.580Z"
   },
   {
    "duration": 5,
    "start_time": "2023-02-19T14:43:13.604Z"
   },
   {
    "duration": 5,
    "start_time": "2023-02-19T14:43:15.391Z"
   },
   {
    "duration": 11,
    "start_time": "2023-02-19T14:59:30.756Z"
   },
   {
    "duration": 11,
    "start_time": "2023-02-19T15:00:26.289Z"
   },
   {
    "duration": 9,
    "start_time": "2023-02-19T15:01:46.008Z"
   },
   {
    "duration": 11,
    "start_time": "2023-02-19T15:01:52.041Z"
   },
   {
    "duration": 12,
    "start_time": "2023-02-19T15:05:34.081Z"
   },
   {
    "duration": 43,
    "start_time": "2023-02-19T15:05:55.226Z"
   },
   {
    "duration": 40,
    "start_time": "2023-02-19T15:06:05.458Z"
   },
   {
    "duration": 54,
    "start_time": "2023-02-19T15:07:19.028Z"
   },
   {
    "duration": 58,
    "start_time": "2023-02-19T15:07:26.378Z"
   },
   {
    "duration": 43,
    "start_time": "2023-02-19T15:07:38.464Z"
   },
   {
    "duration": 392,
    "start_time": "2023-02-19T15:07:49.556Z"
   },
   {
    "duration": 17,
    "start_time": "2023-02-19T15:07:49.950Z"
   },
   {
    "duration": 12,
    "start_time": "2023-02-19T15:07:49.969Z"
   },
   {
    "duration": 17,
    "start_time": "2023-02-19T15:07:49.983Z"
   },
   {
    "duration": 289,
    "start_time": "2023-02-19T15:07:50.002Z"
   },
   {
    "duration": 48,
    "start_time": "2023-02-19T15:07:50.294Z"
   },
   {
    "duration": 14,
    "start_time": "2023-02-19T15:07:50.344Z"
   },
   {
    "duration": 21,
    "start_time": "2023-02-19T15:07:50.360Z"
   },
   {
    "duration": 5,
    "start_time": "2023-02-19T15:07:50.382Z"
   },
   {
    "duration": 12,
    "start_time": "2023-02-19T15:07:50.389Z"
   },
   {
    "duration": 5,
    "start_time": "2023-02-19T15:07:50.403Z"
   },
   {
    "duration": 54,
    "start_time": "2023-02-19T15:07:50.413Z"
   },
   {
    "duration": 0,
    "start_time": "2023-02-19T15:07:50.469Z"
   },
   {
    "duration": 0,
    "start_time": "2023-02-19T15:07:50.470Z"
   },
   {
    "duration": 0,
    "start_time": "2023-02-19T15:07:50.471Z"
   },
   {
    "duration": 0,
    "start_time": "2023-02-19T15:07:50.472Z"
   },
   {
    "duration": 0,
    "start_time": "2023-02-19T15:07:50.474Z"
   },
   {
    "duration": 0,
    "start_time": "2023-02-19T15:07:50.475Z"
   },
   {
    "duration": 0,
    "start_time": "2023-02-19T15:07:50.476Z"
   },
   {
    "duration": 0,
    "start_time": "2023-02-19T15:07:50.477Z"
   },
   {
    "duration": 0,
    "start_time": "2023-02-19T15:07:50.478Z"
   },
   {
    "duration": 0,
    "start_time": "2023-02-19T15:07:50.479Z"
   },
   {
    "duration": 0,
    "start_time": "2023-02-19T15:07:50.480Z"
   },
   {
    "duration": 0,
    "start_time": "2023-02-19T15:07:50.481Z"
   },
   {
    "duration": 0,
    "start_time": "2023-02-19T15:07:50.482Z"
   },
   {
    "duration": 0,
    "start_time": "2023-02-19T15:07:50.482Z"
   },
   {
    "duration": 0,
    "start_time": "2023-02-19T15:07:50.484Z"
   },
   {
    "duration": 0,
    "start_time": "2023-02-19T15:07:50.485Z"
   },
   {
    "duration": 0,
    "start_time": "2023-02-19T15:07:50.486Z"
   },
   {
    "duration": 0,
    "start_time": "2023-02-19T15:07:50.487Z"
   },
   {
    "duration": 0,
    "start_time": "2023-02-19T15:07:50.488Z"
   },
   {
    "duration": 0,
    "start_time": "2023-02-19T15:07:50.489Z"
   },
   {
    "duration": 0,
    "start_time": "2023-02-19T15:07:50.490Z"
   },
   {
    "duration": 0,
    "start_time": "2023-02-19T15:07:50.491Z"
   },
   {
    "duration": 0,
    "start_time": "2023-02-19T15:07:50.492Z"
   },
   {
    "duration": 0,
    "start_time": "2023-02-19T15:07:50.493Z"
   },
   {
    "duration": 0,
    "start_time": "2023-02-19T15:07:50.494Z"
   },
   {
    "duration": 0,
    "start_time": "2023-02-19T15:07:50.495Z"
   },
   {
    "duration": 0,
    "start_time": "2023-02-19T15:07:50.496Z"
   },
   {
    "duration": 0,
    "start_time": "2023-02-19T15:07:50.497Z"
   },
   {
    "duration": 45,
    "start_time": "2023-02-19T15:08:43.725Z"
   },
   {
    "duration": 56,
    "start_time": "2023-02-19T15:08:51.301Z"
   },
   {
    "duration": 54,
    "start_time": "2023-02-19T15:08:54.284Z"
   },
   {
    "duration": 72,
    "start_time": "2023-02-19T15:09:07.959Z"
   },
   {
    "duration": 8,
    "start_time": "2023-02-19T15:09:20.122Z"
   },
   {
    "duration": 6,
    "start_time": "2023-02-19T15:09:32.539Z"
   },
   {
    "duration": 6,
    "start_time": "2023-02-19T15:09:45.875Z"
   },
   {
    "duration": 8,
    "start_time": "2023-02-19T15:09:50.342Z"
   },
   {
    "duration": 89,
    "start_time": "2023-02-19T15:10:01.619Z"
   },
   {
    "duration": 12,
    "start_time": "2023-02-19T15:12:21.282Z"
   },
   {
    "duration": 267,
    "start_time": "2023-02-20T06:04:05.462Z"
   },
   {
    "duration": 419,
    "start_time": "2023-02-20T06:04:26.205Z"
   },
   {
    "duration": 14,
    "start_time": "2023-02-20T06:04:26.626Z"
   },
   {
    "duration": 13,
    "start_time": "2023-02-20T06:04:26.641Z"
   },
   {
    "duration": 10,
    "start_time": "2023-02-20T06:04:26.656Z"
   },
   {
    "duration": 417,
    "start_time": "2023-02-20T06:04:26.667Z"
   },
   {
    "duration": 152,
    "start_time": "2023-02-20T06:04:27.086Z"
   },
   {
    "duration": 9,
    "start_time": "2023-02-20T06:04:27.240Z"
   },
   {
    "duration": 13,
    "start_time": "2023-02-20T06:04:27.250Z"
   },
   {
    "duration": 4,
    "start_time": "2023-02-20T06:04:27.265Z"
   },
   {
    "duration": 21,
    "start_time": "2023-02-20T06:04:27.270Z"
   },
   {
    "duration": 4,
    "start_time": "2023-02-20T06:04:27.292Z"
   },
   {
    "duration": 146,
    "start_time": "2023-02-20T06:04:27.297Z"
   },
   {
    "duration": 0,
    "start_time": "2023-02-20T06:04:27.445Z"
   },
   {
    "duration": 0,
    "start_time": "2023-02-20T06:04:27.446Z"
   },
   {
    "duration": 0,
    "start_time": "2023-02-20T06:04:27.447Z"
   },
   {
    "duration": 0,
    "start_time": "2023-02-20T06:04:27.448Z"
   },
   {
    "duration": 0,
    "start_time": "2023-02-20T06:04:27.450Z"
   },
   {
    "duration": 0,
    "start_time": "2023-02-20T06:04:27.451Z"
   },
   {
    "duration": 0,
    "start_time": "2023-02-20T06:04:27.452Z"
   },
   {
    "duration": 0,
    "start_time": "2023-02-20T06:04:27.454Z"
   },
   {
    "duration": 0,
    "start_time": "2023-02-20T06:04:27.455Z"
   },
   {
    "duration": 0,
    "start_time": "2023-02-20T06:04:27.457Z"
   },
   {
    "duration": 0,
    "start_time": "2023-02-20T06:04:27.458Z"
   },
   {
    "duration": 0,
    "start_time": "2023-02-20T06:04:27.459Z"
   },
   {
    "duration": 0,
    "start_time": "2023-02-20T06:04:27.461Z"
   },
   {
    "duration": 0,
    "start_time": "2023-02-20T06:04:27.462Z"
   },
   {
    "duration": 0,
    "start_time": "2023-02-20T06:04:27.464Z"
   },
   {
    "duration": 0,
    "start_time": "2023-02-20T06:04:27.465Z"
   },
   {
    "duration": 0,
    "start_time": "2023-02-20T06:04:27.467Z"
   },
   {
    "duration": 0,
    "start_time": "2023-02-20T06:04:27.468Z"
   },
   {
    "duration": 0,
    "start_time": "2023-02-20T06:04:27.470Z"
   },
   {
    "duration": 0,
    "start_time": "2023-02-20T06:04:27.471Z"
   },
   {
    "duration": 0,
    "start_time": "2023-02-20T06:04:27.472Z"
   },
   {
    "duration": 0,
    "start_time": "2023-02-20T06:04:27.474Z"
   },
   {
    "duration": 0,
    "start_time": "2023-02-20T06:04:27.475Z"
   },
   {
    "duration": 0,
    "start_time": "2023-02-20T06:04:27.476Z"
   },
   {
    "duration": 0,
    "start_time": "2023-02-20T06:04:27.478Z"
   },
   {
    "duration": 0,
    "start_time": "2023-02-20T06:04:27.479Z"
   },
   {
    "duration": 0,
    "start_time": "2023-02-20T06:04:27.481Z"
   },
   {
    "duration": 0,
    "start_time": "2023-02-20T06:04:27.482Z"
   },
   {
    "duration": 75,
    "start_time": "2023-02-20T06:04:48.049Z"
   },
   {
    "duration": 11,
    "start_time": "2023-02-20T06:05:03.738Z"
   },
   {
    "duration": 12,
    "start_time": "2023-02-20T06:05:40.076Z"
   },
   {
    "duration": 11,
    "start_time": "2023-02-20T06:05:57.637Z"
   },
   {
    "duration": 4,
    "start_time": "2023-02-20T06:06:11.706Z"
   },
   {
    "duration": 4,
    "start_time": "2023-02-20T06:06:14.676Z"
   },
   {
    "duration": 4,
    "start_time": "2023-02-20T06:06:17.757Z"
   },
   {
    "duration": 5,
    "start_time": "2023-02-20T06:06:19.557Z"
   },
   {
    "duration": 5,
    "start_time": "2023-02-20T06:06:25.997Z"
   },
   {
    "duration": 13,
    "start_time": "2023-02-20T06:07:29.016Z"
   },
   {
    "duration": 10,
    "start_time": "2023-02-20T06:07:43.356Z"
   },
   {
    "duration": 10,
    "start_time": "2023-02-20T06:08:42.896Z"
   },
   {
    "duration": 4,
    "start_time": "2023-02-20T06:09:19.076Z"
   },
   {
    "duration": 8,
    "start_time": "2023-02-20T06:09:22.497Z"
   },
   {
    "duration": 10,
    "start_time": "2023-02-20T06:14:49.537Z"
   },
   {
    "duration": 389,
    "start_time": "2023-02-20T06:14:59.172Z"
   },
   {
    "duration": 13,
    "start_time": "2023-02-20T06:14:59.563Z"
   },
   {
    "duration": 12,
    "start_time": "2023-02-20T06:14:59.577Z"
   },
   {
    "duration": 8,
    "start_time": "2023-02-20T06:14:59.591Z"
   },
   {
    "duration": 247,
    "start_time": "2023-02-20T06:14:59.601Z"
   },
   {
    "duration": 48,
    "start_time": "2023-02-20T06:14:59.850Z"
   },
   {
    "duration": 9,
    "start_time": "2023-02-20T06:14:59.900Z"
   },
   {
    "duration": 12,
    "start_time": "2023-02-20T06:14:59.911Z"
   },
   {
    "duration": 5,
    "start_time": "2023-02-20T06:14:59.924Z"
   },
   {
    "duration": 10,
    "start_time": "2023-02-20T06:14:59.931Z"
   },
   {
    "duration": 3,
    "start_time": "2023-02-20T06:14:59.943Z"
   },
   {
    "duration": 78,
    "start_time": "2023-02-20T06:14:59.948Z"
   },
   {
    "duration": 0,
    "start_time": "2023-02-20T06:15:00.028Z"
   },
   {
    "duration": 0,
    "start_time": "2023-02-20T06:15:00.030Z"
   },
   {
    "duration": 0,
    "start_time": "2023-02-20T06:15:00.031Z"
   },
   {
    "duration": 0,
    "start_time": "2023-02-20T06:15:00.032Z"
   },
   {
    "duration": 0,
    "start_time": "2023-02-20T06:15:00.033Z"
   },
   {
    "duration": 0,
    "start_time": "2023-02-20T06:15:00.048Z"
   },
   {
    "duration": 0,
    "start_time": "2023-02-20T06:15:00.049Z"
   },
   {
    "duration": 0,
    "start_time": "2023-02-20T06:15:00.050Z"
   },
   {
    "duration": 0,
    "start_time": "2023-02-20T06:15:00.051Z"
   },
   {
    "duration": 0,
    "start_time": "2023-02-20T06:15:00.052Z"
   },
   {
    "duration": 0,
    "start_time": "2023-02-20T06:15:00.053Z"
   },
   {
    "duration": 0,
    "start_time": "2023-02-20T06:15:00.054Z"
   },
   {
    "duration": 0,
    "start_time": "2023-02-20T06:15:00.055Z"
   },
   {
    "duration": 0,
    "start_time": "2023-02-20T06:15:00.056Z"
   },
   {
    "duration": 0,
    "start_time": "2023-02-20T06:15:00.057Z"
   },
   {
    "duration": 0,
    "start_time": "2023-02-20T06:15:00.058Z"
   },
   {
    "duration": 0,
    "start_time": "2023-02-20T06:15:00.059Z"
   },
   {
    "duration": 0,
    "start_time": "2023-02-20T06:15:00.061Z"
   },
   {
    "duration": 0,
    "start_time": "2023-02-20T06:15:00.061Z"
   },
   {
    "duration": 0,
    "start_time": "2023-02-20T06:15:00.062Z"
   },
   {
    "duration": 0,
    "start_time": "2023-02-20T06:15:00.064Z"
   },
   {
    "duration": 0,
    "start_time": "2023-02-20T06:15:00.065Z"
   },
   {
    "duration": 0,
    "start_time": "2023-02-20T06:15:00.066Z"
   },
   {
    "duration": 0,
    "start_time": "2023-02-20T06:15:00.067Z"
   },
   {
    "duration": 0,
    "start_time": "2023-02-20T06:15:00.068Z"
   },
   {
    "duration": 0,
    "start_time": "2023-02-20T06:15:00.068Z"
   },
   {
    "duration": 0,
    "start_time": "2023-02-20T06:15:00.070Z"
   },
   {
    "duration": 0,
    "start_time": "2023-02-20T06:15:00.070Z"
   },
   {
    "duration": 11,
    "start_time": "2023-02-20T06:15:18.111Z"
   },
   {
    "duration": 7,
    "start_time": "2023-02-20T06:15:26.739Z"
   },
   {
    "duration": 6,
    "start_time": "2023-02-20T06:23:56.018Z"
   },
   {
    "duration": 6,
    "start_time": "2023-02-20T06:24:00.240Z"
   },
   {
    "duration": 11,
    "start_time": "2023-02-20T06:24:04.699Z"
   },
   {
    "duration": 9,
    "start_time": "2023-02-20T06:24:30.458Z"
   },
   {
    "duration": 29,
    "start_time": "2023-02-20T06:26:37.079Z"
   },
   {
    "duration": 8,
    "start_time": "2023-02-20T06:27:02.866Z"
   },
   {
    "duration": 13,
    "start_time": "2023-02-20T06:27:09.658Z"
   },
   {
    "duration": 8,
    "start_time": "2023-02-20T06:27:30.819Z"
   },
   {
    "duration": 7,
    "start_time": "2023-02-20T06:27:37.998Z"
   },
   {
    "duration": 15,
    "start_time": "2023-02-20T06:27:40.137Z"
   },
   {
    "duration": 11,
    "start_time": "2023-02-20T06:27:49.418Z"
   },
   {
    "duration": 13,
    "start_time": "2023-02-20T06:27:59.098Z"
   },
   {
    "duration": 7,
    "start_time": "2023-02-20T06:28:10.478Z"
   },
   {
    "duration": 7,
    "start_time": "2023-02-20T06:28:18.139Z"
   },
   {
    "duration": 386,
    "start_time": "2023-02-20T06:28:39.804Z"
   },
   {
    "duration": 16,
    "start_time": "2023-02-20T06:28:40.193Z"
   },
   {
    "duration": 12,
    "start_time": "2023-02-20T06:28:40.211Z"
   },
   {
    "duration": 10,
    "start_time": "2023-02-20T06:28:40.224Z"
   },
   {
    "duration": 276,
    "start_time": "2023-02-20T06:28:40.236Z"
   },
   {
    "duration": 48,
    "start_time": "2023-02-20T06:28:40.514Z"
   },
   {
    "duration": 9,
    "start_time": "2023-02-20T06:28:40.564Z"
   },
   {
    "duration": 16,
    "start_time": "2023-02-20T06:28:40.575Z"
   },
   {
    "duration": 18,
    "start_time": "2023-02-20T06:28:40.592Z"
   },
   {
    "duration": 25,
    "start_time": "2023-02-20T06:28:40.612Z"
   },
   {
    "duration": 8,
    "start_time": "2023-02-20T06:28:40.639Z"
   },
   {
    "duration": 9,
    "start_time": "2023-02-20T06:28:40.649Z"
   },
   {
    "duration": 13,
    "start_time": "2023-02-20T06:28:40.659Z"
   },
   {
    "duration": 8,
    "start_time": "2023-02-20T06:28:40.674Z"
   },
   {
    "duration": 285,
    "start_time": "2023-02-20T06:28:40.683Z"
   },
   {
    "duration": 244,
    "start_time": "2023-02-20T06:28:40.970Z"
   },
   {
    "duration": 182,
    "start_time": "2023-02-20T06:28:41.215Z"
   },
   {
    "duration": 326,
    "start_time": "2023-02-20T06:28:41.399Z"
   },
   {
    "duration": 190,
    "start_time": "2023-02-20T06:28:41.727Z"
   },
   {
    "duration": 310,
    "start_time": "2023-02-20T06:28:41.919Z"
   },
   {
    "duration": 19,
    "start_time": "2023-02-20T06:28:42.231Z"
   },
   {
    "duration": 21,
    "start_time": "2023-02-20T06:28:42.252Z"
   },
   {
    "duration": 133,
    "start_time": "2023-02-20T06:28:42.275Z"
   },
   {
    "duration": 6,
    "start_time": "2023-02-20T06:28:42.410Z"
   },
   {
    "duration": 18,
    "start_time": "2023-02-20T06:28:42.417Z"
   },
   {
    "duration": 121,
    "start_time": "2023-02-20T06:28:42.447Z"
   },
   {
    "duration": 120,
    "start_time": "2023-02-20T06:28:42.569Z"
   },
   {
    "duration": 112,
    "start_time": "2023-02-20T06:28:42.691Z"
   },
   {
    "duration": 6,
    "start_time": "2023-02-20T06:28:42.805Z"
   },
   {
    "duration": 266,
    "start_time": "2023-02-20T06:28:42.812Z"
   },
   {
    "duration": 25,
    "start_time": "2023-02-20T06:28:43.080Z"
   },
   {
    "duration": 523,
    "start_time": "2023-02-20T06:28:43.107Z"
   },
   {
    "duration": 7,
    "start_time": "2023-02-20T06:28:43.632Z"
   },
   {
    "duration": 78,
    "start_time": "2023-02-20T06:28:43.640Z"
   },
   {
    "duration": 11,
    "start_time": "2023-02-20T06:28:43.720Z"
   },
   {
    "duration": 36,
    "start_time": "2023-02-20T06:28:43.732Z"
   },
   {
    "duration": 24,
    "start_time": "2023-02-20T06:28:43.770Z"
   },
   {
    "duration": 52,
    "start_time": "2023-02-20T06:28:43.795Z"
   },
   {
    "duration": 32,
    "start_time": "2023-02-20T06:28:43.849Z"
   },
   {
    "duration": 377,
    "start_time": "2023-02-20T06:28:43.883Z"
   },
   {
    "duration": 263,
    "start_time": "2023-02-20T06:28:44.263Z"
   },
   {
    "duration": 3,
    "start_time": "2023-02-20T06:43:29.303Z"
   },
   {
    "duration": 459,
    "start_time": "2023-02-20T06:43:46.521Z"
   },
   {
    "duration": 14,
    "start_time": "2023-02-20T06:43:46.983Z"
   },
   {
    "duration": 11,
    "start_time": "2023-02-20T06:43:46.999Z"
   },
   {
    "duration": 11,
    "start_time": "2023-02-20T06:43:47.011Z"
   },
   {
    "duration": 302,
    "start_time": "2023-02-20T06:43:47.024Z"
   },
   {
    "duration": 48,
    "start_time": "2023-02-20T06:43:47.327Z"
   },
   {
    "duration": 9,
    "start_time": "2023-02-20T06:43:47.377Z"
   },
   {
    "duration": 14,
    "start_time": "2023-02-20T06:43:47.388Z"
   },
   {
    "duration": 18,
    "start_time": "2023-02-20T06:43:47.404Z"
   },
   {
    "duration": 14,
    "start_time": "2023-02-20T06:43:47.424Z"
   },
   {
    "duration": 4,
    "start_time": "2023-02-20T06:43:47.439Z"
   },
   {
    "duration": 10,
    "start_time": "2023-02-20T06:43:47.445Z"
   },
   {
    "duration": 2,
    "start_time": "2023-02-20T06:43:47.457Z"
   },
   {
    "duration": 8,
    "start_time": "2023-02-20T06:43:47.462Z"
   },
   {
    "duration": 311,
    "start_time": "2023-02-20T06:43:47.472Z"
   },
   {
    "duration": 273,
    "start_time": "2023-02-20T06:43:47.784Z"
   },
   {
    "duration": 207,
    "start_time": "2023-02-20T06:43:48.058Z"
   },
   {
    "duration": 400,
    "start_time": "2023-02-20T06:43:48.267Z"
   },
   {
    "duration": 219,
    "start_time": "2023-02-20T06:43:48.669Z"
   },
   {
    "duration": 266,
    "start_time": "2023-02-20T06:43:48.890Z"
   },
   {
    "duration": 10,
    "start_time": "2023-02-20T06:43:49.158Z"
   },
   {
    "duration": 12,
    "start_time": "2023-02-20T06:43:49.170Z"
   },
   {
    "duration": 136,
    "start_time": "2023-02-20T06:43:49.184Z"
   },
   {
    "duration": 6,
    "start_time": "2023-02-20T06:43:49.321Z"
   },
   {
    "duration": 29,
    "start_time": "2023-02-20T06:43:49.329Z"
   },
   {
    "duration": 147,
    "start_time": "2023-02-20T06:43:49.360Z"
   },
   {
    "duration": 126,
    "start_time": "2023-02-20T06:43:49.509Z"
   },
   {
    "duration": 133,
    "start_time": "2023-02-20T06:43:49.637Z"
   },
   {
    "duration": 5,
    "start_time": "2023-02-20T06:43:49.771Z"
   },
   {
    "duration": 244,
    "start_time": "2023-02-20T06:43:49.777Z"
   },
   {
    "duration": 26,
    "start_time": "2023-02-20T06:43:50.022Z"
   },
   {
    "duration": 478,
    "start_time": "2023-02-20T06:43:50.050Z"
   },
   {
    "duration": 6,
    "start_time": "2023-02-20T06:43:50.529Z"
   },
   {
    "duration": 32,
    "start_time": "2023-02-20T06:43:50.536Z"
   },
   {
    "duration": 11,
    "start_time": "2023-02-20T06:43:50.569Z"
   },
   {
    "duration": 9,
    "start_time": "2023-02-20T06:43:50.581Z"
   },
   {
    "duration": 8,
    "start_time": "2023-02-20T06:43:50.592Z"
   },
   {
    "duration": 51,
    "start_time": "2023-02-20T06:43:50.602Z"
   },
   {
    "duration": 17,
    "start_time": "2023-02-20T06:43:50.655Z"
   },
   {
    "duration": 286,
    "start_time": "2023-02-20T06:43:50.674Z"
   },
   {
    "duration": 286,
    "start_time": "2023-02-20T06:43:50.964Z"
   },
   {
    "duration": 375,
    "start_time": "2023-02-20T06:45:40.842Z"
   },
   {
    "duration": 350,
    "start_time": "2023-02-20T06:45:45.503Z"
   },
   {
    "duration": 347,
    "start_time": "2023-02-20T06:45:49.130Z"
   },
   {
    "duration": 271,
    "start_time": "2023-02-20T06:46:10.683Z"
   },
   {
    "duration": 482,
    "start_time": "2023-02-20T06:47:26.346Z"
   },
   {
    "duration": 17,
    "start_time": "2023-02-20T06:47:26.831Z"
   },
   {
    "duration": 21,
    "start_time": "2023-02-20T06:47:26.850Z"
   },
   {
    "duration": 12,
    "start_time": "2023-02-20T06:47:26.874Z"
   },
   {
    "duration": 316,
    "start_time": "2023-02-20T06:47:26.889Z"
   },
   {
    "duration": 49,
    "start_time": "2023-02-20T06:47:27.207Z"
   },
   {
    "duration": 13,
    "start_time": "2023-02-20T06:47:27.258Z"
   },
   {
    "duration": 21,
    "start_time": "2023-02-20T06:47:27.273Z"
   },
   {
    "duration": 23,
    "start_time": "2023-02-20T06:47:27.297Z"
   },
   {
    "duration": 31,
    "start_time": "2023-02-20T06:47:27.322Z"
   },
   {
    "duration": 7,
    "start_time": "2023-02-20T06:47:27.355Z"
   },
   {
    "duration": 16,
    "start_time": "2023-02-20T06:47:27.365Z"
   },
   {
    "duration": 4,
    "start_time": "2023-02-20T06:47:27.383Z"
   },
   {
    "duration": 19,
    "start_time": "2023-02-20T06:47:27.390Z"
   },
   {
    "duration": 331,
    "start_time": "2023-02-20T06:47:27.411Z"
   },
   {
    "duration": 311,
    "start_time": "2023-02-20T06:47:27.744Z"
   },
   {
    "duration": 208,
    "start_time": "2023-02-20T06:47:28.057Z"
   },
   {
    "duration": 388,
    "start_time": "2023-02-20T06:47:28.268Z"
   },
   {
    "duration": 223,
    "start_time": "2023-02-20T06:47:28.659Z"
   },
   {
    "duration": 308,
    "start_time": "2023-02-20T06:47:28.885Z"
   },
   {
    "duration": 9,
    "start_time": "2023-02-20T06:47:29.195Z"
   },
   {
    "duration": 14,
    "start_time": "2023-02-20T06:47:29.206Z"
   },
   {
    "duration": 136,
    "start_time": "2023-02-20T06:47:29.222Z"
   },
   {
    "duration": 6,
    "start_time": "2023-02-20T06:47:29.360Z"
   },
   {
    "duration": 30,
    "start_time": "2023-02-20T06:47:29.367Z"
   },
   {
    "duration": 152,
    "start_time": "2023-02-20T06:47:29.399Z"
   },
   {
    "duration": 145,
    "start_time": "2023-02-20T06:47:29.553Z"
   },
   {
    "duration": 143,
    "start_time": "2023-02-20T06:47:29.702Z"
   },
   {
    "duration": 6,
    "start_time": "2023-02-20T06:47:29.848Z"
   },
   {
    "duration": 256,
    "start_time": "2023-02-20T06:47:29.856Z"
   },
   {
    "duration": 20,
    "start_time": "2023-02-20T06:47:30.113Z"
   },
   {
    "duration": 513,
    "start_time": "2023-02-20T06:47:30.147Z"
   },
   {
    "duration": 6,
    "start_time": "2023-02-20T06:47:30.663Z"
   },
   {
    "duration": 54,
    "start_time": "2023-02-20T06:47:30.671Z"
   },
   {
    "duration": 39,
    "start_time": "2023-02-20T06:47:30.727Z"
   },
   {
    "duration": 62,
    "start_time": "2023-02-20T06:47:30.768Z"
   },
   {
    "duration": 68,
    "start_time": "2023-02-20T06:47:30.833Z"
   },
   {
    "duration": 59,
    "start_time": "2023-02-20T06:47:30.903Z"
   },
   {
    "duration": 28,
    "start_time": "2023-02-20T06:47:30.965Z"
   },
   {
    "duration": 329,
    "start_time": "2023-02-20T06:47:30.994Z"
   },
   {
    "duration": 350,
    "start_time": "2023-02-20T06:47:31.327Z"
   },
   {
    "duration": 614,
    "start_time": "2023-02-20T07:16:55.751Z"
   },
   {
    "duration": 11,
    "start_time": "2023-02-20T07:16:56.367Z"
   },
   {
    "duration": 14,
    "start_time": "2023-02-20T07:16:56.380Z"
   },
   {
    "duration": 12,
    "start_time": "2023-02-20T07:16:56.397Z"
   },
   {
    "duration": 323,
    "start_time": "2023-02-20T07:16:56.411Z"
   },
   {
    "duration": 48,
    "start_time": "2023-02-20T07:16:56.736Z"
   },
   {
    "duration": 10,
    "start_time": "2023-02-20T07:16:56.786Z"
   },
   {
    "duration": 29,
    "start_time": "2023-02-20T07:16:56.798Z"
   },
   {
    "duration": 33,
    "start_time": "2023-02-20T07:16:56.829Z"
   },
   {
    "duration": 25,
    "start_time": "2023-02-20T07:16:56.865Z"
   },
   {
    "duration": 10,
    "start_time": "2023-02-20T07:16:56.892Z"
   },
   {
    "duration": 13,
    "start_time": "2023-02-20T07:16:56.904Z"
   },
   {
    "duration": 3,
    "start_time": "2023-02-20T07:16:56.919Z"
   },
   {
    "duration": 13,
    "start_time": "2023-02-20T07:16:56.924Z"
   },
   {
    "duration": 270,
    "start_time": "2023-02-20T07:16:56.938Z"
   },
   {
    "duration": 191,
    "start_time": "2023-02-20T07:16:57.210Z"
   },
   {
    "duration": 192,
    "start_time": "2023-02-20T07:16:57.404Z"
   },
   {
    "duration": 293,
    "start_time": "2023-02-20T07:16:57.597Z"
   },
   {
    "duration": 220,
    "start_time": "2023-02-20T07:16:57.892Z"
   },
   {
    "duration": 315,
    "start_time": "2023-02-20T07:16:58.114Z"
   },
   {
    "duration": 18,
    "start_time": "2023-02-20T07:16:58.430Z"
   },
   {
    "duration": 8,
    "start_time": "2023-02-20T07:16:58.450Z"
   },
   {
    "duration": 126,
    "start_time": "2023-02-20T07:16:58.460Z"
   },
   {
    "duration": 5,
    "start_time": "2023-02-20T07:16:58.589Z"
   },
   {
    "duration": 12,
    "start_time": "2023-02-20T07:16:58.596Z"
   },
   {
    "duration": 156,
    "start_time": "2023-02-20T07:16:58.609Z"
   },
   {
    "duration": 124,
    "start_time": "2023-02-20T07:16:58.767Z"
   },
   {
    "duration": 207,
    "start_time": "2023-02-20T07:16:58.894Z"
   },
   {
    "duration": 5,
    "start_time": "2023-02-20T07:16:59.103Z"
   },
   {
    "duration": 243,
    "start_time": "2023-02-20T07:16:59.110Z"
   },
   {
    "duration": 25,
    "start_time": "2023-02-20T07:16:59.356Z"
   },
   {
    "duration": 459,
    "start_time": "2023-02-20T07:16:59.383Z"
   },
   {
    "duration": 8,
    "start_time": "2023-02-20T07:16:59.847Z"
   },
   {
    "duration": 45,
    "start_time": "2023-02-20T07:16:59.858Z"
   },
   {
    "duration": 14,
    "start_time": "2023-02-20T07:16:59.906Z"
   },
   {
    "duration": 11,
    "start_time": "2023-02-20T07:16:59.949Z"
   },
   {
    "duration": 11,
    "start_time": "2023-02-20T07:16:59.962Z"
   },
   {
    "duration": 31,
    "start_time": "2023-02-20T07:16:59.975Z"
   },
   {
    "duration": 45,
    "start_time": "2023-02-20T07:17:00.008Z"
   },
   {
    "duration": 310,
    "start_time": "2023-02-20T07:17:00.057Z"
   },
   {
    "duration": 308,
    "start_time": "2023-02-20T07:17:00.369Z"
   }
  ],
  "kernelspec": {
   "display_name": "Python 3 (ipykernel)",
   "language": "python",
   "name": "python3"
  },
  "language_info": {
   "codemirror_mode": {
    "name": "ipython",
    "version": 3
   },
   "file_extension": ".py",
   "mimetype": "text/x-python",
   "name": "python",
   "nbconvert_exporter": "python",
   "pygments_lexer": "ipython3",
   "version": "3.10.9"
  },
  "toc": {
   "base_numbering": 1,
   "nav_menu": {},
   "number_sections": true,
   "sideBar": true,
   "skip_h1_title": true,
   "title_cell": "Table of Contents",
   "title_sidebar": "Contents",
   "toc_cell": false,
   "toc_position": {},
   "toc_section_display": true,
   "toc_window_display": false
  }
 },
 "nbformat": 4,
 "nbformat_minor": 2
}
