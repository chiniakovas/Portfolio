{
 "cells": [
  {
   "cell_type": "markdown",
   "id": "c7aa349c",
   "metadata": {},
   "source": [
    "# Анализ рекламных источников мобильной игры"
   ]
  },
  {
   "cell_type": "markdown",
   "id": "0dfe1ec5",
   "metadata": {},
   "source": [
    "**ЦЕЛИ И ХОД ИССЛЕДОВАНИЯ**"
   ]
  },
  {
   "cell_type": "markdown",
   "id": "93db96ff",
   "metadata": {},
   "source": [
    "**Вводные**\\\n",
    "В игре \"xxx\" пользователи строят свою космическую программу и пытаются преуспеть в нелёгком деле колонизации галактики.\\\n",
    "Игра уже пользуется популярностью. Пользователи приклекаются в игру из разных рекламных источников.\\\n",
    "Основная монетизация игры только планируется. Предполагается, что в приложении будет происходить показ рекламы на экране с выбором типа объекта для постройки.\n",
    "\n",
    "**Цели**\\\n",
    "Определить, какой канал привлечения пользователей наиболее выгоден.\n",
    "\n",
    "**Задачи**\\\n",
    "Для решения вышеуказанной целей мы решим следующие задачи:\n",
    "- Проведем категоризацию пользователей по каналам - перешел/не перешел на 2 уровень\n",
    "- Определим каналы, из которых приходят наиболее вовлеченные пользователи (доля пользователей, переходящих на 2й уровень)\n",
    "- Определим каналы, из которых пришли самые активные пользователи - строящие наибольшее кол-во зданий\n",
    "- Внутри каждого канала определим соотношение стратегий: кол-во пользователей, завершающих уровень через победу над врагом vs Реализацию проекта\n",
    "- Определим среднее время прохождения уровня по категориям по каждой из стратегий\n",
    "- Выясним, как распределены расходы по рекламным источникам\n",
    "- Выясним, сколько в среднем стоило привлечение одного пользователя (CAC) из каждого источника"
   ]
  },
  {
   "cell_type": "markdown",
   "id": "de0baac5",
   "metadata": {},
   "source": [
    "## 1 Декомпозиция"
   ]
  },
  {
   "cell_type": "markdown",
   "id": "70f059b2",
   "metadata": {},
   "source": [
    "1.1 **ПРЕДОБРАБОТКА И ПОДГОТОВКА ДАННЫХ**\n",
    "1. Первичное ознакомление с данными\n",
    "2. Проверка на наличие явных и неявных дубликатов\n",
    "3. Проверка на пропуски\n",
    "4. Добавление столбца \"Способ прохождения 1го уровня (через реализацию проекта/через победу над игроком)\"\n",
    "5. Добавление столбца \"Время прохождения 1го уровня\""
   ]
  },
  {
   "cell_type": "markdown",
   "id": "66365fa9",
   "metadata": {},
   "source": [
    "1.2 **ИССЛЕДОВАТЕЛЬСКИЙ АНАЛИЗ ДАННЫХ**"
   ]
  },
  {
   "cell_type": "markdown",
   "id": "1d5799fc",
   "metadata": {},
   "source": [
    "ИССЛЕДОВАНИЕ ИСТОЧНИКОВ И ЕГО ВЛИЯНИЯ НА ПОВЕДЕНИЕ ПОЛЬЗОВАТЕЛЯ\n",
    "1. Проведем категоризацию пользователей по каналам - перешел/не перешел на 2 уровень\n",
    "2. Определим каналы, из которых приходят наиболее вовлеченные пользователи (доля пользователей, переходящих на 2й уровень)\n",
    "3. Определим каналы, из которых пришли самые активные пользователи - строящие наибольшее кол-во зданий\n",
    "4. Внутри каждого канала определим соотношение стратегий: кол-во пользователей, завершающих уровень через победу над врагом vs Реализацию проекта\n",
    "5. Определим среднее время прохождения уровня по категориям по каждой из стратегий\n",
    "\n",
    "РЕКЛАМА\n",
    "1. Выясним, как распределены расходы по рекламным источникам\n",
    "2. Выясним, сколько в среднем стоило привлечение одного пользователя (CAC) из каждого источника"
   ]
  },
  {
   "cell_type": "markdown",
   "id": "48e6fff4",
   "metadata": {},
   "source": [
    "1.3 **ПРОВЕРКА СТАТИСТИЧЕСКИХ ГИПОТЕЗ**"
   ]
  },
  {
   "cell_type": "markdown",
   "id": "b5103a52",
   "metadata": {},
   "source": [
    "**Гипотеза №1**: время завершения уровня различается в зависимости способа прохождения\n",
    "\n",
    "`H0` - среднее время завершения уровня **одинаково** вне зависимости способа прохождения уровня\\\n",
    "`H1` - среднее время завершения уровня **различается** в зависимости способа прохождения уровня\n",
    "\n",
    "Проведение t-теста"
   ]
  },
  {
   "cell_type": "markdown",
   "id": "84aaaacd",
   "metadata": {},
   "source": [
    "**Гипотеза №2**: пользователи, пришедшие из источника X, более вовлеченены в игру (чаще переходят на следующий уровень), чем пользователи, пришедшие из источника Y\n",
    "\n",
    "`H0` - доли вовлеченных пользователей, пришедших из источника X и Y **одинаковы**\\\n",
    "`H1` - между долями вовлеченных пользователей, пришедших из источника X и Y, **есть значимая разница**\n",
    "\n",
    "Проведение z-теста"
   ]
  },
  {
   "cell_type": "markdown",
   "id": "6141f057",
   "metadata": {},
   "source": [
    "## 2 Предобработка данных"
   ]
  },
  {
   "cell_type": "markdown",
   "id": "7c5434dc",
   "metadata": {},
   "source": [
    "### 2.1 Ознакомление с данными"
   ]
  },
  {
   "cell_type": "code",
   "execution_count": 1,
   "id": "b8128a02",
   "metadata": {},
   "outputs": [],
   "source": [
    "# импортируем необходимые для работы библиотеки\n",
    "import pandas as pd\n",
    "import matplotlib.pyplot as plt\n",
    "import seaborn as sns\n",
    "import plotly.express as px\n",
    "from plotly import graph_objects as go\n",
    "from scipy import stats as st\n",
    "import numpy as np\n",
    "import math as mth"
   ]
  },
  {
   "cell_type": "code",
   "execution_count": 2,
   "id": "28d607ef",
   "metadata": {},
   "outputs": [],
   "source": [
    "# сохранием датасеты в переменные\n",
    "try:\n",
    "    path = \"C://Users//Светлана//Downloads//\"\n",
    "    game_actions = pd.read_csv (path + \"game_actions.csv\")\n",
    "    ad_costs = pd.read_csv (path + \"ad_costs.csv\")\n",
    "    user_source = pd.read_csv (path + \"user_source.csv\")\n",
    "except: \n",
    "    game_actions=pd.read_csv(\"https://code.s3.yandex.net/datasets/game_actions.csv\")\n",
    "    ad_costs=pd.read_csv(\"https://code.s3.yandex.net/datasets/ad_costs.csv\")\n",
    "    user_source=pd.read_csv(\"https://code.s3.yandex.net/datasets/user_source.csv\")"
   ]
  },
  {
   "cell_type": "code",
   "execution_count": 3,
   "id": "5e1a798d",
   "metadata": {},
   "outputs": [
    {
     "data": {
      "text/html": [
       "<div>\n",
       "<style scoped>\n",
       "    .dataframe tbody tr th:only-of-type {\n",
       "        vertical-align: middle;\n",
       "    }\n",
       "\n",
       "    .dataframe tbody tr th {\n",
       "        vertical-align: top;\n",
       "    }\n",
       "\n",
       "    .dataframe thead th {\n",
       "        text-align: right;\n",
       "    }\n",
       "</style>\n",
       "<table border=\"1\" class=\"dataframe\">\n",
       "  <thead>\n",
       "    <tr style=\"text-align: right;\">\n",
       "      <th></th>\n",
       "      <th>event_datetime</th>\n",
       "      <th>event</th>\n",
       "      <th>building_type</th>\n",
       "      <th>user_id</th>\n",
       "      <th>project_type</th>\n",
       "    </tr>\n",
       "  </thead>\n",
       "  <tbody>\n",
       "    <tr>\n",
       "      <th>0</th>\n",
       "      <td>2020-05-04 00:00:01</td>\n",
       "      <td>building</td>\n",
       "      <td>assembly_shop</td>\n",
       "      <td>55e92310-cb8e-4754-b622-597e124b03de</td>\n",
       "      <td>NaN</td>\n",
       "    </tr>\n",
       "    <tr>\n",
       "      <th>1</th>\n",
       "      <td>2020-05-04 00:00:03</td>\n",
       "      <td>building</td>\n",
       "      <td>assembly_shop</td>\n",
       "      <td>c07b1c10-f477-44dc-81dc-ec82254b1347</td>\n",
       "      <td>NaN</td>\n",
       "    </tr>\n",
       "    <tr>\n",
       "      <th>2</th>\n",
       "      <td>2020-05-04 00:00:16</td>\n",
       "      <td>building</td>\n",
       "      <td>assembly_shop</td>\n",
       "      <td>6edd42cc-e753-4ff6-a947-2107cd560710</td>\n",
       "      <td>NaN</td>\n",
       "    </tr>\n",
       "    <tr>\n",
       "      <th>3</th>\n",
       "      <td>2020-05-04 00:00:16</td>\n",
       "      <td>building</td>\n",
       "      <td>assembly_shop</td>\n",
       "      <td>92c69003-d60a-444a-827f-8cc51bf6bf4c</td>\n",
       "      <td>NaN</td>\n",
       "    </tr>\n",
       "    <tr>\n",
       "      <th>4</th>\n",
       "      <td>2020-05-04 00:00:35</td>\n",
       "      <td>building</td>\n",
       "      <td>assembly_shop</td>\n",
       "      <td>cdc6bb92-0ccb-4490-9866-ef142f09139d</td>\n",
       "      <td>NaN</td>\n",
       "    </tr>\n",
       "  </tbody>\n",
       "</table>\n",
       "</div>"
      ],
      "text/plain": [
       "        event_datetime     event  building_type  \\\n",
       "0  2020-05-04 00:00:01  building  assembly_shop   \n",
       "1  2020-05-04 00:00:03  building  assembly_shop   \n",
       "2  2020-05-04 00:00:16  building  assembly_shop   \n",
       "3  2020-05-04 00:00:16  building  assembly_shop   \n",
       "4  2020-05-04 00:00:35  building  assembly_shop   \n",
       "\n",
       "                                user_id project_type  \n",
       "0  55e92310-cb8e-4754-b622-597e124b03de          NaN  \n",
       "1  c07b1c10-f477-44dc-81dc-ec82254b1347          NaN  \n",
       "2  6edd42cc-e753-4ff6-a947-2107cd560710          NaN  \n",
       "3  92c69003-d60a-444a-827f-8cc51bf6bf4c          NaN  \n",
       "4  cdc6bb92-0ccb-4490-9866-ef142f09139d          NaN  "
      ]
     },
     "metadata": {},
     "output_type": "display_data"
    },
    {
     "data": {
      "text/html": [
       "<div>\n",
       "<style scoped>\n",
       "    .dataframe tbody tr th:only-of-type {\n",
       "        vertical-align: middle;\n",
       "    }\n",
       "\n",
       "    .dataframe tbody tr th {\n",
       "        vertical-align: top;\n",
       "    }\n",
       "\n",
       "    .dataframe thead th {\n",
       "        text-align: right;\n",
       "    }\n",
       "</style>\n",
       "<table border=\"1\" class=\"dataframe\">\n",
       "  <thead>\n",
       "    <tr style=\"text-align: right;\">\n",
       "      <th></th>\n",
       "      <th>source</th>\n",
       "      <th>day</th>\n",
       "      <th>cost</th>\n",
       "    </tr>\n",
       "  </thead>\n",
       "  <tbody>\n",
       "    <tr>\n",
       "      <th>0</th>\n",
       "      <td>facebook_ads</td>\n",
       "      <td>2020-05-03</td>\n",
       "      <td>935.882786</td>\n",
       "    </tr>\n",
       "    <tr>\n",
       "      <th>1</th>\n",
       "      <td>facebook_ads</td>\n",
       "      <td>2020-05-04</td>\n",
       "      <td>548.354480</td>\n",
       "    </tr>\n",
       "    <tr>\n",
       "      <th>2</th>\n",
       "      <td>facebook_ads</td>\n",
       "      <td>2020-05-05</td>\n",
       "      <td>260.185754</td>\n",
       "    </tr>\n",
       "    <tr>\n",
       "      <th>3</th>\n",
       "      <td>facebook_ads</td>\n",
       "      <td>2020-05-06</td>\n",
       "      <td>177.982200</td>\n",
       "    </tr>\n",
       "    <tr>\n",
       "      <th>4</th>\n",
       "      <td>facebook_ads</td>\n",
       "      <td>2020-05-07</td>\n",
       "      <td>111.766796</td>\n",
       "    </tr>\n",
       "  </tbody>\n",
       "</table>\n",
       "</div>"
      ],
      "text/plain": [
       "         source         day        cost\n",
       "0  facebook_ads  2020-05-03  935.882786\n",
       "1  facebook_ads  2020-05-04  548.354480\n",
       "2  facebook_ads  2020-05-05  260.185754\n",
       "3  facebook_ads  2020-05-06  177.982200\n",
       "4  facebook_ads  2020-05-07  111.766796"
      ]
     },
     "metadata": {},
     "output_type": "display_data"
    },
    {
     "data": {
      "text/html": [
       "<div>\n",
       "<style scoped>\n",
       "    .dataframe tbody tr th:only-of-type {\n",
       "        vertical-align: middle;\n",
       "    }\n",
       "\n",
       "    .dataframe tbody tr th {\n",
       "        vertical-align: top;\n",
       "    }\n",
       "\n",
       "    .dataframe thead th {\n",
       "        text-align: right;\n",
       "    }\n",
       "</style>\n",
       "<table border=\"1\" class=\"dataframe\">\n",
       "  <thead>\n",
       "    <tr style=\"text-align: right;\">\n",
       "      <th></th>\n",
       "      <th>user_id</th>\n",
       "      <th>source</th>\n",
       "    </tr>\n",
       "  </thead>\n",
       "  <tbody>\n",
       "    <tr>\n",
       "      <th>0</th>\n",
       "      <td>0001f83c-c6ac-4621-b7f0-8a28b283ac30</td>\n",
       "      <td>facebook_ads</td>\n",
       "    </tr>\n",
       "    <tr>\n",
       "      <th>1</th>\n",
       "      <td>00151b4f-ba38-44a8-a650-d7cf130a0105</td>\n",
       "      <td>yandex_direct</td>\n",
       "    </tr>\n",
       "    <tr>\n",
       "      <th>2</th>\n",
       "      <td>001aaea6-3d14-43f1-8ca8-7f48820f17aa</td>\n",
       "      <td>youtube_channel_reklama</td>\n",
       "    </tr>\n",
       "    <tr>\n",
       "      <th>3</th>\n",
       "      <td>001d39dc-366c-4021-9604-6a3b9ff01e25</td>\n",
       "      <td>instagram_new_adverts</td>\n",
       "    </tr>\n",
       "    <tr>\n",
       "      <th>4</th>\n",
       "      <td>002f508f-67b6-479f-814b-b05f00d4e995</td>\n",
       "      <td>facebook_ads</td>\n",
       "    </tr>\n",
       "  </tbody>\n",
       "</table>\n",
       "</div>"
      ],
      "text/plain": [
       "                                user_id                   source\n",
       "0  0001f83c-c6ac-4621-b7f0-8a28b283ac30             facebook_ads\n",
       "1  00151b4f-ba38-44a8-a650-d7cf130a0105            yandex_direct\n",
       "2  001aaea6-3d14-43f1-8ca8-7f48820f17aa  youtube_channel_reklama\n",
       "3  001d39dc-366c-4021-9604-6a3b9ff01e25    instagram_new_adverts\n",
       "4  002f508f-67b6-479f-814b-b05f00d4e995             facebook_ads"
      ]
     },
     "metadata": {},
     "output_type": "display_data"
    }
   ],
   "source": [
    "display (game_actions.head(5))\n",
    "display (ad_costs.head(5))\n",
    "display (user_source.head(5))"
   ]
  },
  {
   "cell_type": "markdown",
   "id": "90e94d74",
   "metadata": {},
   "source": [
    "**Ознакомимся с датасетом `game_actions`**"
   ]
  },
  {
   "cell_type": "code",
   "execution_count": 4,
   "id": "55911202",
   "metadata": {
    "scrolled": true
   },
   "outputs": [
    {
     "name": "stdout",
     "output_type": "stream",
     "text": [
      "<class 'pandas.core.frame.DataFrame'>\n",
      "RangeIndex: 135640 entries, 0 to 135639\n",
      "Data columns (total 5 columns):\n",
      " #   Column          Non-Null Count   Dtype \n",
      "---  ------          --------------   ----- \n",
      " 0   event_datetime  135640 non-null  object\n",
      " 1   event           135640 non-null  object\n",
      " 2   building_type   127957 non-null  object\n",
      " 3   user_id         135640 non-null  object\n",
      " 4   project_type    1866 non-null    object\n",
      "dtypes: object(5)\n",
      "memory usage: 5.2+ MB\n"
     ]
    }
   ],
   "source": [
    "# выведем общую информацию о датасете\n",
    "game_actions.info()"
   ]
  },
  {
   "cell_type": "markdown",
   "id": "c54bdc8f",
   "metadata": {},
   "source": [
    "Изменим тип данных в столбце с датой события, а также добавим столбцец только с датой"
   ]
  },
  {
   "cell_type": "code",
   "execution_count": 5,
   "id": "90b1567b",
   "metadata": {},
   "outputs": [],
   "source": [
    "game_actions['event_datetime'] = pd.to_datetime(game_actions['event_datetime'])\n",
    "game_actions['date'] = game_actions['event_datetime'].astype('datetime64[D]')"
   ]
  },
  {
   "cell_type": "code",
   "execution_count": 6,
   "id": "9ffb7772",
   "metadata": {
    "scrolled": true
   },
   "outputs": [
    {
     "data": {
      "text/html": [
       "<div>\n",
       "<style scoped>\n",
       "    .dataframe tbody tr th:only-of-type {\n",
       "        vertical-align: middle;\n",
       "    }\n",
       "\n",
       "    .dataframe tbody tr th {\n",
       "        vertical-align: top;\n",
       "    }\n",
       "\n",
       "    .dataframe thead th {\n",
       "        text-align: right;\n",
       "    }\n",
       "</style>\n",
       "<table border=\"1\" class=\"dataframe\">\n",
       "  <thead>\n",
       "    <tr style=\"text-align: right;\">\n",
       "      <th></th>\n",
       "      <th>event_datetime</th>\n",
       "      <th>event</th>\n",
       "      <th>building_type</th>\n",
       "      <th>user_id</th>\n",
       "      <th>project_type</th>\n",
       "      <th>date</th>\n",
       "    </tr>\n",
       "  </thead>\n",
       "  <tbody>\n",
       "    <tr>\n",
       "      <th>0</th>\n",
       "      <td>2020-05-04 00:00:01</td>\n",
       "      <td>building</td>\n",
       "      <td>assembly_shop</td>\n",
       "      <td>55e92310-cb8e-4754-b622-597e124b03de</td>\n",
       "      <td>NaN</td>\n",
       "      <td>2020-05-04 00:00:01</td>\n",
       "    </tr>\n",
       "    <tr>\n",
       "      <th>1</th>\n",
       "      <td>2020-05-04 00:00:03</td>\n",
       "      <td>building</td>\n",
       "      <td>assembly_shop</td>\n",
       "      <td>c07b1c10-f477-44dc-81dc-ec82254b1347</td>\n",
       "      <td>NaN</td>\n",
       "      <td>2020-05-04 00:00:03</td>\n",
       "    </tr>\n",
       "    <tr>\n",
       "      <th>2</th>\n",
       "      <td>2020-05-04 00:00:16</td>\n",
       "      <td>building</td>\n",
       "      <td>assembly_shop</td>\n",
       "      <td>6edd42cc-e753-4ff6-a947-2107cd560710</td>\n",
       "      <td>NaN</td>\n",
       "      <td>2020-05-04 00:00:16</td>\n",
       "    </tr>\n",
       "  </tbody>\n",
       "</table>\n",
       "</div>"
      ],
      "text/plain": [
       "       event_datetime     event  building_type  \\\n",
       "0 2020-05-04 00:00:01  building  assembly_shop   \n",
       "1 2020-05-04 00:00:03  building  assembly_shop   \n",
       "2 2020-05-04 00:00:16  building  assembly_shop   \n",
       "\n",
       "                                user_id project_type                date  \n",
       "0  55e92310-cb8e-4754-b622-597e124b03de          NaN 2020-05-04 00:00:01  \n",
       "1  c07b1c10-f477-44dc-81dc-ec82254b1347          NaN 2020-05-04 00:00:03  \n",
       "2  6edd42cc-e753-4ff6-a947-2107cd560710          NaN 2020-05-04 00:00:16  "
      ]
     },
     "execution_count": 6,
     "metadata": {},
     "output_type": "execute_result"
    }
   ],
   "source": [
    "game_actions.head(3)"
   ]
  },
  {
   "cell_type": "code",
   "execution_count": 7,
   "id": "eba7d65c",
   "metadata": {},
   "outputs": [
    {
     "data": {
      "text/plain": [
       "Timestamp('2020-05-04 00:00:01')"
      ]
     },
     "metadata": {},
     "output_type": "display_data"
    },
    {
     "data": {
      "text/plain": [
       "Timestamp('2020-06-05 12:32:49')"
      ]
     },
     "metadata": {},
     "output_type": "display_data"
    }
   ],
   "source": [
    "# узнаем мин и макс дату события\n",
    "display (game_actions['date'].min())\n",
    "display (game_actions['date'].max())"
   ]
  },
  {
   "cell_type": "code",
   "execution_count": 8,
   "id": "cbbcd3e7",
   "metadata": {},
   "outputs": [
    {
     "data": {
      "text/plain": [
       "array(['building', 'finished_stage_1', 'project'], dtype=object)"
      ]
     },
     "execution_count": 8,
     "metadata": {},
     "output_type": "execute_result"
    }
   ],
   "source": [
    "# выведем список уникальных событий\n",
    "game_actions['event'].unique()"
   ]
  },
  {
   "cell_type": "code",
   "execution_count": 9,
   "id": "f8000f77",
   "metadata": {
    "scrolled": true
   },
   "outputs": [
    {
     "data": {
      "text/plain": [
       "array([nan, 'satellite_orbital_assembly'], dtype=object)"
      ]
     },
     "execution_count": 9,
     "metadata": {},
     "output_type": "execute_result"
    }
   ],
   "source": [
    "# выведем список уникальных проектов\n",
    "game_actions['project_type'].unique()"
   ]
  },
  {
   "cell_type": "markdown",
   "id": "dc061fad",
   "metadata": {},
   "source": [
    "**Ознакомимся с датасетом `ad_costs`**"
   ]
  },
  {
   "cell_type": "code",
   "execution_count": 10,
   "id": "bd9b0a43",
   "metadata": {},
   "outputs": [
    {
     "name": "stdout",
     "output_type": "stream",
     "text": [
      "<class 'pandas.core.frame.DataFrame'>\n",
      "RangeIndex: 28 entries, 0 to 27\n",
      "Data columns (total 3 columns):\n",
      " #   Column  Non-Null Count  Dtype  \n",
      "---  ------  --------------  -----  \n",
      " 0   source  28 non-null     object \n",
      " 1   day     28 non-null     object \n",
      " 2   cost    28 non-null     float64\n",
      "dtypes: float64(1), object(2)\n",
      "memory usage: 800.0+ bytes\n"
     ]
    }
   ],
   "source": [
    "# выведем общую информацию о датасете\n",
    "ad_costs.info()"
   ]
  },
  {
   "cell_type": "code",
   "execution_count": 11,
   "id": "1ae4b4de",
   "metadata": {
    "scrolled": true
   },
   "outputs": [
    {
     "data": {
      "text/plain": [
       "array(['facebook_ads', 'instagram_new_adverts', 'yandex_direct',\n",
       "       'youtube_channel_reklama'], dtype=object)"
      ]
     },
     "execution_count": 11,
     "metadata": {},
     "output_type": "execute_result"
    }
   ],
   "source": [
    "# выведем список уникальных источников\n",
    "ad_costs['source'].unique()"
   ]
  },
  {
   "cell_type": "markdown",
   "id": "c12ed857",
   "metadata": {},
   "source": [
    "**Ознакомимся с датасетом `user_source`**"
   ]
  },
  {
   "cell_type": "code",
   "execution_count": 12,
   "id": "cfc1ec8f",
   "metadata": {},
   "outputs": [
    {
     "name": "stdout",
     "output_type": "stream",
     "text": [
      "<class 'pandas.core.frame.DataFrame'>\n",
      "RangeIndex: 13576 entries, 0 to 13575\n",
      "Data columns (total 2 columns):\n",
      " #   Column   Non-Null Count  Dtype \n",
      "---  ------   --------------  ----- \n",
      " 0   user_id  13576 non-null  object\n",
      " 1   source   13576 non-null  object\n",
      "dtypes: object(2)\n",
      "memory usage: 212.2+ KB\n"
     ]
    }
   ],
   "source": [
    "# выведем общую информацию о датасете\n",
    "user_source.info()"
   ]
  },
  {
   "cell_type": "code",
   "execution_count": 13,
   "id": "aab1c550",
   "metadata": {},
   "outputs": [
    {
     "data": {
      "text/plain": [
       "array(['facebook_ads', 'yandex_direct', 'youtube_channel_reklama',\n",
       "       'instagram_new_adverts'], dtype=object)"
      ]
     },
     "execution_count": 13,
     "metadata": {},
     "output_type": "execute_result"
    }
   ],
   "source": [
    "# выведем список уникальных источников\n",
    "user_source['source'].unique()"
   ]
  },
  {
   "cell_type": "markdown",
   "id": "4e63a60a",
   "metadata": {},
   "source": [
    "### 2.2 Проверка данных на наличие явных дубликатов"
   ]
  },
  {
   "cell_type": "code",
   "execution_count": 14,
   "id": "0a1adbbc",
   "metadata": {},
   "outputs": [
    {
     "data": {
      "text/plain": [
       "1"
      ]
     },
     "metadata": {},
     "output_type": "display_data"
    },
    {
     "data": {
      "text/plain": [
       "0"
      ]
     },
     "metadata": {},
     "output_type": "display_data"
    },
    {
     "data": {
      "text/plain": [
       "0"
      ]
     },
     "metadata": {},
     "output_type": "display_data"
    }
   ],
   "source": [
    "# проверим данные на неявные дубликаты\n",
    "display (game_actions.duplicated().sum())\n",
    "display (ad_costs.duplicated().sum())\n",
    "display (user_source.duplicated().sum())"
   ]
  },
  {
   "cell_type": "code",
   "execution_count": 15,
   "id": "97c582d5",
   "metadata": {},
   "outputs": [
    {
     "data": {
      "text/html": [
       "<div>\n",
       "<style scoped>\n",
       "    .dataframe tbody tr th:only-of-type {\n",
       "        vertical-align: middle;\n",
       "    }\n",
       "\n",
       "    .dataframe tbody tr th {\n",
       "        vertical-align: top;\n",
       "    }\n",
       "\n",
       "    .dataframe thead th {\n",
       "        text-align: right;\n",
       "    }\n",
       "</style>\n",
       "<table border=\"1\" class=\"dataframe\">\n",
       "  <thead>\n",
       "    <tr style=\"text-align: right;\">\n",
       "      <th></th>\n",
       "      <th>event_datetime</th>\n",
       "      <th>event</th>\n",
       "      <th>building_type</th>\n",
       "      <th>user_id</th>\n",
       "      <th>project_type</th>\n",
       "      <th>date</th>\n",
       "    </tr>\n",
       "  </thead>\n",
       "  <tbody>\n",
       "    <tr>\n",
       "      <th>74890</th>\n",
       "      <td>2020-05-10 18:41:56</td>\n",
       "      <td>building</td>\n",
       "      <td>research_center</td>\n",
       "      <td>c9af55d2-b0ae-4bb4-b3d5-f32aa9ac03af</td>\n",
       "      <td>NaN</td>\n",
       "      <td>2020-05-10 18:41:56</td>\n",
       "    </tr>\n",
       "    <tr>\n",
       "      <th>74891</th>\n",
       "      <td>2020-05-10 18:41:56</td>\n",
       "      <td>building</td>\n",
       "      <td>research_center</td>\n",
       "      <td>c9af55d2-b0ae-4bb4-b3d5-f32aa9ac03af</td>\n",
       "      <td>NaN</td>\n",
       "      <td>2020-05-10 18:41:56</td>\n",
       "    </tr>\n",
       "  </tbody>\n",
       "</table>\n",
       "</div>"
      ],
      "text/plain": [
       "           event_datetime     event    building_type  \\\n",
       "74890 2020-05-10 18:41:56  building  research_center   \n",
       "74891 2020-05-10 18:41:56  building  research_center   \n",
       "\n",
       "                                    user_id project_type                date  \n",
       "74890  c9af55d2-b0ae-4bb4-b3d5-f32aa9ac03af          NaN 2020-05-10 18:41:56  \n",
       "74891  c9af55d2-b0ae-4bb4-b3d5-f32aa9ac03af          NaN 2020-05-10 18:41:56  "
      ]
     },
     "execution_count": 15,
     "metadata": {},
     "output_type": "execute_result"
    }
   ],
   "source": [
    "# в game actions есть дубликат. Выведем его\n",
    "game_actions[game_actions.duplicated(keep=False)]"
   ]
  },
  {
   "cell_type": "code",
   "execution_count": 16,
   "id": "029fdf01",
   "metadata": {},
   "outputs": [
    {
     "data": {
      "text/plain": [
       "0"
      ]
     },
     "metadata": {},
     "output_type": "display_data"
    }
   ],
   "source": [
    "# удалим дубликат\n",
    "game_actions=game_actions.drop_duplicates()\n",
    "display (game_actions.duplicated().sum())"
   ]
  },
  {
   "cell_type": "markdown",
   "id": "a60900c6",
   "metadata": {},
   "source": [
    "Неявные дубликаты в датасетах отсутствуют - мы убедились в этом ранее, выводя список уникальных значений текстовых столбцов"
   ]
  },
  {
   "cell_type": "markdown",
   "id": "b8a89fb6",
   "metadata": {},
   "source": [
    "### 2.3 Работа с пропусками"
   ]
  },
  {
   "cell_type": "code",
   "execution_count": 17,
   "id": "e9de5627",
   "metadata": {},
   "outputs": [
    {
     "name": "stdout",
     "output_type": "stream",
     "text": [
      "<class 'pandas.core.frame.DataFrame'>\n",
      "Int64Index: 135639 entries, 0 to 135639\n",
      "Data columns (total 6 columns):\n",
      " #   Column          Non-Null Count   Dtype         \n",
      "---  ------          --------------   -----         \n",
      " 0   event_datetime  135639 non-null  datetime64[ns]\n",
      " 1   event           135639 non-null  object        \n",
      " 2   building_type   127956 non-null  object        \n",
      " 3   user_id         135639 non-null  object        \n",
      " 4   project_type    1866 non-null    object        \n",
      " 5   date            135639 non-null  datetime64[ns]\n",
      "dtypes: datetime64[ns](2), object(4)\n",
      "memory usage: 7.2+ MB\n"
     ]
    },
    {
     "data": {
      "text/plain": [
       "None"
      ]
     },
     "metadata": {},
     "output_type": "display_data"
    }
   ],
   "source": [
    "display (game_actions.info())"
   ]
  },
  {
   "cell_type": "markdown",
   "id": "d1d47172",
   "metadata": {},
   "source": [
    "**Столбец `building_type`**"
   ]
  },
  {
   "cell_type": "code",
   "execution_count": 18,
   "id": "b46770b8",
   "metadata": {
    "scrolled": true
   },
   "outputs": [
    {
     "data": {
      "text/html": [
       "<div>\n",
       "<style scoped>\n",
       "    .dataframe tbody tr th:only-of-type {\n",
       "        vertical-align: middle;\n",
       "    }\n",
       "\n",
       "    .dataframe tbody tr th {\n",
       "        vertical-align: top;\n",
       "    }\n",
       "\n",
       "    .dataframe thead th {\n",
       "        text-align: right;\n",
       "    }\n",
       "</style>\n",
       "<table border=\"1\" class=\"dataframe\">\n",
       "  <thead>\n",
       "    <tr style=\"text-align: right;\">\n",
       "      <th></th>\n",
       "      <th>event_datetime</th>\n",
       "      <th>event</th>\n",
       "      <th>building_type</th>\n",
       "      <th>user_id</th>\n",
       "      <th>project_type</th>\n",
       "      <th>date</th>\n",
       "    </tr>\n",
       "  </thead>\n",
       "  <tbody>\n",
       "    <tr>\n",
       "      <th>6659</th>\n",
       "      <td>2020-05-04 19:47:29</td>\n",
       "      <td>finished_stage_1</td>\n",
       "      <td>NaN</td>\n",
       "      <td>ced7b368-818f-48f6-9461-2346de0892c5</td>\n",
       "      <td>NaN</td>\n",
       "      <td>2020-05-04 19:47:29</td>\n",
       "    </tr>\n",
       "    <tr>\n",
       "      <th>13134</th>\n",
       "      <td>2020-05-05 13:22:09</td>\n",
       "      <td>finished_stage_1</td>\n",
       "      <td>NaN</td>\n",
       "      <td>7ef7fc89-2779-46ea-b328-9e5035b83af5</td>\n",
       "      <td>NaN</td>\n",
       "      <td>2020-05-05 13:22:09</td>\n",
       "    </tr>\n",
       "    <tr>\n",
       "      <th>15274</th>\n",
       "      <td>2020-05-05 18:54:37</td>\n",
       "      <td>finished_stage_1</td>\n",
       "      <td>NaN</td>\n",
       "      <td>70db22b3-c2f4-43bc-94ea-51c8d2904a29</td>\n",
       "      <td>NaN</td>\n",
       "      <td>2020-05-05 18:54:37</td>\n",
       "    </tr>\n",
       "    <tr>\n",
       "      <th>16284</th>\n",
       "      <td>2020-05-05 21:27:29</td>\n",
       "      <td>finished_stage_1</td>\n",
       "      <td>NaN</td>\n",
       "      <td>903fc9ef-ba97-4b12-9d5c-ac8d602fbd8b</td>\n",
       "      <td>NaN</td>\n",
       "      <td>2020-05-05 21:27:29</td>\n",
       "    </tr>\n",
       "    <tr>\n",
       "      <th>19650</th>\n",
       "      <td>2020-05-06 06:02:22</td>\n",
       "      <td>finished_stage_1</td>\n",
       "      <td>NaN</td>\n",
       "      <td>58e077ba-feb1-4556-a5a0-d96bd04efa39</td>\n",
       "      <td>NaN</td>\n",
       "      <td>2020-05-06 06:02:22</td>\n",
       "    </tr>\n",
       "    <tr>\n",
       "      <th>...</th>\n",
       "      <td>...</td>\n",
       "      <td>...</td>\n",
       "      <td>...</td>\n",
       "      <td>...</td>\n",
       "      <td>...</td>\n",
       "      <td>...</td>\n",
       "    </tr>\n",
       "    <tr>\n",
       "      <th>135632</th>\n",
       "      <td>2020-06-04 15:50:38</td>\n",
       "      <td>finished_stage_1</td>\n",
       "      <td>NaN</td>\n",
       "      <td>22cce310-fe10-41a2-941b-9c3d63327fea</td>\n",
       "      <td>NaN</td>\n",
       "      <td>2020-06-04 15:50:38</td>\n",
       "    </tr>\n",
       "    <tr>\n",
       "      <th>135633</th>\n",
       "      <td>2020-06-04 17:56:14</td>\n",
       "      <td>finished_stage_1</td>\n",
       "      <td>NaN</td>\n",
       "      <td>d477dde8-7c22-4f23-9c4f-4ec31a1aa4c8</td>\n",
       "      <td>NaN</td>\n",
       "      <td>2020-06-04 17:56:14</td>\n",
       "    </tr>\n",
       "    <tr>\n",
       "      <th>135636</th>\n",
       "      <td>2020-06-05 02:25:12</td>\n",
       "      <td>finished_stage_1</td>\n",
       "      <td>NaN</td>\n",
       "      <td>515c1952-99aa-4bca-a7ea-d0449eb5385a</td>\n",
       "      <td>NaN</td>\n",
       "      <td>2020-06-05 02:25:12</td>\n",
       "    </tr>\n",
       "    <tr>\n",
       "      <th>135638</th>\n",
       "      <td>2020-06-05 12:12:27</td>\n",
       "      <td>finished_stage_1</td>\n",
       "      <td>NaN</td>\n",
       "      <td>32572adb-900f-4b5d-a453-1eb1e6d88d8b</td>\n",
       "      <td>NaN</td>\n",
       "      <td>2020-06-05 12:12:27</td>\n",
       "    </tr>\n",
       "    <tr>\n",
       "      <th>135639</th>\n",
       "      <td>2020-06-05 12:32:49</td>\n",
       "      <td>finished_stage_1</td>\n",
       "      <td>NaN</td>\n",
       "      <td>f21d179f-1c4b-437e-b9c6-ab1976907195</td>\n",
       "      <td>NaN</td>\n",
       "      <td>2020-06-05 12:32:49</td>\n",
       "    </tr>\n",
       "  </tbody>\n",
       "</table>\n",
       "<p>7683 rows × 6 columns</p>\n",
       "</div>"
      ],
      "text/plain": [
       "            event_datetime             event building_type  \\\n",
       "6659   2020-05-04 19:47:29  finished_stage_1           NaN   \n",
       "13134  2020-05-05 13:22:09  finished_stage_1           NaN   \n",
       "15274  2020-05-05 18:54:37  finished_stage_1           NaN   \n",
       "16284  2020-05-05 21:27:29  finished_stage_1           NaN   \n",
       "19650  2020-05-06 06:02:22  finished_stage_1           NaN   \n",
       "...                    ...               ...           ...   \n",
       "135632 2020-06-04 15:50:38  finished_stage_1           NaN   \n",
       "135633 2020-06-04 17:56:14  finished_stage_1           NaN   \n",
       "135636 2020-06-05 02:25:12  finished_stage_1           NaN   \n",
       "135638 2020-06-05 12:12:27  finished_stage_1           NaN   \n",
       "135639 2020-06-05 12:32:49  finished_stage_1           NaN   \n",
       "\n",
       "                                     user_id project_type                date  \n",
       "6659    ced7b368-818f-48f6-9461-2346de0892c5          NaN 2020-05-04 19:47:29  \n",
       "13134   7ef7fc89-2779-46ea-b328-9e5035b83af5          NaN 2020-05-05 13:22:09  \n",
       "15274   70db22b3-c2f4-43bc-94ea-51c8d2904a29          NaN 2020-05-05 18:54:37  \n",
       "16284   903fc9ef-ba97-4b12-9d5c-ac8d602fbd8b          NaN 2020-05-05 21:27:29  \n",
       "19650   58e077ba-feb1-4556-a5a0-d96bd04efa39          NaN 2020-05-06 06:02:22  \n",
       "...                                      ...          ...                 ...  \n",
       "135632  22cce310-fe10-41a2-941b-9c3d63327fea          NaN 2020-06-04 15:50:38  \n",
       "135633  d477dde8-7c22-4f23-9c4f-4ec31a1aa4c8          NaN 2020-06-04 17:56:14  \n",
       "135636  515c1952-99aa-4bca-a7ea-d0449eb5385a          NaN 2020-06-05 02:25:12  \n",
       "135638  32572adb-900f-4b5d-a453-1eb1e6d88d8b          NaN 2020-06-05 12:12:27  \n",
       "135639  f21d179f-1c4b-437e-b9c6-ab1976907195          NaN 2020-06-05 12:32:49  \n",
       "\n",
       "[7683 rows x 6 columns]"
      ]
     },
     "execution_count": 18,
     "metadata": {},
     "output_type": "execute_result"
    }
   ],
   "source": [
    "game_actions[game_actions['building_type'].isna()]"
   ]
  },
  {
   "cell_type": "markdown",
   "id": "c7a25ec7",
   "metadata": {},
   "source": [
    "Похоже, что пропуски в столбце \"building_type\" обусловлены логикой устройства и сбора данных: там, где событие \"finished_stage_1\", нет типа здания. Это логично.\\\n",
    "Проверим, не пропущен ли тип здания там, где событие - \"Building\"."
   ]
  },
  {
   "cell_type": "code",
   "execution_count": 19,
   "id": "12213003",
   "metadata": {
    "scrolled": true
   },
   "outputs": [
    {
     "data": {
      "text/html": [
       "<div>\n",
       "<style scoped>\n",
       "    .dataframe tbody tr th:only-of-type {\n",
       "        vertical-align: middle;\n",
       "    }\n",
       "\n",
       "    .dataframe tbody tr th {\n",
       "        vertical-align: top;\n",
       "    }\n",
       "\n",
       "    .dataframe thead th {\n",
       "        text-align: right;\n",
       "    }\n",
       "</style>\n",
       "<table border=\"1\" class=\"dataframe\">\n",
       "  <thead>\n",
       "    <tr style=\"text-align: right;\">\n",
       "      <th></th>\n",
       "      <th>event_datetime</th>\n",
       "      <th>event</th>\n",
       "      <th>building_type</th>\n",
       "      <th>user_id</th>\n",
       "      <th>project_type</th>\n",
       "      <th>date</th>\n",
       "    </tr>\n",
       "  </thead>\n",
       "  <tbody>\n",
       "  </tbody>\n",
       "</table>\n",
       "</div>"
      ],
      "text/plain": [
       "Empty DataFrame\n",
       "Columns: [event_datetime, event, building_type, user_id, project_type, date]\n",
       "Index: []"
      ]
     },
     "execution_count": 19,
     "metadata": {},
     "output_type": "execute_result"
    }
   ],
   "source": [
    "game_actions.query('event == \"building\" & building_type.isna()')"
   ]
  },
  {
   "cell_type": "markdown",
   "id": "82bc4a9a",
   "metadata": {},
   "source": [
    "**Столбец `project_type`**"
   ]
  },
  {
   "cell_type": "code",
   "execution_count": 20,
   "id": "dbb6dced",
   "metadata": {},
   "outputs": [
    {
     "data": {
      "text/html": [
       "<div>\n",
       "<style scoped>\n",
       "    .dataframe tbody tr th:only-of-type {\n",
       "        vertical-align: middle;\n",
       "    }\n",
       "\n",
       "    .dataframe tbody tr th {\n",
       "        vertical-align: top;\n",
       "    }\n",
       "\n",
       "    .dataframe thead th {\n",
       "        text-align: right;\n",
       "    }\n",
       "</style>\n",
       "<table border=\"1\" class=\"dataframe\">\n",
       "  <thead>\n",
       "    <tr style=\"text-align: right;\">\n",
       "      <th></th>\n",
       "      <th>event_datetime</th>\n",
       "      <th>event</th>\n",
       "      <th>building_type</th>\n",
       "      <th>user_id</th>\n",
       "      <th>project_type</th>\n",
       "      <th>date</th>\n",
       "    </tr>\n",
       "  </thead>\n",
       "  <tbody>\n",
       "    <tr>\n",
       "      <th>0</th>\n",
       "      <td>2020-05-04 00:00:01</td>\n",
       "      <td>building</td>\n",
       "      <td>assembly_shop</td>\n",
       "      <td>55e92310-cb8e-4754-b622-597e124b03de</td>\n",
       "      <td>NaN</td>\n",
       "      <td>2020-05-04 00:00:01</td>\n",
       "    </tr>\n",
       "    <tr>\n",
       "      <th>1</th>\n",
       "      <td>2020-05-04 00:00:03</td>\n",
       "      <td>building</td>\n",
       "      <td>assembly_shop</td>\n",
       "      <td>c07b1c10-f477-44dc-81dc-ec82254b1347</td>\n",
       "      <td>NaN</td>\n",
       "      <td>2020-05-04 00:00:03</td>\n",
       "    </tr>\n",
       "    <tr>\n",
       "      <th>2</th>\n",
       "      <td>2020-05-04 00:00:16</td>\n",
       "      <td>building</td>\n",
       "      <td>assembly_shop</td>\n",
       "      <td>6edd42cc-e753-4ff6-a947-2107cd560710</td>\n",
       "      <td>NaN</td>\n",
       "      <td>2020-05-04 00:00:16</td>\n",
       "    </tr>\n",
       "    <tr>\n",
       "      <th>3</th>\n",
       "      <td>2020-05-04 00:00:16</td>\n",
       "      <td>building</td>\n",
       "      <td>assembly_shop</td>\n",
       "      <td>92c69003-d60a-444a-827f-8cc51bf6bf4c</td>\n",
       "      <td>NaN</td>\n",
       "      <td>2020-05-04 00:00:16</td>\n",
       "    </tr>\n",
       "    <tr>\n",
       "      <th>4</th>\n",
       "      <td>2020-05-04 00:00:35</td>\n",
       "      <td>building</td>\n",
       "      <td>assembly_shop</td>\n",
       "      <td>cdc6bb92-0ccb-4490-9866-ef142f09139d</td>\n",
       "      <td>NaN</td>\n",
       "      <td>2020-05-04 00:00:35</td>\n",
       "    </tr>\n",
       "    <tr>\n",
       "      <th>...</th>\n",
       "      <td>...</td>\n",
       "      <td>...</td>\n",
       "      <td>...</td>\n",
       "      <td>...</td>\n",
       "      <td>...</td>\n",
       "      <td>...</td>\n",
       "    </tr>\n",
       "    <tr>\n",
       "      <th>135635</th>\n",
       "      <td>2020-06-05 00:08:06</td>\n",
       "      <td>building</td>\n",
       "      <td>research_center</td>\n",
       "      <td>f21d179f-1c4b-437e-b9c6-ab1976907195</td>\n",
       "      <td>NaN</td>\n",
       "      <td>2020-06-05 00:08:06</td>\n",
       "    </tr>\n",
       "    <tr>\n",
       "      <th>135636</th>\n",
       "      <td>2020-06-05 02:25:12</td>\n",
       "      <td>finished_stage_1</td>\n",
       "      <td>NaN</td>\n",
       "      <td>515c1952-99aa-4bca-a7ea-d0449eb5385a</td>\n",
       "      <td>NaN</td>\n",
       "      <td>2020-06-05 02:25:12</td>\n",
       "    </tr>\n",
       "    <tr>\n",
       "      <th>135637</th>\n",
       "      <td>2020-06-05 08:57:52</td>\n",
       "      <td>building</td>\n",
       "      <td>research_center</td>\n",
       "      <td>ed3e7d02-8a96-4be7-9998-e9813ff9c316</td>\n",
       "      <td>NaN</td>\n",
       "      <td>2020-06-05 08:57:52</td>\n",
       "    </tr>\n",
       "    <tr>\n",
       "      <th>135638</th>\n",
       "      <td>2020-06-05 12:12:27</td>\n",
       "      <td>finished_stage_1</td>\n",
       "      <td>NaN</td>\n",
       "      <td>32572adb-900f-4b5d-a453-1eb1e6d88d8b</td>\n",
       "      <td>NaN</td>\n",
       "      <td>2020-06-05 12:12:27</td>\n",
       "    </tr>\n",
       "    <tr>\n",
       "      <th>135639</th>\n",
       "      <td>2020-06-05 12:32:49</td>\n",
       "      <td>finished_stage_1</td>\n",
       "      <td>NaN</td>\n",
       "      <td>f21d179f-1c4b-437e-b9c6-ab1976907195</td>\n",
       "      <td>NaN</td>\n",
       "      <td>2020-06-05 12:32:49</td>\n",
       "    </tr>\n",
       "  </tbody>\n",
       "</table>\n",
       "<p>133773 rows × 6 columns</p>\n",
       "</div>"
      ],
      "text/plain": [
       "            event_datetime             event    building_type  \\\n",
       "0      2020-05-04 00:00:01          building    assembly_shop   \n",
       "1      2020-05-04 00:00:03          building    assembly_shop   \n",
       "2      2020-05-04 00:00:16          building    assembly_shop   \n",
       "3      2020-05-04 00:00:16          building    assembly_shop   \n",
       "4      2020-05-04 00:00:35          building    assembly_shop   \n",
       "...                    ...               ...              ...   \n",
       "135635 2020-06-05 00:08:06          building  research_center   \n",
       "135636 2020-06-05 02:25:12  finished_stage_1              NaN   \n",
       "135637 2020-06-05 08:57:52          building  research_center   \n",
       "135638 2020-06-05 12:12:27  finished_stage_1              NaN   \n",
       "135639 2020-06-05 12:32:49  finished_stage_1              NaN   \n",
       "\n",
       "                                     user_id project_type                date  \n",
       "0       55e92310-cb8e-4754-b622-597e124b03de          NaN 2020-05-04 00:00:01  \n",
       "1       c07b1c10-f477-44dc-81dc-ec82254b1347          NaN 2020-05-04 00:00:03  \n",
       "2       6edd42cc-e753-4ff6-a947-2107cd560710          NaN 2020-05-04 00:00:16  \n",
       "3       92c69003-d60a-444a-827f-8cc51bf6bf4c          NaN 2020-05-04 00:00:16  \n",
       "4       cdc6bb92-0ccb-4490-9866-ef142f09139d          NaN 2020-05-04 00:00:35  \n",
       "...                                      ...          ...                 ...  \n",
       "135635  f21d179f-1c4b-437e-b9c6-ab1976907195          NaN 2020-06-05 00:08:06  \n",
       "135636  515c1952-99aa-4bca-a7ea-d0449eb5385a          NaN 2020-06-05 02:25:12  \n",
       "135637  ed3e7d02-8a96-4be7-9998-e9813ff9c316          NaN 2020-06-05 08:57:52  \n",
       "135638  32572adb-900f-4b5d-a453-1eb1e6d88d8b          NaN 2020-06-05 12:12:27  \n",
       "135639  f21d179f-1c4b-437e-b9c6-ab1976907195          NaN 2020-06-05 12:32:49  \n",
       "\n",
       "[133773 rows x 6 columns]"
      ]
     },
     "execution_count": 20,
     "metadata": {},
     "output_type": "execute_result"
    }
   ],
   "source": [
    "game_actions[game_actions['project_type'].isna()]"
   ]
  },
  {
   "cell_type": "code",
   "execution_count": 21,
   "id": "2f0331ec",
   "metadata": {},
   "outputs": [
    {
     "data": {
      "text/html": [
       "<div>\n",
       "<style scoped>\n",
       "    .dataframe tbody tr th:only-of-type {\n",
       "        vertical-align: middle;\n",
       "    }\n",
       "\n",
       "    .dataframe tbody tr th {\n",
       "        vertical-align: top;\n",
       "    }\n",
       "\n",
       "    .dataframe thead th {\n",
       "        text-align: right;\n",
       "    }\n",
       "</style>\n",
       "<table border=\"1\" class=\"dataframe\">\n",
       "  <thead>\n",
       "    <tr style=\"text-align: right;\">\n",
       "      <th></th>\n",
       "      <th>event_datetime</th>\n",
       "      <th>event</th>\n",
       "      <th>building_type</th>\n",
       "      <th>user_id</th>\n",
       "      <th>project_type</th>\n",
       "      <th>date</th>\n",
       "    </tr>\n",
       "  </thead>\n",
       "  <tbody>\n",
       "  </tbody>\n",
       "</table>\n",
       "</div>"
      ],
      "text/plain": [
       "Empty DataFrame\n",
       "Columns: [event_datetime, event, building_type, user_id, project_type, date]\n",
       "Index: []"
      ]
     },
     "execution_count": 21,
     "metadata": {},
     "output_type": "execute_result"
    }
   ],
   "source": [
    "game_actions.query('project_type.isna() & event == \"project\"')"
   ]
  },
  {
   "cell_type": "markdown",
   "id": "a2ef13ca",
   "metadata": {},
   "source": [
    "В пропусках столбца \"project_type\" тоже прослеживается логика. Тип проекта не указан там, где событие не Project."
   ]
  },
  {
   "cell_type": "markdown",
   "id": "0b0add8c",
   "metadata": {},
   "source": [
    "### 2.4 Объединение таблиц, добавление столбцов"
   ]
  },
  {
   "cell_type": "markdown",
   "id": "e431a421",
   "metadata": {},
   "source": [
    "**Объединим таблицы `game_actions` и `user_source`**"
   ]
  },
  {
   "cell_type": "code",
   "execution_count": 22,
   "id": "a6132ff0",
   "metadata": {},
   "outputs": [],
   "source": [
    "game_actions=game_actions.merge(user_source, how = 'left', left_on='user_id', right_on='user_id')"
   ]
  },
  {
   "cell_type": "markdown",
   "id": "f5ada4b4",
   "metadata": {},
   "source": [
    "**Добавим столбец со способом прохождения уровня - `Strategy`**\n",
    "* Если у пользователя есть событие \"Finished stage 1\" и **отсутствует событие** \"Project\" - то `\"winner\"` (победа над врагом)\n",
    "* Если у пользователя есть событие \"Finished stage 1\" и **есть событие** \"Project\" - то `\"project\"` (через построение орбитальной станции)"
   ]
  },
  {
   "cell_type": "markdown",
   "id": "396f2502",
   "metadata": {},
   "source": [
    "Сначала сгруппируем датасет по игрокам, посчитав кол-во каждого событий"
   ]
  },
  {
   "cell_type": "code",
   "execution_count": 23,
   "id": "13ce9444",
   "metadata": {},
   "outputs": [
    {
     "data": {
      "text/html": [
       "<div>\n",
       "<style scoped>\n",
       "    .dataframe tbody tr th:only-of-type {\n",
       "        vertical-align: middle;\n",
       "    }\n",
       "\n",
       "    .dataframe tbody tr th {\n",
       "        vertical-align: top;\n",
       "    }\n",
       "\n",
       "    .dataframe thead th {\n",
       "        text-align: right;\n",
       "    }\n",
       "</style>\n",
       "<table border=\"1\" class=\"dataframe\">\n",
       "  <thead>\n",
       "    <tr style=\"text-align: right;\">\n",
       "      <th>event</th>\n",
       "      <th>user_id</th>\n",
       "      <th>building</th>\n",
       "      <th>finished_stage_1</th>\n",
       "      <th>project</th>\n",
       "    </tr>\n",
       "  </thead>\n",
       "  <tbody>\n",
       "    <tr>\n",
       "      <th>0</th>\n",
       "      <td>0001f83c-c6ac-4621-b7f0-8a28b283ac30</td>\n",
       "      <td>13.0</td>\n",
       "      <td>NaN</td>\n",
       "      <td>NaN</td>\n",
       "    </tr>\n",
       "    <tr>\n",
       "      <th>1</th>\n",
       "      <td>00151b4f-ba38-44a8-a650-d7cf130a0105</td>\n",
       "      <td>9.0</td>\n",
       "      <td>NaN</td>\n",
       "      <td>NaN</td>\n",
       "    </tr>\n",
       "    <tr>\n",
       "      <th>2</th>\n",
       "      <td>001aaea6-3d14-43f1-8ca8-7f48820f17aa</td>\n",
       "      <td>4.0</td>\n",
       "      <td>NaN</td>\n",
       "      <td>NaN</td>\n",
       "    </tr>\n",
       "    <tr>\n",
       "      <th>3</th>\n",
       "      <td>001d39dc-366c-4021-9604-6a3b9ff01e25</td>\n",
       "      <td>8.0</td>\n",
       "      <td>1.0</td>\n",
       "      <td>NaN</td>\n",
       "    </tr>\n",
       "    <tr>\n",
       "      <th>4</th>\n",
       "      <td>002f508f-67b6-479f-814b-b05f00d4e995</td>\n",
       "      <td>12.0</td>\n",
       "      <td>NaN</td>\n",
       "      <td>NaN</td>\n",
       "    </tr>\n",
       "    <tr>\n",
       "      <th>...</th>\n",
       "      <td>...</td>\n",
       "      <td>...</td>\n",
       "      <td>...</td>\n",
       "      <td>...</td>\n",
       "    </tr>\n",
       "    <tr>\n",
       "      <th>13571</th>\n",
       "      <td>ffef4fed-164c-40e1-bde1-3980f76d0fb5</td>\n",
       "      <td>9.0</td>\n",
       "      <td>1.0</td>\n",
       "      <td>NaN</td>\n",
       "    </tr>\n",
       "    <tr>\n",
       "      <th>13572</th>\n",
       "      <td>fffab3da-da0e-4e30-ae62-10d0a2e24a4e</td>\n",
       "      <td>16.0</td>\n",
       "      <td>NaN</td>\n",
       "      <td>NaN</td>\n",
       "    </tr>\n",
       "    <tr>\n",
       "      <th>13573</th>\n",
       "      <td>fffb626c-5ab6-47c9-8113-2062a2f18494</td>\n",
       "      <td>9.0</td>\n",
       "      <td>1.0</td>\n",
       "      <td>NaN</td>\n",
       "    </tr>\n",
       "    <tr>\n",
       "      <th>13574</th>\n",
       "      <td>ffff194a-56b7-4c12-860d-3485242ae7f5</td>\n",
       "      <td>7.0</td>\n",
       "      <td>NaN</td>\n",
       "      <td>NaN</td>\n",
       "    </tr>\n",
       "    <tr>\n",
       "      <th>13575</th>\n",
       "      <td>ffff69cc-fec1-4fd3-9f98-93be1112a6b8</td>\n",
       "      <td>12.0</td>\n",
       "      <td>1.0</td>\n",
       "      <td>1.0</td>\n",
       "    </tr>\n",
       "  </tbody>\n",
       "</table>\n",
       "<p>13576 rows × 4 columns</p>\n",
       "</div>"
      ],
      "text/plain": [
       "event                               user_id  building  finished_stage_1  \\\n",
       "0      0001f83c-c6ac-4621-b7f0-8a28b283ac30      13.0               NaN   \n",
       "1      00151b4f-ba38-44a8-a650-d7cf130a0105       9.0               NaN   \n",
       "2      001aaea6-3d14-43f1-8ca8-7f48820f17aa       4.0               NaN   \n",
       "3      001d39dc-366c-4021-9604-6a3b9ff01e25       8.0               1.0   \n",
       "4      002f508f-67b6-479f-814b-b05f00d4e995      12.0               NaN   \n",
       "...                                     ...       ...               ...   \n",
       "13571  ffef4fed-164c-40e1-bde1-3980f76d0fb5       9.0               1.0   \n",
       "13572  fffab3da-da0e-4e30-ae62-10d0a2e24a4e      16.0               NaN   \n",
       "13573  fffb626c-5ab6-47c9-8113-2062a2f18494       9.0               1.0   \n",
       "13574  ffff194a-56b7-4c12-860d-3485242ae7f5       7.0               NaN   \n",
       "13575  ffff69cc-fec1-4fd3-9f98-93be1112a6b8      12.0               1.0   \n",
       "\n",
       "event  project  \n",
       "0          NaN  \n",
       "1          NaN  \n",
       "2          NaN  \n",
       "3          NaN  \n",
       "4          NaN  \n",
       "...        ...  \n",
       "13571      NaN  \n",
       "13572      NaN  \n",
       "13573      NaN  \n",
       "13574      NaN  \n",
       "13575      1.0  \n",
       "\n",
       "[13576 rows x 4 columns]"
      ]
     },
     "execution_count": 23,
     "metadata": {},
     "output_type": "execute_result"
    }
   ],
   "source": [
    "events_by_users=game_actions.pivot_table(index='user_id', columns='event',values='date', aggfunc='count').reset_index()\n",
    "events_by_users"
   ]
  },
  {
   "cell_type": "markdown",
   "id": "816418b7",
   "metadata": {},
   "source": [
    "Добавим столбец *Strategy*\n",
    "\n",
    "Напишем функцию, которая, которая заполнит столбец *Strategy* в соответствии с логикой, описанной выше"
   ]
  },
  {
   "cell_type": "code",
   "execution_count": 24,
   "id": "1fbdd2c1",
   "metadata": {},
   "outputs": [],
   "source": [
    "def strategy_type (row):\n",
    "    if (row['finished_stage_1'] == 1) & (row['project'] == 1):\n",
    "        return 'project'\n",
    "    if (row['finished_stage_1'] == 1) & (row['project'] != 1):\n",
    "        return 'winner'\n",
    "    if (row['finished_stage_1'] != 1) & (row['project'] == 1):\n",
    "        return 'project but not finished'\n",
    "events_by_users['strategy'] = events_by_users.apply (strategy_type, axis=1)"
   ]
  },
  {
   "cell_type": "markdown",
   "id": "e1b59c7d",
   "metadata": {},
   "source": [
    "Проверим, есть ли такие юзеры, которые реализуют проект, но не нажимают на кнопку \"Завершить уровень\""
   ]
  },
  {
   "cell_type": "code",
   "execution_count": 26,
   "id": "563207dd",
   "metadata": {
    "scrolled": true
   },
   "outputs": [
    {
     "data": {
      "text/html": [
       "<div>\n",
       "<style scoped>\n",
       "    .dataframe tbody tr th:only-of-type {\n",
       "        vertical-align: middle;\n",
       "    }\n",
       "\n",
       "    .dataframe tbody tr th {\n",
       "        vertical-align: top;\n",
       "    }\n",
       "\n",
       "    .dataframe thead th {\n",
       "        text-align: right;\n",
       "    }\n",
       "</style>\n",
       "<table border=\"1\" class=\"dataframe\">\n",
       "  <thead>\n",
       "    <tr style=\"text-align: right;\">\n",
       "      <th>event</th>\n",
       "      <th>user_id</th>\n",
       "      <th>building</th>\n",
       "      <th>finished_stage_1</th>\n",
       "      <th>project</th>\n",
       "      <th>strategy</th>\n",
       "    </tr>\n",
       "  </thead>\n",
       "  <tbody>\n",
       "  </tbody>\n",
       "</table>\n",
       "</div>"
      ],
      "text/plain": [
       "Empty DataFrame\n",
       "Columns: [user_id, building, finished_stage_1, project, strategy]\n",
       "Index: []"
      ]
     },
     "execution_count": 26,
     "metadata": {},
     "output_type": "execute_result"
    }
   ],
   "source": [
    "events_by_users[events_by_users['strategy']=='project but not finished']"
   ]
  },
  {
   "cell_type": "markdown",
   "id": "78b63365",
   "metadata": {},
   "source": [
    "Таких юзеров нет. Все, кто реализует проект, завершают уровень"
   ]
  },
  {
   "cell_type": "markdown",
   "id": "a098dcfc",
   "metadata": {},
   "source": [
    "Присоединим в датасету `game_actions` столбец со стратегией игроков"
   ]
  },
  {
   "cell_type": "code",
   "execution_count": 27,
   "id": "8e87efa1",
   "metadata": {},
   "outputs": [],
   "source": [
    "game_actions=game_actions.merge(events_by_users, how = 'left', left_on='user_id', right_on='user_id')"
   ]
  },
  {
   "cell_type": "markdown",
   "id": "69133a7c",
   "metadata": {},
   "source": [
    "**Столбец с временем прохождения уровня - `middle_time`**"
   ]
  },
  {
   "cell_type": "markdown",
   "id": "a379120f",
   "metadata": {},
   "source": [
    "## 3 Исследовательский анализ данных"
   ]
  },
  {
   "cell_type": "markdown",
   "id": "47b2ccef",
   "metadata": {},
   "source": [
    "### 3.1 Узнаем, как распределен трафик по источникам"
   ]
  },
  {
   "cell_type": "markdown",
   "id": "62142784",
   "metadata": {},
   "source": [
    "Построим агрегированную таблицу с кол-вом привлеченных юзеров из каждого источника"
   ]
  },
  {
   "cell_type": "code",
   "execution_count": 29,
   "id": "7bf83621",
   "metadata": {},
   "outputs": [
    {
     "data": {
      "text/html": [
       "<div>\n",
       "<style scoped>\n",
       "    .dataframe tbody tr th:only-of-type {\n",
       "        vertical-align: middle;\n",
       "    }\n",
       "\n",
       "    .dataframe tbody tr th {\n",
       "        vertical-align: top;\n",
       "    }\n",
       "\n",
       "    .dataframe thead th {\n",
       "        text-align: right;\n",
       "    }\n",
       "</style>\n",
       "<table border=\"1\" class=\"dataframe\">\n",
       "  <thead>\n",
       "    <tr style=\"text-align: right;\">\n",
       "      <th></th>\n",
       "      <th>source</th>\n",
       "      <th>users</th>\n",
       "      <th>ratio</th>\n",
       "    </tr>\n",
       "  </thead>\n",
       "  <tbody>\n",
       "    <tr>\n",
       "      <th>2</th>\n",
       "      <td>yandex_direct</td>\n",
       "      <td>4817</td>\n",
       "      <td>35.0</td>\n",
       "    </tr>\n",
       "    <tr>\n",
       "      <th>1</th>\n",
       "      <td>instagram_new_adverts</td>\n",
       "      <td>3347</td>\n",
       "      <td>25.0</td>\n",
       "    </tr>\n",
       "    <tr>\n",
       "      <th>0</th>\n",
       "      <td>facebook_ads</td>\n",
       "      <td>2726</td>\n",
       "      <td>20.0</td>\n",
       "    </tr>\n",
       "    <tr>\n",
       "      <th>3</th>\n",
       "      <td>youtube_channel_reklama</td>\n",
       "      <td>2686</td>\n",
       "      <td>20.0</td>\n",
       "    </tr>\n",
       "  </tbody>\n",
       "</table>\n",
       "</div>"
      ],
      "text/plain": [
       "                    source  users  ratio\n",
       "2            yandex_direct   4817   35.0\n",
       "1    instagram_new_adverts   3347   25.0\n",
       "0             facebook_ads   2726   20.0\n",
       "3  youtube_channel_reklama   2686   20.0"
      ]
     },
     "execution_count": 29,
     "metadata": {},
     "output_type": "execute_result"
    }
   ],
   "source": [
    "# сгруппируем данные по источникам и посчитаем кол-во привлеченных пользователей в каждом\n",
    "users_by_source=game_actions.groupby('source', as_index=False).agg(users=('user_id', 'nunique'))\n",
    "\n",
    "# добавим столбец с %, который занимает каждый исчтоник\n",
    "users_by_source['ratio'] = (users_by_source['users'] / users_by_source['users'].sum()*100).round()\n",
    "\n",
    "# отсортируем данные по кол-ву юзеров по убыванию\n",
    "users_by_source = users_by_source.sort_values(by='users', ascending=False)\n",
    "\n",
    "users_by_source"
   ]
  },
  {
   "cell_type": "markdown",
   "id": "875a7656",
   "metadata": {},
   "source": [
    "Визуализируем таблицу"
   ]
  },
  {
   "cell_type": "code",
   "execution_count": 30,
   "id": "f6d35bbb",
   "metadata": {
    "scrolled": true
   },
   "outputs": [
    {
     "data": {
      "image/png": "[encoded data removed]",
      "text/plain": [
       "<Figure size 500x400 with 1 Axes>"
      ]
     },
     "metadata": {},
     "output_type": "display_data"
    }
   ],
   "source": [
    "font = {'family': 'sans-serif',\n",
    "        'color':  'black',\n",
    "        'weight': 'normal',\n",
    "        'size': 11}\n",
    "\n",
    "plt.figure(figsize=(5,4))\n",
    "\n",
    "# построим график, отобразим %, установим цвет, вынесем из \"круга\" долю самой большой категории\n",
    "ax=plt.pie(x='users', data=users_by_source,  autopct = '%.1f%%',\\\n",
    "           colors=sns.color_palette('Set2'), explode=[0.12, 0, 0, 0])\n",
    "plt.title('Кол-во привлеченных пользователей по рекламным источникам', fontdict=font)\n",
    "\n",
    "# добавим легенду, укажем расположение на графике и размер\n",
    "plt.legend(labels=users_by_source['source'], loc='right', bbox_to_anchor=(1.3, 0, 0.3, 1),fontsize=8)\n",
    "\n",
    "plt.show()"
   ]
  },
  {
   "cell_type": "markdown",
   "id": "daadc856",
   "metadata": {},
   "source": [
    "**Вывод**\\\n",
    "Больше всего пользователей приходит из Яндекс Директ, далее - Инстаграм, меньше всего - Фейсбук и Ютуб."
   ]
  },
  {
   "cell_type": "markdown",
   "id": "79e1fb10",
   "metadata": {},
   "source": [
    "### 3.2 Определим каналы, из которых приходят наиболее вовлеченные пользователи (доля пользователей, завершивших Уровень 1)"
   ]
  },
  {
   "cell_type": "markdown",
   "id": "266318bc",
   "metadata": {},
   "source": [
    "Посчитаем кол-во пользователей, **не завершивших** 1й уровень по источникам"
   ]
  },
  {
   "cell_type": "code",
   "execution_count": 31,
   "id": "bb3ca35a",
   "metadata": {
    "scrolled": true
   },
   "outputs": [
    {
     "data": {
      "text/html": [
       "<div>\n",
       "<style scoped>\n",
       "    .dataframe tbody tr th:only-of-type {\n",
       "        vertical-align: middle;\n",
       "    }\n",
       "\n",
       "    .dataframe tbody tr th {\n",
       "        vertical-align: top;\n",
       "    }\n",
       "\n",
       "    .dataframe thead th {\n",
       "        text-align: right;\n",
       "    }\n",
       "</style>\n",
       "<table border=\"1\" class=\"dataframe\">\n",
       "  <thead>\n",
       "    <tr style=\"text-align: right;\">\n",
       "      <th></th>\n",
       "      <th>source</th>\n",
       "      <th>user_id</th>\n",
       "    </tr>\n",
       "  </thead>\n",
       "  <tbody>\n",
       "    <tr>\n",
       "      <th>0</th>\n",
       "      <td>yandex_direct</td>\n",
       "      <td>2775</td>\n",
       "    </tr>\n",
       "    <tr>\n",
       "      <th>1</th>\n",
       "      <td>instagram_new_adverts</td>\n",
       "      <td>1881</td>\n",
       "    </tr>\n",
       "    <tr>\n",
       "      <th>2</th>\n",
       "      <td>facebook_ads</td>\n",
       "      <td>1576</td>\n",
       "    </tr>\n",
       "    <tr>\n",
       "      <th>3</th>\n",
       "      <td>youtube_channel_reklama</td>\n",
       "      <td>1527</td>\n",
       "    </tr>\n",
       "  </tbody>\n",
       "</table>\n",
       "</div>"
      ],
      "text/plain": [
       "                    source  user_id\n",
       "0            yandex_direct     2775\n",
       "1    instagram_new_adverts     1881\n",
       "2             facebook_ads     1576\n",
       "3  youtube_channel_reklama     1527"
      ]
     },
     "execution_count": 31,
     "metadata": {},
     "output_type": "execute_result"
    }
   ],
   "source": [
    "not_finished_users=game_actions.query('strategy.isna()').groupby(['source'])[['user_id']].nunique()\\\n",
    "                .sort_values(by='user_id', ascending=False).reset_index()\n",
    "not_finished_users"
   ]
  },
  {
   "cell_type": "markdown",
   "id": "0d9868e7",
   "metadata": {},
   "source": [
    "Посчитаем кол-во пользователей, **завершивших** 1й уровень по источникам"
   ]
  },
  {
   "cell_type": "code",
   "execution_count": 32,
   "id": "61d7a040",
   "metadata": {},
   "outputs": [
    {
     "data": {
      "text/html": [
       "<div>\n",
       "<style scoped>\n",
       "    .dataframe tbody tr th:only-of-type {\n",
       "        vertical-align: middle;\n",
       "    }\n",
       "\n",
       "    .dataframe tbody tr th {\n",
       "        vertical-align: top;\n",
       "    }\n",
       "\n",
       "    .dataframe thead th {\n",
       "        text-align: right;\n",
       "    }\n",
       "</style>\n",
       "<table border=\"1\" class=\"dataframe\">\n",
       "  <thead>\n",
       "    <tr style=\"text-align: right;\">\n",
       "      <th></th>\n",
       "      <th>source</th>\n",
       "      <th>user_id</th>\n",
       "    </tr>\n",
       "  </thead>\n",
       "  <tbody>\n",
       "    <tr>\n",
       "      <th>0</th>\n",
       "      <td>yandex_direct</td>\n",
       "      <td>2042</td>\n",
       "    </tr>\n",
       "    <tr>\n",
       "      <th>1</th>\n",
       "      <td>instagram_new_adverts</td>\n",
       "      <td>1466</td>\n",
       "    </tr>\n",
       "    <tr>\n",
       "      <th>2</th>\n",
       "      <td>youtube_channel_reklama</td>\n",
       "      <td>1159</td>\n",
       "    </tr>\n",
       "    <tr>\n",
       "      <th>3</th>\n",
       "      <td>facebook_ads</td>\n",
       "      <td>1150</td>\n",
       "    </tr>\n",
       "  </tbody>\n",
       "</table>\n",
       "</div>"
      ],
      "text/plain": [
       "                    source  user_id\n",
       "0            yandex_direct     2042\n",
       "1    instagram_new_adverts     1466\n",
       "2  youtube_channel_reklama     1159\n",
       "3             facebook_ads     1150"
      ]
     },
     "execution_count": 32,
     "metadata": {},
     "output_type": "execute_result"
    }
   ],
   "source": [
    "finished_users=game_actions.query('strategy.notna()').groupby(['source'])[['user_id']].nunique()\\\n",
    "                .sort_values(by='user_id', ascending=False).reset_index()\n",
    "finished_users"
   ]
  },
  {
   "cell_type": "markdown",
   "id": "0ef7afd3",
   "metadata": {},
   "source": [
    "Соединим таблицы"
   ]
  },
  {
   "cell_type": "code",
   "execution_count": 33,
   "id": "0e6c274d",
   "metadata": {},
   "outputs": [
    {
     "data": {
      "text/html": [
       "<div>\n",
       "<style scoped>\n",
       "    .dataframe tbody tr th:only-of-type {\n",
       "        vertical-align: middle;\n",
       "    }\n",
       "\n",
       "    .dataframe tbody tr th {\n",
       "        vertical-align: top;\n",
       "    }\n",
       "\n",
       "    .dataframe thead th {\n",
       "        text-align: right;\n",
       "    }\n",
       "</style>\n",
       "<table border=\"1\" class=\"dataframe\">\n",
       "  <thead>\n",
       "    <tr style=\"text-align: right;\">\n",
       "      <th></th>\n",
       "      <th>завершили уровень</th>\n",
       "      <th>не завершили уровень</th>\n",
       "    </tr>\n",
       "    <tr>\n",
       "      <th>source</th>\n",
       "      <th></th>\n",
       "      <th></th>\n",
       "    </tr>\n",
       "  </thead>\n",
       "  <tbody>\n",
       "    <tr>\n",
       "      <th>yandex_direct</th>\n",
       "      <td>2042</td>\n",
       "      <td>2775</td>\n",
       "    </tr>\n",
       "    <tr>\n",
       "      <th>instagram_new_adverts</th>\n",
       "      <td>1466</td>\n",
       "      <td>1881</td>\n",
       "    </tr>\n",
       "    <tr>\n",
       "      <th>youtube_channel_reklama</th>\n",
       "      <td>1159</td>\n",
       "      <td>1527</td>\n",
       "    </tr>\n",
       "    <tr>\n",
       "      <th>facebook_ads</th>\n",
       "      <td>1150</td>\n",
       "      <td>1576</td>\n",
       "    </tr>\n",
       "  </tbody>\n",
       "</table>\n",
       "</div>"
      ],
      "text/plain": [
       "                         завершили уровень  не завершили уровень\n",
       "source                                                          \n",
       "yandex_direct                         2042                  2775\n",
       "instagram_new_adverts                 1466                  1881\n",
       "youtube_channel_reklama               1159                  1527\n",
       "facebook_ads                          1150                  1576"
      ]
     },
     "execution_count": 33,
     "metadata": {},
     "output_type": "execute_result"
    }
   ],
   "source": [
    "finished_not_users=finished_users.merge(not_finished_users, on='source')\n",
    "finished_not_users=finished_not_users.set_index('source')\n",
    "finished_not_users.columns=['завершили уровень', 'не завершили уровень']\n",
    "finished_not_users"
   ]
  },
  {
   "cell_type": "markdown",
   "id": "1e2dc791",
   "metadata": {},
   "source": [
    "Визуализируем соотношение"
   ]
  },
  {
   "cell_type": "code",
   "execution_count": 34,
   "id": "b6162e4e",
   "metadata": {
    "scrolled": true
   },
   "outputs": [
    {
     "data": {
      "image/png": "[encoded data removed]",
      "text/plain": [
       "<Figure size 700x300 with 1 Axes>"
      ]
     },
     "metadata": {},
     "output_type": "display_data"
    }
   ],
   "source": [
    "font = {'family': 'sans-serif',\n",
    "        'color':  'black',\n",
    "        'weight': 'normal',\n",
    "        'size': 11}\n",
    "\n",
    "ax=finished_not_users.plot(kind='bar', stacked= True, figsize=(7,3))\n",
    "\n",
    "plt.title('Кол-во пользователей, завершивших и не завершивших Уровень 1', fontdict=font)\n",
    "\n",
    "plt.xlabel('Источник', fontsize=8)\n",
    "plt.ylabel('Кол-во пользователей', fontsize=8)\n",
    "plt.xticks(rotation=45)\n",
    "plt.xticks(fontsize=8)\n",
    "plt.legend(loc='upper right', bbox_to_anchor=(1.2, 0, 0.3, 1),fontsize=10)\n",
    "for bars in ax.containers:\n",
    "    ax.bar_label(bars, label_type='center', fontsize=8, color='white')\n",
    "sns.despine()\n",
    "plt.show()"
   ]
  },
  {
   "cell_type": "markdown",
   "id": "c046e361",
   "metadata": {},
   "source": [
    "Визуализируем соотношение в %"
   ]
  },
  {
   "cell_type": "code",
   "execution_count": 35,
   "id": "a646ebae",
   "metadata": {},
   "outputs": [
    {
     "data": {
      "text/html": [
       "<div>\n",
       "<style scoped>\n",
       "    .dataframe tbody tr th:only-of-type {\n",
       "        vertical-align: middle;\n",
       "    }\n",
       "\n",
       "    .dataframe tbody tr th {\n",
       "        vertical-align: top;\n",
       "    }\n",
       "\n",
       "    .dataframe thead th {\n",
       "        text-align: right;\n",
       "    }\n",
       "</style>\n",
       "<table border=\"1\" class=\"dataframe\">\n",
       "  <thead>\n",
       "    <tr style=\"text-align: right;\">\n",
       "      <th></th>\n",
       "      <th>завершили уровень, %</th>\n",
       "      <th>не завершили уровень, %</th>\n",
       "    </tr>\n",
       "    <tr>\n",
       "      <th>source</th>\n",
       "      <th></th>\n",
       "      <th></th>\n",
       "    </tr>\n",
       "  </thead>\n",
       "  <tbody>\n",
       "    <tr>\n",
       "      <th>yandex_direct</th>\n",
       "      <td>42.39</td>\n",
       "      <td>57.61</td>\n",
       "    </tr>\n",
       "    <tr>\n",
       "      <th>instagram_new_adverts</th>\n",
       "      <td>43.80</td>\n",
       "      <td>56.20</td>\n",
       "    </tr>\n",
       "    <tr>\n",
       "      <th>youtube_channel_reklama</th>\n",
       "      <td>43.15</td>\n",
       "      <td>56.85</td>\n",
       "    </tr>\n",
       "    <tr>\n",
       "      <th>facebook_ads</th>\n",
       "      <td>42.19</td>\n",
       "      <td>57.81</td>\n",
       "    </tr>\n",
       "  </tbody>\n",
       "</table>\n",
       "</div>"
      ],
      "text/plain": [
       "                         завершили уровень, %  не завершили уровень, %\n",
       "source                                                                \n",
       "yandex_direct                           42.39                    57.61\n",
       "instagram_new_adverts                   43.80                    56.20\n",
       "youtube_channel_reklama                 43.15                    56.85\n",
       "facebook_ads                            42.19                    57.81"
      ]
     },
     "execution_count": 35,
     "metadata": {},
     "output_type": "execute_result"
    }
   ],
   "source": [
    "finished_not_users_ratio=finished_not_users.merge(users_by_source, on='source')\n",
    "finished_not_users_ratio\n",
    "finished_not_users_ratio['завершили уровень, %']=(finished_not_users_ratio['завершили уровень']/finished_not_users_ratio['users']*100).round(2)\n",
    "finished_not_users_ratio['не завершили уровень, %']=(finished_not_users_ratio['не завершили уровень']/finished_not_users_ratio['users']*100).round(2)\n",
    "finished_not_users_ratio=finished_not_users_ratio.drop(['завершили уровень', 'не завершили уровень', 'users', 'ratio'], axis=1) \n",
    "finished_not_users_ratio=finished_not_users_ratio.set_index('source')\n",
    "finished_not_users_ratio"
   ]
  },
  {
   "cell_type": "code",
   "execution_count": 36,
   "id": "6d1250ba",
   "metadata": {
    "scrolled": true
   },
   "outputs": [
    {
     "data": {
      "image/png": "[encoded data removed]",
      "text/plain": [
       "<Figure size 700x300 with 1 Axes>"
      ]
     },
     "metadata": {},
     "output_type": "display_data"
    }
   ],
   "source": [
    "font = {'family': 'sans-serif',\n",
    "        'color':  'black',\n",
    "        'weight': 'normal',\n",
    "        'size': 11}\n",
    "\n",
    "ax=finished_not_users_ratio.plot(kind='bar', stacked= True, figsize=(7,3))\n",
    "\n",
    "plt.title('Кол-во пользователей, завершивших и не завершивших Уровень 1 в %', fontdict=font)\n",
    "\n",
    "plt.xlabel('Источник', fontsize=8)\n",
    "plt.ylabel('% пользователей', fontsize=8)\n",
    "plt.xticks(rotation=45)\n",
    "plt.xticks(fontsize=8)\n",
    "plt.legend(loc='upper right', bbox_to_anchor=(1.2, 0, 0.3, 1),fontsize=10)\n",
    "for bars in ax.containers:\n",
    "    ax.bar_label(bars, label_type='center', fontsize=8, color='white')\n",
    "sns.despine()\n",
    "plt.show()"
   ]
  },
  {
   "cell_type": "markdown",
   "id": "91f220c1",
   "metadata": {},
   "source": [
    "**Вывод**\\\n",
    "Завершает уровень в среднем 43% пользователей, это касается всех каналов. Доля завершивших/не завершившых распределена примерно одинаково в каждом из источников."
   ]
  },
  {
   "cell_type": "markdown",
   "id": "84c70fb4",
   "metadata": {},
   "source": [
    "### 3.3 Внутри каждого канала определим соотношение стратегий: кол-во пользователей, завершающих уровень через победу над врагом vs Реализацию проекта"
   ]
  },
  {
   "cell_type": "markdown",
   "id": "62f49a5e",
   "metadata": {},
   "source": [
    "Посчитаем кол-во пользователей, завершивших уровень через `Победу над врагом`"
   ]
  },
  {
   "cell_type": "code",
   "execution_count": 37,
   "id": "78490ba0",
   "metadata": {
    "scrolled": true
   },
   "outputs": [
    {
     "data": {
      "text/html": [
       "<div>\n",
       "<style scoped>\n",
       "    .dataframe tbody tr th:only-of-type {\n",
       "        vertical-align: middle;\n",
       "    }\n",
       "\n",
       "    .dataframe tbody tr th {\n",
       "        vertical-align: top;\n",
       "    }\n",
       "\n",
       "    .dataframe thead th {\n",
       "        text-align: right;\n",
       "    }\n",
       "</style>\n",
       "<table border=\"1\" class=\"dataframe\">\n",
       "  <thead>\n",
       "    <tr style=\"text-align: right;\">\n",
       "      <th></th>\n",
       "      <th>source</th>\n",
       "      <th>user_id</th>\n",
       "    </tr>\n",
       "  </thead>\n",
       "  <tbody>\n",
       "    <tr>\n",
       "      <th>0</th>\n",
       "      <td>yandex_direct</td>\n",
       "      <td>1422</td>\n",
       "    </tr>\n",
       "    <tr>\n",
       "      <th>1</th>\n",
       "      <td>instagram_new_adverts</td>\n",
       "      <td>990</td>\n",
       "    </tr>\n",
       "    <tr>\n",
       "      <th>2</th>\n",
       "      <td>youtube_channel_reklama</td>\n",
       "      <td>780</td>\n",
       "    </tr>\n",
       "    <tr>\n",
       "      <th>3</th>\n",
       "      <td>facebook_ads</td>\n",
       "      <td>759</td>\n",
       "    </tr>\n",
       "  </tbody>\n",
       "</table>\n",
       "</div>"
      ],
      "text/plain": [
       "                    source  user_id\n",
       "0            yandex_direct     1422\n",
       "1    instagram_new_adverts      990\n",
       "2  youtube_channel_reklama      780\n",
       "3             facebook_ads      759"
      ]
     },
     "execution_count": 37,
     "metadata": {},
     "output_type": "execute_result"
    }
   ],
   "source": [
    "winners=game_actions.query('strategy == \"winner\"').groupby(['source'])[['user_id']].nunique()\\\n",
    "                .sort_values(by='user_id', ascending=False).reset_index()\n",
    "winners"
   ]
  },
  {
   "cell_type": "markdown",
   "id": "70d2e7b5",
   "metadata": {},
   "source": [
    "Посчитаем кол-во пользователей, завершивших уровень через `Реализацию проекта`"
   ]
  },
  {
   "cell_type": "code",
   "execution_count": 38,
   "id": "c2dda195",
   "metadata": {},
   "outputs": [
    {
     "data": {
      "text/html": [
       "<div>\n",
       "<style scoped>\n",
       "    .dataframe tbody tr th:only-of-type {\n",
       "        vertical-align: middle;\n",
       "    }\n",
       "\n",
       "    .dataframe tbody tr th {\n",
       "        vertical-align: top;\n",
       "    }\n",
       "\n",
       "    .dataframe thead th {\n",
       "        text-align: right;\n",
       "    }\n",
       "</style>\n",
       "<table border=\"1\" class=\"dataframe\">\n",
       "  <thead>\n",
       "    <tr style=\"text-align: right;\">\n",
       "      <th></th>\n",
       "      <th>source</th>\n",
       "      <th>user_id</th>\n",
       "    </tr>\n",
       "  </thead>\n",
       "  <tbody>\n",
       "    <tr>\n",
       "      <th>0</th>\n",
       "      <td>yandex_direct</td>\n",
       "      <td>620</td>\n",
       "    </tr>\n",
       "    <tr>\n",
       "      <th>1</th>\n",
       "      <td>instagram_new_adverts</td>\n",
       "      <td>476</td>\n",
       "    </tr>\n",
       "    <tr>\n",
       "      <th>2</th>\n",
       "      <td>facebook_ads</td>\n",
       "      <td>391</td>\n",
       "    </tr>\n",
       "    <tr>\n",
       "      <th>3</th>\n",
       "      <td>youtube_channel_reklama</td>\n",
       "      <td>379</td>\n",
       "    </tr>\n",
       "  </tbody>\n",
       "</table>\n",
       "</div>"
      ],
      "text/plain": [
       "                    source  user_id\n",
       "0            yandex_direct      620\n",
       "1    instagram_new_adverts      476\n",
       "2             facebook_ads      391\n",
       "3  youtube_channel_reklama      379"
      ]
     },
     "execution_count": 38,
     "metadata": {},
     "output_type": "execute_result"
    }
   ],
   "source": [
    "project=game_actions.query('strategy == \"project\"').groupby(['source'])[['user_id']].nunique()\\\n",
    "                .sort_values(by='user_id', ascending=False).reset_index()\n",
    "project"
   ]
  },
  {
   "cell_type": "markdown",
   "id": "61a62656",
   "metadata": {},
   "source": [
    "Соединим таблицы"
   ]
  },
  {
   "cell_type": "code",
   "execution_count": 39,
   "id": "37033d1a",
   "metadata": {
    "scrolled": true
   },
   "outputs": [
    {
     "data": {
      "text/html": [
       "<div>\n",
       "<style scoped>\n",
       "    .dataframe tbody tr th:only-of-type {\n",
       "        vertical-align: middle;\n",
       "    }\n",
       "\n",
       "    .dataframe tbody tr th {\n",
       "        vertical-align: top;\n",
       "    }\n",
       "\n",
       "    .dataframe thead th {\n",
       "        text-align: right;\n",
       "    }\n",
       "</style>\n",
       "<table border=\"1\" class=\"dataframe\">\n",
       "  <thead>\n",
       "    <tr style=\"text-align: right;\">\n",
       "      <th></th>\n",
       "      <th>победа над врагом</th>\n",
       "      <th>проект</th>\n",
       "    </tr>\n",
       "    <tr>\n",
       "      <th>source</th>\n",
       "      <th></th>\n",
       "      <th></th>\n",
       "    </tr>\n",
       "  </thead>\n",
       "  <tbody>\n",
       "    <tr>\n",
       "      <th>yandex_direct</th>\n",
       "      <td>1422</td>\n",
       "      <td>620</td>\n",
       "    </tr>\n",
       "    <tr>\n",
       "      <th>instagram_new_adverts</th>\n",
       "      <td>990</td>\n",
       "      <td>476</td>\n",
       "    </tr>\n",
       "    <tr>\n",
       "      <th>youtube_channel_reklama</th>\n",
       "      <td>780</td>\n",
       "      <td>379</td>\n",
       "    </tr>\n",
       "    <tr>\n",
       "      <th>facebook_ads</th>\n",
       "      <td>759</td>\n",
       "      <td>391</td>\n",
       "    </tr>\n",
       "  </tbody>\n",
       "</table>\n",
       "</div>"
      ],
      "text/plain": [
       "                         победа над врагом  проект\n",
       "source                                            \n",
       "yandex_direct                         1422     620\n",
       "instagram_new_adverts                  990     476\n",
       "youtube_channel_reklama                780     379\n",
       "facebook_ads                           759     391"
      ]
     },
     "execution_count": 39,
     "metadata": {},
     "output_type": "execute_result"
    }
   ],
   "source": [
    "strategy_by_users=winners.merge(project, on='source')\n",
    "strategy_by_users=strategy_by_users.set_index('source')\n",
    "strategy_by_users.columns=['победа над врагом', 'проект']\n",
    "strategy_by_users"
   ]
  },
  {
   "cell_type": "markdown",
   "id": "81d6b8a4",
   "metadata": {},
   "source": [
    "Визуализируем соотношение"
   ]
  },
  {
   "cell_type": "code",
   "execution_count": 40,
   "id": "46db81dd",
   "metadata": {
    "scrolled": true
   },
   "outputs": [
    {
     "data": {
      "image/png": "[encoded data removed]",
      "text/plain": [
       "<Figure size 700x300 with 1 Axes>"
      ]
     },
     "metadata": {},
     "output_type": "display_data"
    }
   ],
   "source": [
    "font = {'family': 'sans-serif',\n",
    "        'color':  'black',\n",
    "        'weight': 'normal',\n",
    "        'size': 11}\n",
    "\n",
    "ax=strategy_by_users.plot(kind='bar', stacked= True, figsize=(7,3))\n",
    "\n",
    "plt.title('Кол-во пользователей по способу прохождения уровня', fontdict=font)\n",
    "\n",
    "plt.xlabel('Источник', fontsize=8)\n",
    "plt.ylabel('Кол-во пользователей', fontsize=8)\n",
    "plt.xticks(rotation=45)\n",
    "plt.xticks(fontsize=8)\n",
    "plt.legend(loc='upper right', bbox_to_anchor=(1.2, 0, 0.3, 1),fontsize=10)\n",
    "for bars in ax.containers:\n",
    "    ax.bar_label(bars, label_type='center', fontsize=8, color='white')\n",
    "sns.despine()"
   ]
  },
  {
   "cell_type": "markdown",
   "id": "4ead40fe",
   "metadata": {},
   "source": [
    "**Вывод**\\\n",
    "Чаще всего пользователи завершают уровень с помощью \"Победы над врагом\".\\\n",
    "Если смотреть в процентном соотношении, то все-таки пользователи, пришедшие из Яндекс, делают это чуть чаще."
   ]
  },
  {
   "cell_type": "markdown",
   "id": "400681df",
   "metadata": {},
   "source": [
    "### 3.4 Определим каналы, из которых пришли самые активные пользователи (строящие наибольшее кол-во зданий)"
   ]
  },
  {
   "cell_type": "markdown",
   "id": "d08d20de",
   "metadata": {},
   "source": [
    "Добавим с таблицу `events_by_users` данные источника"
   ]
  },
  {
   "cell_type": "code",
   "execution_count": 41,
   "id": "6df1b5e0",
   "metadata": {},
   "outputs": [
    {
     "data": {
      "text/html": [
       "<div>\n",
       "<style scoped>\n",
       "    .dataframe tbody tr th:only-of-type {\n",
       "        vertical-align: middle;\n",
       "    }\n",
       "\n",
       "    .dataframe tbody tr th {\n",
       "        vertical-align: top;\n",
       "    }\n",
       "\n",
       "    .dataframe thead th {\n",
       "        text-align: right;\n",
       "    }\n",
       "</style>\n",
       "<table border=\"1\" class=\"dataframe\">\n",
       "  <thead>\n",
       "    <tr style=\"text-align: right;\">\n",
       "      <th></th>\n",
       "      <th>user_id</th>\n",
       "      <th>building</th>\n",
       "      <th>finished_stage_1</th>\n",
       "      <th>project</th>\n",
       "      <th>strategy</th>\n",
       "      <th>source</th>\n",
       "    </tr>\n",
       "  </thead>\n",
       "  <tbody>\n",
       "    <tr>\n",
       "      <th>0</th>\n",
       "      <td>0001f83c-c6ac-4621-b7f0-8a28b283ac30</td>\n",
       "      <td>13.0</td>\n",
       "      <td>NaN</td>\n",
       "      <td>NaN</td>\n",
       "      <td>None</td>\n",
       "      <td>facebook_ads</td>\n",
       "    </tr>\n",
       "    <tr>\n",
       "      <th>1</th>\n",
       "      <td>00151b4f-ba38-44a8-a650-d7cf130a0105</td>\n",
       "      <td>9.0</td>\n",
       "      <td>NaN</td>\n",
       "      <td>NaN</td>\n",
       "      <td>None</td>\n",
       "      <td>yandex_direct</td>\n",
       "    </tr>\n",
       "    <tr>\n",
       "      <th>2</th>\n",
       "      <td>001aaea6-3d14-43f1-8ca8-7f48820f17aa</td>\n",
       "      <td>4.0</td>\n",
       "      <td>NaN</td>\n",
       "      <td>NaN</td>\n",
       "      <td>None</td>\n",
       "      <td>youtube_channel_reklama</td>\n",
       "    </tr>\n",
       "    <tr>\n",
       "      <th>3</th>\n",
       "      <td>001d39dc-366c-4021-9604-6a3b9ff01e25</td>\n",
       "      <td>8.0</td>\n",
       "      <td>1.0</td>\n",
       "      <td>NaN</td>\n",
       "      <td>winner</td>\n",
       "      <td>instagram_new_adverts</td>\n",
       "    </tr>\n",
       "    <tr>\n",
       "      <th>4</th>\n",
       "      <td>002f508f-67b6-479f-814b-b05f00d4e995</td>\n",
       "      <td>12.0</td>\n",
       "      <td>NaN</td>\n",
       "      <td>NaN</td>\n",
       "      <td>None</td>\n",
       "      <td>facebook_ads</td>\n",
       "    </tr>\n",
       "    <tr>\n",
       "      <th>...</th>\n",
       "      <td>...</td>\n",
       "      <td>...</td>\n",
       "      <td>...</td>\n",
       "      <td>...</td>\n",
       "      <td>...</td>\n",
       "      <td>...</td>\n",
       "    </tr>\n",
       "    <tr>\n",
       "      <th>13571</th>\n",
       "      <td>ffef4fed-164c-40e1-bde1-3980f76d0fb5</td>\n",
       "      <td>9.0</td>\n",
       "      <td>1.0</td>\n",
       "      <td>NaN</td>\n",
       "      <td>winner</td>\n",
       "      <td>instagram_new_adverts</td>\n",
       "    </tr>\n",
       "    <tr>\n",
       "      <th>13572</th>\n",
       "      <td>fffab3da-da0e-4e30-ae62-10d0a2e24a4e</td>\n",
       "      <td>16.0</td>\n",
       "      <td>NaN</td>\n",
       "      <td>NaN</td>\n",
       "      <td>None</td>\n",
       "      <td>facebook_ads</td>\n",
       "    </tr>\n",
       "    <tr>\n",
       "      <th>13573</th>\n",
       "      <td>fffb626c-5ab6-47c9-8113-2062a2f18494</td>\n",
       "      <td>9.0</td>\n",
       "      <td>1.0</td>\n",
       "      <td>NaN</td>\n",
       "      <td>winner</td>\n",
       "      <td>yandex_direct</td>\n",
       "    </tr>\n",
       "    <tr>\n",
       "      <th>13574</th>\n",
       "      <td>ffff194a-56b7-4c12-860d-3485242ae7f5</td>\n",
       "      <td>7.0</td>\n",
       "      <td>NaN</td>\n",
       "      <td>NaN</td>\n",
       "      <td>None</td>\n",
       "      <td>instagram_new_adverts</td>\n",
       "    </tr>\n",
       "    <tr>\n",
       "      <th>13575</th>\n",
       "      <td>ffff69cc-fec1-4fd3-9f98-93be1112a6b8</td>\n",
       "      <td>12.0</td>\n",
       "      <td>1.0</td>\n",
       "      <td>1.0</td>\n",
       "      <td>project</td>\n",
       "      <td>facebook_ads</td>\n",
       "    </tr>\n",
       "  </tbody>\n",
       "</table>\n",
       "<p>13576 rows × 6 columns</p>\n",
       "</div>"
      ],
      "text/plain": [
       "                                    user_id  building  finished_stage_1  \\\n",
       "0      0001f83c-c6ac-4621-b7f0-8a28b283ac30      13.0               NaN   \n",
       "1      00151b4f-ba38-44a8-a650-d7cf130a0105       9.0               NaN   \n",
       "2      001aaea6-3d14-43f1-8ca8-7f48820f17aa       4.0               NaN   \n",
       "3      001d39dc-366c-4021-9604-6a3b9ff01e25       8.0               1.0   \n",
       "4      002f508f-67b6-479f-814b-b05f00d4e995      12.0               NaN   \n",
       "...                                     ...       ...               ...   \n",
       "13571  ffef4fed-164c-40e1-bde1-3980f76d0fb5       9.0               1.0   \n",
       "13572  fffab3da-da0e-4e30-ae62-10d0a2e24a4e      16.0               NaN   \n",
       "13573  fffb626c-5ab6-47c9-8113-2062a2f18494       9.0               1.0   \n",
       "13574  ffff194a-56b7-4c12-860d-3485242ae7f5       7.0               NaN   \n",
       "13575  ffff69cc-fec1-4fd3-9f98-93be1112a6b8      12.0               1.0   \n",
       "\n",
       "       project strategy                   source  \n",
       "0          NaN     None             facebook_ads  \n",
       "1          NaN     None            yandex_direct  \n",
       "2          NaN     None  youtube_channel_reklama  \n",
       "3          NaN   winner    instagram_new_adverts  \n",
       "4          NaN     None             facebook_ads  \n",
       "...        ...      ...                      ...  \n",
       "13571      NaN   winner    instagram_new_adverts  \n",
       "13572      NaN     None             facebook_ads  \n",
       "13573      NaN   winner            yandex_direct  \n",
       "13574      NaN     None    instagram_new_adverts  \n",
       "13575      1.0  project             facebook_ads  \n",
       "\n",
       "[13576 rows x 6 columns]"
      ]
     },
     "execution_count": 41,
     "metadata": {},
     "output_type": "execute_result"
    }
   ],
   "source": [
    "events_by_users=events_by_users.merge(user_source, how = 'left', left_on='user_id', right_on='user_id')\n",
    "events_by_users"
   ]
  },
  {
   "cell_type": "markdown",
   "id": "73c88d8b",
   "metadata": {},
   "source": [
    "Посчитаем среднее кол-во зданий на каждого игрока"
   ]
  },
  {
   "cell_type": "code",
   "execution_count": 42,
   "id": "928caba0",
   "metadata": {},
   "outputs": [
    {
     "data": {
      "text/html": [
       "<div>\n",
       "<style scoped>\n",
       "    .dataframe tbody tr th:only-of-type {\n",
       "        vertical-align: middle;\n",
       "    }\n",
       "\n",
       "    .dataframe tbody tr th {\n",
       "        vertical-align: top;\n",
       "    }\n",
       "\n",
       "    .dataframe thead th {\n",
       "        text-align: right;\n",
       "    }\n",
       "</style>\n",
       "<table border=\"1\" class=\"dataframe\">\n",
       "  <thead>\n",
       "    <tr style=\"text-align: right;\">\n",
       "      <th></th>\n",
       "      <th>source</th>\n",
       "      <th>building</th>\n",
       "    </tr>\n",
       "  </thead>\n",
       "  <tbody>\n",
       "    <tr>\n",
       "      <th>0</th>\n",
       "      <td>facebook_ads</td>\n",
       "      <td>9.59</td>\n",
       "    </tr>\n",
       "    <tr>\n",
       "      <th>1</th>\n",
       "      <td>instagram_new_adverts</td>\n",
       "      <td>9.51</td>\n",
       "    </tr>\n",
       "    <tr>\n",
       "      <th>2</th>\n",
       "      <td>yandex_direct</td>\n",
       "      <td>9.35</td>\n",
       "    </tr>\n",
       "    <tr>\n",
       "      <th>3</th>\n",
       "      <td>youtube_channel_reklama</td>\n",
       "      <td>9.30</td>\n",
       "    </tr>\n",
       "  </tbody>\n",
       "</table>\n",
       "</div>"
      ],
      "text/plain": [
       "                    source  building\n",
       "0             facebook_ads      9.59\n",
       "1    instagram_new_adverts      9.51\n",
       "2            yandex_direct      9.35\n",
       "3  youtube_channel_reklama      9.30"
      ]
     },
     "execution_count": 42,
     "metadata": {},
     "output_type": "execute_result"
    }
   ],
   "source": [
    "active_users=events_by_users.groupby(['source'])[['building']].mean().round(2)\\\n",
    "                .sort_values(by='building', ascending=False).reset_index()\n",
    "\n",
    "active_users"
   ]
  },
  {
   "cell_type": "code",
   "execution_count": 43,
   "id": "89e43f95",
   "metadata": {
    "scrolled": true
   },
   "outputs": [
    {
     "data": {
      "image/png": "[encoded data removed]",
      "text/plain": [
       "<Figure size 500x200 with 1 Axes>"
      ]
     },
     "metadata": {},
     "output_type": "display_data"
    }
   ],
   "source": [
    "# зададим параметры шрифта для заголовка\n",
    "font = {'family': 'sans-serif',\n",
    "        'color':  'black',\n",
    "        'weight': 'normal',\n",
    "        'size': 11}\n",
    "# зададим цветовой стиль для всех дальнейших графиков matplotlib\n",
    "sns.set_palette('muted')\n",
    "\n",
    "# зададим размер графика\n",
    "plt.figure(figsize=(5,2))\n",
    "\n",
    "# построим график\n",
    "ax=sns.barplot(x='source', y='building', data=active_users)\n",
    "\n",
    "# зададим название графика и шрифт\n",
    "plt.title('Среднее кол-во зданий по источникам', fontdict=font)\n",
    "\n",
    "# зададим названия осей и размер шрифта\n",
    "plt.xlabel('Источник', fontsize=8)\n",
    "plt.ylabel('Кол-во зданий', fontsize=8)\n",
    "plt.ylim(9, 9.6)\n",
    "\n",
    "# зададим направление и размер для подписей столбцов\n",
    "plt.xticks(rotation=45, fontsize=7)\n",
    "\n",
    "# добавим аннотацию к столбцам, зададим размер и положение\n",
    "ax.bar_label(ax.containers[0], label_type='edge',fontsize=8, padding=-12)\n",
    "\n",
    "# оставим только ось x и y, без контура графика\n",
    "sns.despine()\n",
    "\n",
    "# выведем график\n",
    "plt.show()"
   ]
  },
  {
   "cell_type": "markdown",
   "id": "f6d13a52",
   "metadata": {},
   "source": [
    "Визуализируем среднее кол-во зданий с помощью ящика с усами"
   ]
  },
  {
   "cell_type": "code",
   "execution_count": 44,
   "id": "d413a5c1",
   "metadata": {
    "scrolled": true
   },
   "outputs": [
    {
     "data": {
      "image/png": "[encoded data removed]",
      "text/plain": [
       "<Figure size 600x300 with 1 Axes>"
      ]
     },
     "metadata": {},
     "output_type": "display_data"
    }
   ],
   "source": [
    "plt.figure(figsize=(6,3))\n",
    "sns.boxplot(x='source', y='building', data=events_by_users)\n",
    "plt.title('Среднее кол-во зданий на игрока по источникам', fontdict=font)\n",
    "plt.xlabel('Источник', fontsize=9)\n",
    "plt.ylabel('Среднее кол-во зданий', fontsize=9)\n",
    "plt.xticks(rotation=90, fontsize=9)\n",
    "sns.despine()"
   ]
  },
  {
   "cell_type": "markdown",
   "id": "0b478ac6",
   "metadata": {},
   "source": [
    "**Вывод**\\\n",
    "Среднее кол-во зданий по источникам отличается не сильно.\\\n",
    "Но самые активные пользователи - из источника Facebook Ads. Наименее активные - Youtube."
   ]
  },
  {
   "cell_type": "markdown",
   "id": "fe59b78e",
   "metadata": {},
   "source": [
    "### 3.5 Определим, какая категория игроков строит больше зданий"
   ]
  },
  {
   "cell_type": "code",
   "execution_count": 45,
   "id": "db7ab3d6",
   "metadata": {
    "scrolled": true
   },
   "outputs": [
    {
     "data": {
      "image/png": "[encoded data removed]",
      "text/plain": [
       "<Figure size 400x300 with 1 Axes>"
      ]
     },
     "metadata": {},
     "output_type": "display_data"
    }
   ],
   "source": [
    "buildings_by_strategy=events_by_users.groupby(['strategy'])[['building']].mean().round()\\\n",
    "                .sort_values(by='building', ascending=False)\n",
    "buildings_by_strategy.plot(kind='bar',title='Среднее кол-во зданий на игрока', figsize=(4,3), legend=False)\n",
    "plt.xlabel('Стратегия')\n",
    "plt.ylabel('Среднее кол-во зданий');"
   ]
  },
  {
   "cell_type": "markdown",
   "id": "3f03963d",
   "metadata": {},
   "source": [
    "**Вывод**\\\n",
    "Игроки, которые завершают уровень через реализацию проекта, наиболее активны и в среднем строят 13 зданий.\\\n",
    "Игроки, завершающие уровень через победу над игроком, - около 9 зданий.\\\n",
    "Эти данные пригодятся для дальнейшего принятия решения по монетизации."
   ]
  },
  {
   "cell_type": "markdown",
   "id": "d480edea",
   "metadata": {},
   "source": [
    "### 3.6 Выясним, как распределены расходы по рекламным источникам"
   ]
  },
  {
   "cell_type": "markdown",
   "id": "241bbc05",
   "metadata": {},
   "source": [
    "Построим агрегированную таблицу с суммой расходов на каждый источник привлечения пользователя"
   ]
  },
  {
   "cell_type": "code",
   "execution_count": 46,
   "id": "8e99b1ce",
   "metadata": {},
   "outputs": [
    {
     "data": {
      "text/html": [
       "<div>\n",
       "<style scoped>\n",
       "    .dataframe tbody tr th:only-of-type {\n",
       "        vertical-align: middle;\n",
       "    }\n",
       "\n",
       "    .dataframe tbody tr th {\n",
       "        vertical-align: top;\n",
       "    }\n",
       "\n",
       "    .dataframe thead th {\n",
       "        text-align: right;\n",
       "    }\n",
       "</style>\n",
       "<table border=\"1\" class=\"dataframe\">\n",
       "  <thead>\n",
       "    <tr style=\"text-align: right;\">\n",
       "      <th></th>\n",
       "      <th>source</th>\n",
       "      <th>expenses</th>\n",
       "      <th>ratio</th>\n",
       "    </tr>\n",
       "  </thead>\n",
       "  <tbody>\n",
       "    <tr>\n",
       "      <th>2</th>\n",
       "      <td>yandex_direct</td>\n",
       "      <td>2233.1</td>\n",
       "      <td>29.4</td>\n",
       "    </tr>\n",
       "    <tr>\n",
       "      <th>1</th>\n",
       "      <td>instagram_new_adverts</td>\n",
       "      <td>2161.4</td>\n",
       "      <td>28.4</td>\n",
       "    </tr>\n",
       "    <tr>\n",
       "      <th>0</th>\n",
       "      <td>facebook_ads</td>\n",
       "      <td>2140.9</td>\n",
       "      <td>28.2</td>\n",
       "    </tr>\n",
       "    <tr>\n",
       "      <th>3</th>\n",
       "      <td>youtube_channel_reklama</td>\n",
       "      <td>1068.1</td>\n",
       "      <td>14.0</td>\n",
       "    </tr>\n",
       "  </tbody>\n",
       "</table>\n",
       "</div>"
      ],
      "text/plain": [
       "                    source  expenses  ratio\n",
       "2            yandex_direct    2233.1   29.4\n",
       "1    instagram_new_adverts    2161.4   28.4\n",
       "0             facebook_ads    2140.9   28.2\n",
       "3  youtube_channel_reklama    1068.1   14.0"
      ]
     },
     "execution_count": 46,
     "metadata": {},
     "output_type": "execute_result"
    }
   ],
   "source": [
    "# сгруппируем данные по источникам и посчитаем кол-во привлеченных пользователей в каждом\n",
    "costs=ad_costs.groupby('source', as_index=False).agg(expenses=('cost', 'sum')).round(1)\n",
    "\n",
    "# добавим столбец с %, который занимает каждый исчтоник\n",
    "costs['ratio'] = (costs['expenses'] / costs['expenses'].sum()*100).round(1)\n",
    "\n",
    "# отсортируем данные по кол-ву юзеров по убыванию\n",
    "costs = costs.sort_values(by='expenses', ascending=False)\n",
    "\n",
    "costs"
   ]
  },
  {
   "cell_type": "markdown",
   "id": "1d9cf05e",
   "metadata": {},
   "source": [
    "Визуализируем таблицу"
   ]
  },
  {
   "cell_type": "code",
   "execution_count": 47,
   "id": "1a77829a",
   "metadata": {
    "scrolled": true
   },
   "outputs": [
    {
     "data": {
      "image/png": "[encoded data removed]",
      "text/plain": [
       "<Figure size 500x400 with 1 Axes>"
      ]
     },
     "metadata": {},
     "output_type": "display_data"
    }
   ],
   "source": [
    "font = {'family': 'sans-serif',\n",
    "        'color':  'black',\n",
    "        'weight': 'normal',\n",
    "        'size': 11}\n",
    "\n",
    "plt.figure(figsize=(5,4))\n",
    "\n",
    "# построим график, отобразим %, установим цвет, вынесем из \"круга\" долю самой большой категории\n",
    "ax=plt.pie(x='expenses', data=costs,  autopct = '%.1f%%',\\\n",
    "           colors=sns.color_palette('Paired'))\n",
    "plt.title('Распределение затрат по рекламным источникам', fontdict=font)\n",
    "\n",
    "# добавим легенду, укажем расположение на графике и размер\n",
    "plt.legend(labels=costs['source'], loc='right', bbox_to_anchor=(1.4, 0, 0.3, 1),fontsize=9)\n",
    "\n",
    "plt.show()"
   ]
  },
  {
   "cell_type": "markdown",
   "id": "2227972f",
   "metadata": {},
   "source": [
    "**Вывод**\\\n",
    "Больше всего средств вкладывается в рекламу Яндекс Директ.\\\n",
    "Расходы на Инстаграм и Фейсбук распределены примерно равномерно.\\\n",
    "Меньше всего вкладывается в Ютуб - примерно в 2 раза меньше, чем в остальные источники."
   ]
  },
  {
   "cell_type": "markdown",
   "id": "535f2fe1",
   "metadata": {},
   "source": [
    "### 3.7 Выясним, сколько в среднем стоило привлечение одного пользователя (CAC) из каждого источника"
   ]
  },
  {
   "cell_type": "code",
   "execution_count": 48,
   "id": "090a058d",
   "metadata": {
    "scrolled": true
   },
   "outputs": [
    {
     "data": {
      "text/html": [
       "<div>\n",
       "<style scoped>\n",
       "    .dataframe tbody tr th:only-of-type {\n",
       "        vertical-align: middle;\n",
       "    }\n",
       "\n",
       "    .dataframe tbody tr th {\n",
       "        vertical-align: top;\n",
       "    }\n",
       "\n",
       "    .dataframe thead th {\n",
       "        text-align: right;\n",
       "    }\n",
       "</style>\n",
       "<table border=\"1\" class=\"dataframe\">\n",
       "  <thead>\n",
       "    <tr style=\"text-align: right;\">\n",
       "      <th></th>\n",
       "      <th>source</th>\n",
       "      <th>users</th>\n",
       "      <th>ratio</th>\n",
       "    </tr>\n",
       "  </thead>\n",
       "  <tbody>\n",
       "    <tr>\n",
       "      <th>2</th>\n",
       "      <td>yandex_direct</td>\n",
       "      <td>4817</td>\n",
       "      <td>35.0</td>\n",
       "    </tr>\n",
       "    <tr>\n",
       "      <th>1</th>\n",
       "      <td>instagram_new_adverts</td>\n",
       "      <td>3347</td>\n",
       "      <td>25.0</td>\n",
       "    </tr>\n",
       "    <tr>\n",
       "      <th>0</th>\n",
       "      <td>facebook_ads</td>\n",
       "      <td>2726</td>\n",
       "      <td>20.0</td>\n",
       "    </tr>\n",
       "    <tr>\n",
       "      <th>3</th>\n",
       "      <td>youtube_channel_reklama</td>\n",
       "      <td>2686</td>\n",
       "      <td>20.0</td>\n",
       "    </tr>\n",
       "  </tbody>\n",
       "</table>\n",
       "</div>"
      ],
      "text/plain": [
       "                    source  users  ratio\n",
       "2            yandex_direct   4817   35.0\n",
       "1    instagram_new_adverts   3347   25.0\n",
       "0             facebook_ads   2726   20.0\n",
       "3  youtube_channel_reklama   2686   20.0"
      ]
     },
     "execution_count": 48,
     "metadata": {},
     "output_type": "execute_result"
    }
   ],
   "source": [
    "users_by_source"
   ]
  },
  {
   "cell_type": "code",
   "execution_count": 49,
   "id": "4148c876",
   "metadata": {},
   "outputs": [
    {
     "data": {
      "text/html": [
       "<div>\n",
       "<style scoped>\n",
       "    .dataframe tbody tr th:only-of-type {\n",
       "        vertical-align: middle;\n",
       "    }\n",
       "\n",
       "    .dataframe tbody tr th {\n",
       "        vertical-align: top;\n",
       "    }\n",
       "\n",
       "    .dataframe thead th {\n",
       "        text-align: right;\n",
       "    }\n",
       "</style>\n",
       "<table border=\"1\" class=\"dataframe\">\n",
       "  <thead>\n",
       "    <tr style=\"text-align: right;\">\n",
       "      <th></th>\n",
       "      <th>source</th>\n",
       "      <th>expenses</th>\n",
       "      <th>ratio</th>\n",
       "    </tr>\n",
       "  </thead>\n",
       "  <tbody>\n",
       "    <tr>\n",
       "      <th>2</th>\n",
       "      <td>yandex_direct</td>\n",
       "      <td>2233.1</td>\n",
       "      <td>29.4</td>\n",
       "    </tr>\n",
       "    <tr>\n",
       "      <th>1</th>\n",
       "      <td>instagram_new_adverts</td>\n",
       "      <td>2161.4</td>\n",
       "      <td>28.4</td>\n",
       "    </tr>\n",
       "    <tr>\n",
       "      <th>0</th>\n",
       "      <td>facebook_ads</td>\n",
       "      <td>2140.9</td>\n",
       "      <td>28.2</td>\n",
       "    </tr>\n",
       "    <tr>\n",
       "      <th>3</th>\n",
       "      <td>youtube_channel_reklama</td>\n",
       "      <td>1068.1</td>\n",
       "      <td>14.0</td>\n",
       "    </tr>\n",
       "  </tbody>\n",
       "</table>\n",
       "</div>"
      ],
      "text/plain": [
       "                    source  expenses  ratio\n",
       "2            yandex_direct    2233.1   29.4\n",
       "1    instagram_new_adverts    2161.4   28.4\n",
       "0             facebook_ads    2140.9   28.2\n",
       "3  youtube_channel_reklama    1068.1   14.0"
      ]
     },
     "execution_count": 49,
     "metadata": {},
     "output_type": "execute_result"
    }
   ],
   "source": [
    "costs"
   ]
  },
  {
   "cell_type": "markdown",
   "id": "9d37a2aa",
   "metadata": {},
   "source": [
    "Объединим таблицы с кол-вом привлеченных пользователей и затратами по источникам"
   ]
  },
  {
   "cell_type": "code",
   "execution_count": 50,
   "id": "1d12e2ae",
   "metadata": {
    "scrolled": false
   },
   "outputs": [
    {
     "data": {
      "text/html": [
       "<style type=\"text/css\">\n",
       "#T_7a447_row0_col1 {\n",
       "  background-color: #ad0826;\n",
       "  color: #f1f1f1;\n",
       "}\n",
       "#T_7a447_row0_col2 {\n",
       "  background-color: #148e4b;\n",
       "  color: #f1f1f1;\n",
       "}\n",
       "#T_7a447_row0_col3, #T_7a447_row2_col1, #T_7a447_row2_col2 {\n",
       "  background-color: #006837;\n",
       "  color: #f1f1f1;\n",
       "}\n",
       "#T_7a447_row1_col1 {\n",
       "  background-color: #fdb365;\n",
       "  color: #000000;\n",
       "}\n",
       "#T_7a447_row1_col2 {\n",
       "  background-color: #0f8446;\n",
       "  color: #f1f1f1;\n",
       "}\n",
       "#T_7a447_row1_col3 {\n",
       "  background-color: #c3e67d;\n",
       "  color: #000000;\n",
       "}\n",
       "#T_7a447_row2_col3 {\n",
       "  background-color: #e65036;\n",
       "  color: #f1f1f1;\n",
       "}\n",
       "#T_7a447_row3_col1, #T_7a447_row3_col2, #T_7a447_row3_col3 {\n",
       "  background-color: #a50026;\n",
       "  color: #f1f1f1;\n",
       "}\n",
       "</style>\n",
       "<table id=\"T_7a447\">\n",
       "  <thead>\n",
       "    <tr>\n",
       "      <th class=\"blank level0\" >&nbsp;</th>\n",
       "      <th id=\"T_7a447_level0_col0\" class=\"col_heading level0 col0\" >source</th>\n",
       "      <th id=\"T_7a447_level0_col1\" class=\"col_heading level0 col1\" >users</th>\n",
       "      <th id=\"T_7a447_level0_col2\" class=\"col_heading level0 col2\" >expenses</th>\n",
       "      <th id=\"T_7a447_level0_col3\" class=\"col_heading level0 col3\" >cac</th>\n",
       "    </tr>\n",
       "  </thead>\n",
       "  <tbody>\n",
       "    <tr>\n",
       "      <th id=\"T_7a447_level0_row0\" class=\"row_heading level0 row0\" >2</th>\n",
       "      <td id=\"T_7a447_row0_col0\" class=\"data row0 col0\" >facebook_ads</td>\n",
       "      <td id=\"T_7a447_row0_col1\" class=\"data row0 col1\" >2726</td>\n",
       "      <td id=\"T_7a447_row0_col2\" class=\"data row0 col2\" >2140.900000</td>\n",
       "      <td id=\"T_7a447_row0_col3\" class=\"data row0 col3\" >0.790000</td>\n",
       "    </tr>\n",
       "    <tr>\n",
       "      <th id=\"T_7a447_level0_row1\" class=\"row_heading level0 row1\" >1</th>\n",
       "      <td id=\"T_7a447_row1_col0\" class=\"data row1 col0\" >instagram_new_adverts</td>\n",
       "      <td id=\"T_7a447_row1_col1\" class=\"data row1 col1\" >3347</td>\n",
       "      <td id=\"T_7a447_row1_col2\" class=\"data row1 col2\" >2161.400000</td>\n",
       "      <td id=\"T_7a447_row1_col3\" class=\"data row1 col3\" >0.650000</td>\n",
       "    </tr>\n",
       "    <tr>\n",
       "      <th id=\"T_7a447_level0_row2\" class=\"row_heading level0 row2\" >0</th>\n",
       "      <td id=\"T_7a447_row2_col0\" class=\"data row2 col0\" >yandex_direct</td>\n",
       "      <td id=\"T_7a447_row2_col1\" class=\"data row2 col1\" >4817</td>\n",
       "      <td id=\"T_7a447_row2_col2\" class=\"data row2 col2\" >2233.100000</td>\n",
       "      <td id=\"T_7a447_row2_col3\" class=\"data row2 col3\" >0.460000</td>\n",
       "    </tr>\n",
       "    <tr>\n",
       "      <th id=\"T_7a447_level0_row3\" class=\"row_heading level0 row3\" >3</th>\n",
       "      <td id=\"T_7a447_row3_col0\" class=\"data row3 col0\" >youtube_channel_reklama</td>\n",
       "      <td id=\"T_7a447_row3_col1\" class=\"data row3 col1\" >2686</td>\n",
       "      <td id=\"T_7a447_row3_col2\" class=\"data row3 col2\" >1068.100000</td>\n",
       "      <td id=\"T_7a447_row3_col3\" class=\"data row3 col3\" >0.400000</td>\n",
       "    </tr>\n",
       "  </tbody>\n",
       "</table>\n"
      ],
      "text/plain": [
       "<pandas.io.formats.style.Styler at 0x23650695e40>"
      ]
     },
     "execution_count": 50,
     "metadata": {},
     "output_type": "execute_result"
    }
   ],
   "source": [
    "cac=users_by_source.merge(costs, on='source').drop(['ratio_x', 'ratio_y'], axis=1) \n",
    "cac['cac']=(cac['expenses']/cac['users']).round(2)\n",
    "cac=cac.sort_values(by='cac',ascending=False).style.background_gradient(axis=0, cmap='RdYlGn')\n",
    "cac"
   ]
  },
  {
   "cell_type": "markdown",
   "id": "0740fcb7",
   "metadata": {},
   "source": [
    "**Вывод**\\\n",
    "Самая высокая стоимость за привлеченного пользователя - по каналу Фейсбук.\\\n",
    "Самая низкая - по каналу Ютуб."
   ]
  },
  {
   "cell_type": "markdown",
   "id": "fc82c9f8",
   "metadata": {},
   "source": [
    "## 4 Проверка статистических гипотез"
   ]
  },
  {
   "cell_type": "markdown",
   "id": "7f027bc0",
   "metadata": {},
   "source": [
    "**Гипотеза №1**: время завершения уровня различается в зависимости способа прохождения\n",
    "\n",
    "`H0` - среднее время завершения уровня **одинаково** вне зависимости способа прохождения уровня\\\n",
    "`H1` - среднее время завершения уровня **различается** в зависимости способа прохождения уровня"
   ]
  },
  {
   "cell_type": "markdown",
   "id": "4575cefe",
   "metadata": {},
   "source": [
    "Подготовим таблицу - рассчитаем среднее время прохождения уровня для каждого игрока"
   ]
  },
  {
   "cell_type": "code",
   "execution_count": 51,
   "id": "d43a32c4",
   "metadata": {
    "scrolled": true
   },
   "outputs": [
    {
     "data": {
      "text/html": [
       "<div>\n",
       "<style scoped>\n",
       "    .dataframe tbody tr th:only-of-type {\n",
       "        vertical-align: middle;\n",
       "    }\n",
       "\n",
       "    .dataframe tbody tr th {\n",
       "        vertical-align: top;\n",
       "    }\n",
       "\n",
       "    .dataframe thead th {\n",
       "        text-align: right;\n",
       "    }\n",
       "</style>\n",
       "<table border=\"1\" class=\"dataframe\">\n",
       "  <thead>\n",
       "    <tr style=\"text-align: right;\">\n",
       "      <th></th>\n",
       "      <th>user_id</th>\n",
       "      <th>source</th>\n",
       "      <th>strategy</th>\n",
       "      <th>min_date</th>\n",
       "      <th>max_date</th>\n",
       "      <th>level_time</th>\n",
       "    </tr>\n",
       "  </thead>\n",
       "  <tbody>\n",
       "    <tr>\n",
       "      <th>0</th>\n",
       "      <td>ffff69cc-fec1-4fd3-9f98-93be1112a6b8</td>\n",
       "      <td>facebook_ads</td>\n",
       "      <td>project</td>\n",
       "      <td>2020-05-08 06:57:30</td>\n",
       "      <td>2020-05-25 14:05:51</td>\n",
       "      <td>17 days 07:08:21</td>\n",
       "    </tr>\n",
       "    <tr>\n",
       "      <th>1</th>\n",
       "      <td>fffb626c-5ab6-47c9-8113-2062a2f18494</td>\n",
       "      <td>yandex_direct</td>\n",
       "      <td>winner</td>\n",
       "      <td>2020-05-04 02:05:09</td>\n",
       "      <td>2020-05-12 13:01:52</td>\n",
       "      <td>8 days 10:56:43</td>\n",
       "    </tr>\n",
       "    <tr>\n",
       "      <th>2</th>\n",
       "      <td>ffef4fed-164c-40e1-bde1-3980f76d0fb5</td>\n",
       "      <td>instagram_new_adverts</td>\n",
       "      <td>winner</td>\n",
       "      <td>2020-05-04 01:58:59</td>\n",
       "      <td>2020-05-11 22:15:54</td>\n",
       "      <td>7 days 20:16:55</td>\n",
       "    </tr>\n",
       "    <tr>\n",
       "      <th>3</th>\n",
       "      <td>ffe810f4-1a1f-464b-924d-6f120b0cb8df</td>\n",
       "      <td>youtube_channel_reklama</td>\n",
       "      <td>winner</td>\n",
       "      <td>2020-05-04 17:46:05</td>\n",
       "      <td>2020-05-18 02:03:36</td>\n",
       "      <td>13 days 08:17:31</td>\n",
       "    </tr>\n",
       "    <tr>\n",
       "      <th>4</th>\n",
       "      <td>ffd002f3-3545-423e-8dba-0c6a2d48a3aa</td>\n",
       "      <td>yandex_direct</td>\n",
       "      <td>winner</td>\n",
       "      <td>2020-05-06 06:34:18</td>\n",
       "      <td>2020-05-19 04:03:24</td>\n",
       "      <td>12 days 21:29:06</td>\n",
       "    </tr>\n",
       "    <tr>\n",
       "      <th>...</th>\n",
       "      <td>...</td>\n",
       "      <td>...</td>\n",
       "      <td>...</td>\n",
       "      <td>...</td>\n",
       "      <td>...</td>\n",
       "      <td>...</td>\n",
       "    </tr>\n",
       "    <tr>\n",
       "      <th>5812</th>\n",
       "      <td>0056c007-c082-43cc-bdef-afc49bca4cb9</td>\n",
       "      <td>instagram_new_adverts</td>\n",
       "      <td>winner</td>\n",
       "      <td>2020-05-10 11:49:47</td>\n",
       "      <td>2020-05-16 13:48:39</td>\n",
       "      <td>6 days 01:58:52</td>\n",
       "    </tr>\n",
       "    <tr>\n",
       "      <th>5813</th>\n",
       "      <td>00464e5e-28ed-4be6-bf44-517ef7b3937b</td>\n",
       "      <td>yandex_direct</td>\n",
       "      <td>winner</td>\n",
       "      <td>2020-05-04 08:35:29</td>\n",
       "      <td>2020-05-15 16:02:01</td>\n",
       "      <td>11 days 07:26:32</td>\n",
       "    </tr>\n",
       "    <tr>\n",
       "      <th>5814</th>\n",
       "      <td>004074f8-251a-4776-922c-8348dca1a2f6</td>\n",
       "      <td>facebook_ads</td>\n",
       "      <td>winner</td>\n",
       "      <td>2020-05-04 01:07:35</td>\n",
       "      <td>2020-05-16 19:57:40</td>\n",
       "      <td>12 days 18:50:05</td>\n",
       "    </tr>\n",
       "    <tr>\n",
       "      <th>5815</th>\n",
       "      <td>003ee7e8-6356-4286-a715-62f22a18d2a1</td>\n",
       "      <td>instagram_new_adverts</td>\n",
       "      <td>winner</td>\n",
       "      <td>2020-05-05 08:31:04</td>\n",
       "      <td>2020-05-17 21:47:49</td>\n",
       "      <td>12 days 13:16:45</td>\n",
       "    </tr>\n",
       "    <tr>\n",
       "      <th>5816</th>\n",
       "      <td>001d39dc-366c-4021-9604-6a3b9ff01e25</td>\n",
       "      <td>instagram_new_adverts</td>\n",
       "      <td>winner</td>\n",
       "      <td>2020-05-05 21:02:05</td>\n",
       "      <td>2020-05-12 07:40:47</td>\n",
       "      <td>6 days 10:38:42</td>\n",
       "    </tr>\n",
       "  </tbody>\n",
       "</table>\n",
       "<p>5817 rows × 6 columns</p>\n",
       "</div>"
      ],
      "text/plain": [
       "                                   user_id                   source strategy  \\\n",
       "0     ffff69cc-fec1-4fd3-9f98-93be1112a6b8             facebook_ads  project   \n",
       "1     fffb626c-5ab6-47c9-8113-2062a2f18494            yandex_direct   winner   \n",
       "2     ffef4fed-164c-40e1-bde1-3980f76d0fb5    instagram_new_adverts   winner   \n",
       "3     ffe810f4-1a1f-464b-924d-6f120b0cb8df  youtube_channel_reklama   winner   \n",
       "4     ffd002f3-3545-423e-8dba-0c6a2d48a3aa            yandex_direct   winner   \n",
       "...                                    ...                      ...      ...   \n",
       "5812  0056c007-c082-43cc-bdef-afc49bca4cb9    instagram_new_adverts   winner   \n",
       "5813  00464e5e-28ed-4be6-bf44-517ef7b3937b            yandex_direct   winner   \n",
       "5814  004074f8-251a-4776-922c-8348dca1a2f6             facebook_ads   winner   \n",
       "5815  003ee7e8-6356-4286-a715-62f22a18d2a1    instagram_new_adverts   winner   \n",
       "5816  001d39dc-366c-4021-9604-6a3b9ff01e25    instagram_new_adverts   winner   \n",
       "\n",
       "                min_date            max_date       level_time  \n",
       "0    2020-05-08 06:57:30 2020-05-25 14:05:51 17 days 07:08:21  \n",
       "1    2020-05-04 02:05:09 2020-05-12 13:01:52  8 days 10:56:43  \n",
       "2    2020-05-04 01:58:59 2020-05-11 22:15:54  7 days 20:16:55  \n",
       "3    2020-05-04 17:46:05 2020-05-18 02:03:36 13 days 08:17:31  \n",
       "4    2020-05-06 06:34:18 2020-05-19 04:03:24 12 days 21:29:06  \n",
       "...                  ...                 ...              ...  \n",
       "5812 2020-05-10 11:49:47 2020-05-16 13:48:39  6 days 01:58:52  \n",
       "5813 2020-05-04 08:35:29 2020-05-15 16:02:01 11 days 07:26:32  \n",
       "5814 2020-05-04 01:07:35 2020-05-16 19:57:40 12 days 18:50:05  \n",
       "5815 2020-05-05 08:31:04 2020-05-17 21:47:49 12 days 13:16:45  \n",
       "5816 2020-05-05 21:02:05 2020-05-12 07:40:47  6 days 10:38:42  \n",
       "\n",
       "[5817 rows x 6 columns]"
      ]
     },
     "execution_count": 51,
     "metadata": {},
     "output_type": "execute_result"
    }
   ],
   "source": [
    "average_time=game_actions.query('strategy.notna()').groupby(['user_id', 'source', 'strategy']) .agg({'date':['min','max']}) \\\n",
    "                .sort_values(by='user_id', ascending=False).reset_index()\n",
    "average_time.columns=['user_id', 'source', 'strategy', 'min_date', 'max_date']\n",
    "average_time['level_time']=average_time['max_date']-average_time['min_date']\n",
    "average_time"
   ]
  },
  {
   "cell_type": "code",
   "execution_count": 52,
   "id": "2e154016",
   "metadata": {},
   "outputs": [],
   "source": [
    "# переведем столбец со среднем временем прохождения в нужный формат\n",
    "average_time['level_time']=average_time['level_time'].astype('timedelta64[D]')"
   ]
  },
  {
   "cell_type": "markdown",
   "id": "13e25189",
   "metadata": {},
   "source": [
    "Подготовим выборки для проведения теста"
   ]
  },
  {
   "cell_type": "code",
   "execution_count": 53,
   "id": "33229edb",
   "metadata": {},
   "outputs": [],
   "source": [
    "winners_level_time=average_time.query('strategy==\"winner\"')['level_time']\n",
    "project_level_time=average_time.query('strategy==\"project\"')['level_time']"
   ]
  },
  {
   "cell_type": "markdown",
   "id": "62ea04b3",
   "metadata": {},
   "source": [
    "Проверим, как распределены выборки"
   ]
  },
  {
   "cell_type": "code",
   "execution_count": 54,
   "id": "c4eb59ff",
   "metadata": {},
   "outputs": [
    {
     "data": {
      "image/png": "[encoded data removed]",
      "text/plain": [
       "<Figure size 600x200 with 1 Axes>"
      ]
     },
     "metadata": {},
     "output_type": "display_data"
    }
   ],
   "source": [
    "ax=winners_level_time.plot(kind='hist',title='Среднее время прохождения уровня по стратегии \"Winner\"',color='Green', figsize=(6,2))\n",
    "plt.xlabel('Время')\n",
    "plt.ylabel('Частота');"
   ]
  },
  {
   "cell_type": "code",
   "execution_count": 55,
   "id": "745bed70",
   "metadata": {},
   "outputs": [
    {
     "data": {
      "image/png": "[encoded data removed]",
      "text/plain": [
       "<Figure size 600x200 with 1 Axes>"
      ]
     },
     "metadata": {},
     "output_type": "display_data"
    }
   ],
   "source": [
    "project_level_time.plot(kind='hist',title='Среднее время прохождения уровня по стратегии \"Project\"',color='Orange', figsize=(6,2))\n",
    "plt.xlabel('Время')\n",
    "plt.ylabel('Частота');"
   ]
  },
  {
   "cell_type": "markdown",
   "id": "7f0720b7",
   "metadata": {},
   "source": [
    "Поскольку мы будем проверять гипотезу о равенстве средних двух ген совокупностей, и дисперсии двух выборок распределены нормально, для проведения теста выберем метод - t-критерий Стьюдента"
   ]
  },
  {
   "cell_type": "code",
   "execution_count": 56,
   "id": "d560a07c",
   "metadata": {},
   "outputs": [
    {
     "name": "stdout",
     "output_type": "stream",
     "text": [
      "Среднее время завершения уровня методом Winner: 10.606175651733738\n",
      "Среднее время завершения уровня методом Project: 12.963022508038586\n",
      "p-value = 1.8882835392369192e-97\n",
      "Отвергаем нулевую гипотезу - среднее время завершения уровня различается в зависимости способа прохождения уровня\n"
     ]
    }
   ],
   "source": [
    "# зададим уровень статистической значимости \n",
    "alpha = .05\n",
    "\n",
    "# для проверки гипотезы о равенстве двух ген совокупностей используем метод st.ttest_ind\n",
    "results = st.ttest_ind (winners_level_time, project_level_time)\n",
    "\n",
    "# выведем значение p-value на экран\n",
    "print(\"Среднее время завершения уровня методом Winner:\", winners_level_time.mean())\n",
    "print(\"Среднее время завершения уровня методом Project:\", project_level_time.mean())\n",
    "print(\"p-value =\", results.pvalue)\n",
    "\n",
    "if results.pvalue < alpha:\n",
    "    print(\"Отвергаем нулевую гипотезу - среднее время завершения уровня различается в зависимости способа прохождения уровня\")\n",
    "else:\n",
    "    print(\"Не получилось отвергнуть нулевую гипотезу - среднее время завершения уровня одинаково вне зависимости способа прохождения уровня\")"
   ]
  },
  {
   "cell_type": "markdown",
   "id": "f9a7aa99",
   "metadata": {},
   "source": [
    "**Вывод**\\\n",
    "Как показывает тест, способ прохождения уровня влияет на среднее время его прохождения.\\\n",
    "Среднее время прохождения уровня через реализацию проекта - 13,4 дней.\\\n",
    "Среднее время прохождения уровня через победу над игроком - 11,05 дней.\\\n",
    "Эта статистически значимое различие."
   ]
  },
  {
   "cell_type": "markdown",
   "id": "b7e6870f",
   "metadata": {},
   "source": [
    "**Гипотеза №2**: пользователи, пришедшие из источника Yandex Direct, более вовлеченены в игру (чаще завершают уровень 1 и переходят на следующий уровень), чем пользователи, пришедшие из источника Youtube Reklama\n",
    "\n",
    "`H0` - доля вовлеченных пользователей, пришедших из источника Яндекс и Ютуб, **одинаковы**\\\n",
    "`H1` - между долей вовлеченных пользователей, пришедших из источника Яндекс и Ютуб, **есть значимая разница**"
   ]
  },
  {
   "cell_type": "markdown",
   "id": "122f424e",
   "metadata": {},
   "source": [
    "В рамках теста мы будем проверять гипотезу о равенстве долей, для проведения теста будем использовать z-критерий Фишера."
   ]
  },
  {
   "cell_type": "markdown",
   "id": "9b103733",
   "metadata": {},
   "source": [
    "Выведем таблицы, данные из которых будем использовать для проведения теста"
   ]
  },
  {
   "cell_type": "code",
   "execution_count": 57,
   "id": "f2d25a99",
   "metadata": {},
   "outputs": [
    {
     "data": {
      "text/html": [
       "<div>\n",
       "<style scoped>\n",
       "    .dataframe tbody tr th:only-of-type {\n",
       "        vertical-align: middle;\n",
       "    }\n",
       "\n",
       "    .dataframe tbody tr th {\n",
       "        vertical-align: top;\n",
       "    }\n",
       "\n",
       "    .dataframe thead th {\n",
       "        text-align: right;\n",
       "    }\n",
       "</style>\n",
       "<table border=\"1\" class=\"dataframe\">\n",
       "  <thead>\n",
       "    <tr style=\"text-align: right;\">\n",
       "      <th></th>\n",
       "      <th>source</th>\n",
       "      <th>users</th>\n",
       "      <th>ratio</th>\n",
       "    </tr>\n",
       "  </thead>\n",
       "  <tbody>\n",
       "    <tr>\n",
       "      <th>2</th>\n",
       "      <td>yandex_direct</td>\n",
       "      <td>4817</td>\n",
       "      <td>35.0</td>\n",
       "    </tr>\n",
       "    <tr>\n",
       "      <th>1</th>\n",
       "      <td>instagram_new_adverts</td>\n",
       "      <td>3347</td>\n",
       "      <td>25.0</td>\n",
       "    </tr>\n",
       "    <tr>\n",
       "      <th>0</th>\n",
       "      <td>facebook_ads</td>\n",
       "      <td>2726</td>\n",
       "      <td>20.0</td>\n",
       "    </tr>\n",
       "    <tr>\n",
       "      <th>3</th>\n",
       "      <td>youtube_channel_reklama</td>\n",
       "      <td>2686</td>\n",
       "      <td>20.0</td>\n",
       "    </tr>\n",
       "  </tbody>\n",
       "</table>\n",
       "</div>"
      ],
      "text/plain": [
       "                    source  users  ratio\n",
       "2            yandex_direct   4817   35.0\n",
       "1    instagram_new_adverts   3347   25.0\n",
       "0             facebook_ads   2726   20.0\n",
       "3  youtube_channel_reklama   2686   20.0"
      ]
     },
     "metadata": {},
     "output_type": "display_data"
    },
    {
     "data": {
      "text/html": [
       "<div>\n",
       "<style scoped>\n",
       "    .dataframe tbody tr th:only-of-type {\n",
       "        vertical-align: middle;\n",
       "    }\n",
       "\n",
       "    .dataframe tbody tr th {\n",
       "        vertical-align: top;\n",
       "    }\n",
       "\n",
       "    .dataframe thead th {\n",
       "        text-align: right;\n",
       "    }\n",
       "</style>\n",
       "<table border=\"1\" class=\"dataframe\">\n",
       "  <thead>\n",
       "    <tr style=\"text-align: right;\">\n",
       "      <th></th>\n",
       "      <th>завершили уровень</th>\n",
       "      <th>не завершили уровень</th>\n",
       "    </tr>\n",
       "    <tr>\n",
       "      <th>source</th>\n",
       "      <th></th>\n",
       "      <th></th>\n",
       "    </tr>\n",
       "  </thead>\n",
       "  <tbody>\n",
       "    <tr>\n",
       "      <th>yandex_direct</th>\n",
       "      <td>2042</td>\n",
       "      <td>2775</td>\n",
       "    </tr>\n",
       "    <tr>\n",
       "      <th>instagram_new_adverts</th>\n",
       "      <td>1466</td>\n",
       "      <td>1881</td>\n",
       "    </tr>\n",
       "    <tr>\n",
       "      <th>youtube_channel_reklama</th>\n",
       "      <td>1159</td>\n",
       "      <td>1527</td>\n",
       "    </tr>\n",
       "    <tr>\n",
       "      <th>facebook_ads</th>\n",
       "      <td>1150</td>\n",
       "      <td>1576</td>\n",
       "    </tr>\n",
       "  </tbody>\n",
       "</table>\n",
       "</div>"
      ],
      "text/plain": [
       "                         завершили уровень  не завершили уровень\n",
       "source                                                          \n",
       "yandex_direct                         2042                  2775\n",
       "instagram_new_adverts                 1466                  1881\n",
       "youtube_channel_reklama               1159                  1527\n",
       "facebook_ads                          1150                  1576"
      ]
     },
     "metadata": {},
     "output_type": "display_data"
    }
   ],
   "source": [
    "display (users_by_source)\n",
    "display (finished_not_users)"
   ]
  },
  {
   "cell_type": "code",
   "execution_count": 58,
   "id": "d112102a",
   "metadata": {},
   "outputs": [
    {
     "name": "stdout",
     "output_type": "stream",
     "text": [
      "p-value:  0.5244230207169549\n",
      "Не получилось отвергнуть нулевую гипотезу - доли вовлеченных пользователей, пришедших из источника Яндекс и Ютуб, одинаковы\n"
     ]
    }
   ],
   "source": [
    "alpha = .05 # критический уровень статистической значимости\n",
    "\n",
    "successes = np.array([2042, 1159])\n",
    "trials = np.array([4817, 2686])\n",
    "\n",
    "# пропорция успехов в первой группе:\n",
    "p1 = successes[0]/trials[0]\n",
    "\n",
    "# пропорция успехов во второй группе:\n",
    "p2 = successes[1]/trials[1]\n",
    "\n",
    "# пропорция успехов в комбинированном датасете:\n",
    "p_combined = (successes[0] + successes[1]) / (trials[0] + trials[1])\n",
    "\n",
    "# разница пропорций в датасетах\n",
    "difference = p1 - p2 \n",
    "\n",
    "# считаем статистику в ст.отклонениях стандартного нормального распределения\n",
    "z_value = difference / mth.sqrt(p_combined * (1 - p_combined) * (1/trials[0] + 1/trials[1]))\n",
    "\n",
    "# задаем стандартное нормальное распределение (среднее 0, ст.отклонение 1)\n",
    "distr = st.norm(0, 1)\n",
    "\n",
    "p_value = (1 - distr.cdf(abs(z_value))) * 2\n",
    "\n",
    "print('p-value: ', p_value)\n",
    "\n",
    "if p_value < alpha:\n",
    "    print('Отвергаем нулевую гипотезу - между долей вовлеченных пользователей, пришедших из источника Яндекс и Ютуб, есть значимая разница')\n",
    "else:\n",
    "    print('Не получилось отвергнуть нулевую гипотезу - доли вовлеченных пользователей, пришедших из источника Яндекс и Ютуб, одинаковы') "
   ]
  },
  {
   "cell_type": "markdown",
   "id": "ccafc576",
   "metadata": {},
   "source": [
    "**Вывод**\\\n",
    "Как показывает тест, мы не можем утверждать, что пользователи, пришедшие из канала Ютуб, завершают уровень чаще, чем пользователи, пришедшие из канала Яндекс.\\\n",
    "Статистически значимого различия между долей вовлеченных пользователей этих двух источников нет."
   ]
  },
  {
   "cell_type": "markdown",
   "id": "cc93624c",
   "metadata": {},
   "source": [
    "# Общий вывод"
   ]
  },
  {
   "cell_type": "markdown",
   "id": "27070f12",
   "metadata": {},
   "source": [
    "По итогам анализа, мы выяснили, что на данный момент пользователи игры \"Космические братья\" привлекаются из 4 источников.\\\n",
    "Разберем каналы детально.\n",
    "* **Фейсбук** - бюджет на рекламу один их самых высоких - 28%, доля пользователей - 20%, `самая высокая САС - 0.79`. `Среднее кол-во зданий на пользователя - 9.59`.\n",
    "* **Инстаграм** - бюджет на рекламу один их самых высоких - 28%, доля пользователей - 24.7%, САС - 0.65. Среднее `кол-во зданий на пользователя - 9.51`.\n",
    "* **Яндекс** - на Яндекс тратится бОльшая часть бюджета (29%), из этого канала приходит наибольшая часть пользователя (35%), САС одна из самых низких (0.46, `кол-во зданий на пользователя - 9.35`.\n",
    "* **Ютуб** - на рекламу тратится меньшая часть бюджета (14%), доля пользователей - 19.8%, `самая низкая САС - 0.40`. `Среднее кол-во зданий на пользователя - 9.3`."
   ]
  },
  {
   "cell_type": "markdown",
   "id": "4e4b0d37",
   "metadata": {},
   "source": [
    "На текущий момент больше всего средств вкладывается в канал **Яндекс**, и на мой взгляд, это оправдано: средняя стоимость привлечения пользователя ниже на целых 40%, чем, например, стоимость привлечения с Фейсбука, а активность игроков почти не отличается (да, в среднем пользователь строит 9.35 зданий за 1 уровень, это один из низких показателей, но это всего на 2% меньше, чем строит пользователь Фейсбука - самый активный пользователь). `Я бы рекомендовала продолжить вкладывать в данный канал. Он один из самых эффективных`.\n",
    "\n",
    "**Ютуб**, на мой взгляд, недооцененный и наиболее перспективный из всех канал. Во-первых - самый низкий САС, на целых 49% ниже, чем Фейсбук. При этом активность игроков данного канала также почти идентична (да, в среднем пользователь строит 9.3 зданий за 1 уровень, и это самый низкий показатель, но это всего на 3% меньше, чем строит пользователь Фейсбука - самый активный пользователь). При комбинации факторов: всего на 3% меньше построек, но на 49% ниже САС, я бы рекомендовала обратить внимание на этот канал и перераспределить часть бюджета в его пользу. `Данный канал, на мой взгляд, самый эффективный`.\n",
    "\n",
    "**Инстаграм** и **Фейсбук** - самые дорогостоящие каналы. Да, его пользователи в среднем чуть активнее, чем пользователи из канала Яндекс и Ютуб, но принимая во внимание тот фактор, что стоимость привлечения пользователя примерно на 50% дороже, `я бы рекомендовала сократить объем вложений в данные каналы`.\n"
   ]
  },
  {
   "cell_type": "markdown",
   "id": "212b4e69",
   "metadata": {},
   "source": [
    "Рекомендации о приоретизации источников я сделала на основании нескольких факторов - активности пользователей данных каналов, и стоимости их привлечения. Показатель вовлеченности пользователей в финальном выводе я не упоминаю, так как мы выяснили ранее, что доля завершающих Уровень 1 игроков по всем каналам примерно одинаковая - 42-44%."
   ]
  }
 ],
 "metadata": {
  "ExecuteTimeLog": [
   {
    "duration": 80,
    "start_time": "2023-04-22T09:00:46.436Z"
   }
  ],
  "kernelspec": {
   "display_name": "Python 3 (ipykernel)",
   "language": "python",
   "name": "python3"
  },
  "language_info": {
   "codemirror_mode": {
    "name": "ipython",
    "version": 3
   },
   "file_extension": ".py",
   "mimetype": "text/x-python",
   "name": "python",
   "nbconvert_exporter": "python",
   "pygments_lexer": "ipython3",
   "version": "3.10.9"
  },
  "toc": {
   "base_numbering": 1,
   "nav_menu": {},
   "number_sections": true,
   "sideBar": true,
   "skip_h1_title": true,
   "title_cell": "Table of Contents",
   "title_sidebar": "Contents",
   "toc_cell": false,
   "toc_position": {},
   "toc_section_display": true,
   "toc_window_display": true
  }
 },
 "nbformat": 4,
 "nbformat_minor": 5
}
